{
    "nbformat_minor": 1, 
    "cells": [
        {
            "source": "# Background and business problem", 
            "cell_type": "markdown", 
            "metadata": {}
        }, 
        {
            "source": "\nIn this project I will analyze the Baltimore crime data to explore the crime rates and relative safety of Baltimore neighborhoods for the home buyers and real estate developers. Buying a home is one of the single most important household expenditures that a family could incur, often once in a life time. There are many important factors that might affect the decision of the household to purchase a home. Of these the safety of the neighborhood is one the most important considerations that needs due attention and thorough research before deciding to own your next home. In this paper although our target is primarily home buyers, real estate developers will also be interested on the findings of the analysis as the safety of the neighborhood directly affects the housing market and profitability of the real estate.\nAccording to neighborhood scout report, a crime rate of 71 per one thousand residents, Baltimore has one of the highest crime rates in America compared to all communities of all sizes - from the smallest towns to the very largest cities [1]. But in many cases the crime risk assessment across the neighborhoods significantly vary even in a given geographic location. Thus, clustering and segmentation of the neighborhood based on the crime rates would be very important for someone who is planning to own a dream home in this vibrant historic city. In this project I will explore the distribution of total crimes across the neighborhoods and use K-nearest neighborhood (KNN) clustering technique to identify clusters of the safest neighborhoods based on crime rates. Once the safest neighborhoods have been determined, I will use foursquare location data and explore nearby venues and other amenities that might also influence the decision of buying a home such as schools, hospitals, transportation and shopping centers. \n\nReference:\n1.\thttps://www.neighborhoodscout.com/blog/top100dangerous", 
            "cell_type": "markdown", 
            "metadata": {
                "collapsed": true
            }
        }, 
        {
            "source": "# Data Source and description", 
            "cell_type": "markdown", 
            "metadata": {}
        }, 
        {
            "source": "For this project I will use victim-based crime data compiled by Baltimore policy department (BPD) and presented through open Baltimore project for public use. The data is geocoded to the approximate latitude/longitude location of the incident and it doesn\u2019t necessarily reflect the exact location of the incident. The data author warns any attempt to match the approximate location of the incident to an exact address is strictly prohibited. The original data comprises about 255010 rows and 16 variables. For this analysis I will use incidents reported from January 2014 to April 2019 when last downloaded from open Baltimore website. The original data set is stored in csv format. According to author\u2019s description the data is a victim-based preliminary report which is subjected to changed. Therefore, the analyst discourages any use of these findings for public consumption. I used this data only for training purpose to demonstrate analytic skills for the data science specialization course capstone. ", 
            "cell_type": "markdown", 
            "metadata": {}
        }, 
        {
            "source": "# Data cleaning and preparation", 
            "cell_type": "markdown", 
            "metadata": {}
        }, 
        {
            "source": "Data cleaning is of the most important task that takes large amount of time in a data Science projects. The first step in data cleaning process is importing the required libraries and the dataset from external data file. For this analysis, I imported pandas and other python libraries and read the spreadsheet data file into pandas data frame using the following code. \n", 
            "cell_type": "markdown", 
            "metadata": {}
        }, 
        {
            "execution_count": 3, 
            "cell_type": "code", 
            "metadata": {}, 
            "outputs": [], 
            "source": "import pandas as pd\nimport itertools\nimport numpy as np\nimport matplotlib.pyplot as plt\nfrom sklearn.cluster import KMeans \nfrom sklearn.datasets.samples_generator import make_blobs \nfrom sklearn import preprocessing\n%matplotlib inline"
        }, 
        {
            "execution_count": 4, 
            "cell_type": "code", 
            "metadata": {}, 
            "outputs": [], 
            "source": "# The code was removed by Watson Studio for sharing."
        }, 
        {
            "execution_count": 5, 
            "cell_type": "code", 
            "metadata": {}, 
            "outputs": [
                {
                    "execution_count": 5, 
                    "metadata": {}, 
                    "data": {
                        "text/html": "<div>\n<style scoped>\n    .dataframe tbody tr th:only-of-type {\n        vertical-align: middle;\n    }\n\n    .dataframe tbody tr th {\n        vertical-align: top;\n    }\n\n    .dataframe thead th {\n        text-align: right;\n    }\n</style>\n<table border=\"1\" class=\"dataframe\">\n  <thead>\n    <tr style=\"text-align: right;\">\n      <th></th>\n      <th>CrimeDate</th>\n      <th>CrimeTime</th>\n      <th>CrimeCode</th>\n      <th>Location</th>\n      <th>Description</th>\n      <th>Inside/Outside</th>\n      <th>Weapon</th>\n      <th>Post</th>\n      <th>District</th>\n      <th>Neighborhood</th>\n      <th>Longitude</th>\n      <th>Latitude</th>\n      <th>Location 1</th>\n      <th>Premise</th>\n      <th>vri_name1</th>\n      <th>Total Incidents</th>\n    </tr>\n  </thead>\n  <tbody>\n    <tr>\n      <th>0</th>\n      <td>4/27/2019</td>\n      <td>9:23:00 AM</td>\n      <td>4E</td>\n      <td>500 N CHARLES ST</td>\n      <td>COMMON ASSAULT</td>\n      <td>NaN</td>\n      <td>NaN</td>\n      <td>142.0</td>\n      <td>CENTRAL</td>\n      <td>Mount Vernon</td>\n      <td>-76.61555</td>\n      <td>39.29518</td>\n      <td>NaN</td>\n      <td>NaN</td>\n      <td>NaN</td>\n      <td>1</td>\n    </tr>\n    <tr>\n      <th>1</th>\n      <td>4/27/2019</td>\n      <td>9:23:00 AM</td>\n      <td>4E</td>\n      <td>500 N CHARLES ST</td>\n      <td>COMMON ASSAULT</td>\n      <td>I</td>\n      <td>NaN</td>\n      <td>142.0</td>\n      <td>CENTRAL</td>\n      <td>Mount Vernon</td>\n      <td>-76.61555</td>\n      <td>39.29518</td>\n      <td>NaN</td>\n      <td>OTHER - INSIDE</td>\n      <td>NaN</td>\n      <td>1</td>\n    </tr>\n    <tr>\n      <th>2</th>\n      <td>4/27/2019</td>\n      <td>9:15:00 AM</td>\n      <td>4C</td>\n      <td>3300 BARCLAY ST</td>\n      <td>AGG. ASSAULT</td>\n      <td>O</td>\n      <td>OTHER</td>\n      <td>512.0</td>\n      <td>NORTHERN</td>\n      <td>Oakenshawe</td>\n      <td>-76.61105</td>\n      <td>39.32910</td>\n      <td>NaN</td>\n      <td>STREET</td>\n      <td>NaN</td>\n      <td>1</td>\n    </tr>\n    <tr>\n      <th>3</th>\n      <td>4/27/2019</td>\n      <td>9:15:00 AM</td>\n      <td>5A</td>\n      <td>3300 SAINT AMBROSE AVE</td>\n      <td>BURGLARY</td>\n      <td>NaN</td>\n      <td>NaN</td>\n      <td>614.0</td>\n      <td>NORTHWESTERN</td>\n      <td>Central Park Heights</td>\n      <td>-76.67051</td>\n      <td>39.34205</td>\n      <td>NaN</td>\n      <td>NaN</td>\n      <td>NaN</td>\n      <td>1</td>\n    </tr>\n    <tr>\n      <th>4</th>\n      <td>4/27/2019</td>\n      <td>9:12:00 AM</td>\n      <td>4E</td>\n      <td>3900 WALNUT AVE</td>\n      <td>COMMON ASSAULT</td>\n      <td>I</td>\n      <td>NaN</td>\n      <td>424.0</td>\n      <td>NORTHEASTERN</td>\n      <td>Overlea</td>\n      <td>-76.53204</td>\n      <td>39.36015</td>\n      <td>NaN</td>\n      <td>ROW/TOWNHOUSE-OCC</td>\n      <td>NaN</td>\n      <td>1</td>\n    </tr>\n  </tbody>\n</table>\n</div>", 
                        "text/plain": "   CrimeDate   CrimeTime CrimeCode                Location     Description  \\\n0  4/27/2019  9:23:00 AM        4E        500 N CHARLES ST  COMMON ASSAULT   \n1  4/27/2019  9:23:00 AM        4E        500 N CHARLES ST  COMMON ASSAULT   \n2  4/27/2019  9:15:00 AM        4C         3300 BARCLAY ST    AGG. ASSAULT   \n3  4/27/2019  9:15:00 AM        5A  3300 SAINT AMBROSE AVE        BURGLARY   \n4  4/27/2019  9:12:00 AM        4E         3900 WALNUT AVE  COMMON ASSAULT   \n\n  Inside/Outside Weapon   Post      District          Neighborhood  Longitude  \\\n0            NaN    NaN  142.0       CENTRAL          Mount Vernon  -76.61555   \n1              I    NaN  142.0       CENTRAL          Mount Vernon  -76.61555   \n2              O  OTHER  512.0      NORTHERN            Oakenshawe  -76.61105   \n3            NaN    NaN  614.0  NORTHWESTERN  Central Park Heights  -76.67051   \n4              I    NaN  424.0  NORTHEASTERN               Overlea  -76.53204   \n\n   Latitude  Location 1            Premise vri_name1  Total Incidents  \n0  39.29518         NaN                NaN       NaN                1  \n1  39.29518         NaN     OTHER - INSIDE       NaN                1  \n2  39.32910         NaN             STREET       NaN                1  \n3  39.34205         NaN                NaN       NaN                1  \n4  39.36015         NaN  ROW/TOWNHOUSE-OCC       NaN                1  "
                    }, 
                    "output_type": "execute_result"
                }
            ], 
            "source": "# Fetch the file\nmy_file = project.get_file(\"BPD_Data.csv\")\n\n# Read the CSV data file from the object storage into a pandas DataFrame\nmy_file.seek(0)\nmyData=pd.read_csv(my_file)\nmyData.head()"
        }, 
        {
            "source": "In the next step I inspected the dataset such as the dimension, variables and types using python built in function. Since we I am not going use all the variables for this analysis, I select the variables and generate a subset of the data using the following code.", 
            "cell_type": "markdown", 
            "metadata": {}
        }, 
        {
            "execution_count": 6, 
            "cell_type": "code", 
            "metadata": {}, 
            "outputs": [
                {
                    "execution_count": 6, 
                    "metadata": {}, 
                    "data": {
                        "text/plain": "(255010, 16)"
                    }, 
                    "output_type": "execute_result"
                }
            ], 
            "source": "myData.shape"
        }, 
        {
            "execution_count": 7, 
            "cell_type": "code", 
            "metadata": {}, 
            "outputs": [
                {
                    "execution_count": 7, 
                    "metadata": {}, 
                    "data": {
                        "text/html": "<div>\n<style scoped>\n    .dataframe tbody tr th:only-of-type {\n        vertical-align: middle;\n    }\n\n    .dataframe tbody tr th {\n        vertical-align: top;\n    }\n\n    .dataframe thead th {\n        text-align: right;\n    }\n</style>\n<table border=\"1\" class=\"dataframe\">\n  <thead>\n    <tr style=\"text-align: right;\">\n      <th></th>\n      <th>Description</th>\n      <th>District</th>\n      <th>Neighborhood</th>\n      <th>Longitude</th>\n      <th>Latitude</th>\n      <th>Total Incidents</th>\n    </tr>\n  </thead>\n  <tbody>\n    <tr>\n      <th>0</th>\n      <td>COMMON ASSAULT</td>\n      <td>CENTRAL</td>\n      <td>Mount Vernon</td>\n      <td>-76.61555</td>\n      <td>39.29518</td>\n      <td>1</td>\n    </tr>\n    <tr>\n      <th>1</th>\n      <td>COMMON ASSAULT</td>\n      <td>CENTRAL</td>\n      <td>Mount Vernon</td>\n      <td>-76.61555</td>\n      <td>39.29518</td>\n      <td>1</td>\n    </tr>\n    <tr>\n      <th>2</th>\n      <td>AGG. ASSAULT</td>\n      <td>NORTHERN</td>\n      <td>Oakenshawe</td>\n      <td>-76.61105</td>\n      <td>39.32910</td>\n      <td>1</td>\n    </tr>\n    <tr>\n      <th>3</th>\n      <td>BURGLARY</td>\n      <td>NORTHWESTERN</td>\n      <td>Central Park Heights</td>\n      <td>-76.67051</td>\n      <td>39.34205</td>\n      <td>1</td>\n    </tr>\n    <tr>\n      <th>4</th>\n      <td>COMMON ASSAULT</td>\n      <td>NORTHEASTERN</td>\n      <td>Overlea</td>\n      <td>-76.53204</td>\n      <td>39.36015</td>\n      <td>1</td>\n    </tr>\n  </tbody>\n</table>\n</div>", 
                        "text/plain": "      Description      District          Neighborhood  Longitude  Latitude  \\\n0  COMMON ASSAULT       CENTRAL          Mount Vernon  -76.61555  39.29518   \n1  COMMON ASSAULT       CENTRAL          Mount Vernon  -76.61555  39.29518   \n2    AGG. ASSAULT      NORTHERN            Oakenshawe  -76.61105  39.32910   \n3        BURGLARY  NORTHWESTERN  Central Park Heights  -76.67051  39.34205   \n4  COMMON ASSAULT  NORTHEASTERN               Overlea  -76.53204  39.36015   \n\n   Total Incidents  \n0                1  \n1                1  \n2                1  \n3                1  \n4                1  "
                    }, 
                    "output_type": "execute_result"
                }
            ], 
            "source": "New_Data=myData[['Description','District', 'Neighborhood','Longitude', 'Latitude','Total Incidents']]\nNew_Data.head()"
        }, 
        {
            "source": "As part of preparation of the data I grouped the data frame by neighborhood and aggregate the total number of incidents for each group. A close examination of the location information revealed that only slight variation observed for each incident. Thus, I tried to use the first longitude and latitude while aggregating the data by neighborhood.", 
            "cell_type": "markdown", 
            "metadata": {}
        }, 
        {
            "execution_count": 8, 
            "cell_type": "code", 
            "metadata": {}, 
            "outputs": [
                {
                    "execution_count": 8, 
                    "metadata": {}, 
                    "data": {
                        "text/html": "<div>\n<style scoped>\n    .dataframe tbody tr th:only-of-type {\n        vertical-align: middle;\n    }\n\n    .dataframe tbody tr th {\n        vertical-align: top;\n    }\n\n    .dataframe thead th {\n        text-align: right;\n    }\n</style>\n<table border=\"1\" class=\"dataframe\">\n  <thead>\n    <tr style=\"text-align: right;\">\n      <th></th>\n      <th>Neighborhood</th>\n      <th>Total Incidents</th>\n      <th>District</th>\n      <th>Longitude</th>\n      <th>Latitude</th>\n    </tr>\n  </thead>\n  <tbody>\n    <tr>\n      <th>0</th>\n      <td>Abell</td>\n      <td>654</td>\n      <td>NORTHERN</td>\n      <td>-76.61091</td>\n      <td>39.32821</td>\n    </tr>\n    <tr>\n      <th>1</th>\n      <td>Allendale</td>\n      <td>1180</td>\n      <td>SOUTHWESTERN</td>\n      <td>-76.68061</td>\n      <td>39.29281</td>\n    </tr>\n    <tr>\n      <th>2</th>\n      <td>Arcadia</td>\n      <td>267</td>\n      <td>NORTHEASTERN</td>\n      <td>-76.57346</td>\n      <td>39.33873</td>\n    </tr>\n    <tr>\n      <th>3</th>\n      <td>Arlington</td>\n      <td>1089</td>\n      <td>NORTHWESTERN</td>\n      <td>-76.68454</td>\n      <td>39.35247</td>\n    </tr>\n    <tr>\n      <th>4</th>\n      <td>Armistead Gardens</td>\n      <td>793</td>\n      <td>NORTHEASTERN</td>\n      <td>-76.56099</td>\n      <td>39.30815</td>\n    </tr>\n  </tbody>\n</table>\n</div>", 
                        "text/plain": "        Neighborhood  Total Incidents      District  Longitude  Latitude\n0              Abell              654      NORTHERN  -76.61091  39.32821\n1          Allendale             1180  SOUTHWESTERN  -76.68061  39.29281\n2            Arcadia              267  NORTHEASTERN  -76.57346  39.33873\n3          Arlington             1089  NORTHWESTERN  -76.68454  39.35247\n4  Armistead Gardens              793  NORTHEASTERN  -76.56099  39.30815"
                    }, 
                    "output_type": "execute_result"
                }
            ], 
            "source": "# Group the data frame by Nieghberhood and item and aggregate the total number of incidents from each group\nCrime_data1=New_Data.groupby(\n    ['Neighborhood']\n).agg(\n    {\n         'Total Incidents':sum,    # Sum of incidents per Neighborhood\n         'District': 'first',  # get the first of district\n         'Longitude': 'first',  # get the first Longitude value\n         'Latitude': 'first'  # get the first Longitude value\n    }\n)\nCrime_data2=Crime_data1.reset_index()\nCrime_data2.head()"
        }, 
        {
            "source": "Finally, I calculated the crime rate per 1000 population for each neighborhood. The dimension of the final dataset will be 283 records for each neighborhood and 6 variables needed for the analysis. I performed descriptive statistics to explore the data and check any anomality, outlier and missing observations. \nFor this analysis I tried to segment the neighborhood based on their crime rates and identify the safest neighborhoods. I will also make use of foursquare data to explore the venues such as shopping centers, schools, hospitals and other amenities within the best neighborhood identified.\n", 
            "cell_type": "markdown", 
            "metadata": {}
        }, 
        {
            "execution_count": 13, 
            "cell_type": "code", 
            "metadata": {}, 
            "outputs": [
                {
                    "output_type": "stream", 
                    "name": "stdout", 
                    "text": "(283, 6)\n"
                }, 
                {
                    "execution_count": 13, 
                    "metadata": {}, 
                    "data": {
                        "text/html": "<div>\n<style scoped>\n    .dataframe tbody tr th:only-of-type {\n        vertical-align: middle;\n    }\n\n    .dataframe tbody tr th {\n        vertical-align: top;\n    }\n\n    .dataframe thead th {\n        text-align: right;\n    }\n</style>\n<table border=\"1\" class=\"dataframe\">\n  <thead>\n    <tr style=\"text-align: right;\">\n      <th></th>\n      <th>Neighborhood</th>\n      <th>Total Incidents</th>\n      <th>District</th>\n      <th>Longitude</th>\n      <th>Latitude</th>\n      <th>CrimeRate</th>\n    </tr>\n  </thead>\n  <tbody>\n    <tr>\n      <th>0</th>\n      <td>Abell</td>\n      <td>654</td>\n      <td>NORTHERN</td>\n      <td>-76.61091</td>\n      <td>39.32821</td>\n      <td>2.59</td>\n    </tr>\n    <tr>\n      <th>1</th>\n      <td>Allendale</td>\n      <td>1180</td>\n      <td>SOUTHWESTERN</td>\n      <td>-76.68061</td>\n      <td>39.29281</td>\n      <td>4.68</td>\n    </tr>\n    <tr>\n      <th>2</th>\n      <td>Arcadia</td>\n      <td>267</td>\n      <td>NORTHEASTERN</td>\n      <td>-76.57346</td>\n      <td>39.33873</td>\n      <td>1.06</td>\n    </tr>\n    <tr>\n      <th>3</th>\n      <td>Arlington</td>\n      <td>1089</td>\n      <td>NORTHWESTERN</td>\n      <td>-76.68454</td>\n      <td>39.35247</td>\n      <td>4.32</td>\n    </tr>\n    <tr>\n      <th>4</th>\n      <td>Armistead Gardens</td>\n      <td>793</td>\n      <td>NORTHEASTERN</td>\n      <td>-76.56099</td>\n      <td>39.30815</td>\n      <td>3.14</td>\n    </tr>\n  </tbody>\n</table>\n</div>", 
                        "text/plain": "        Neighborhood  Total Incidents      District  Longitude  Latitude  \\\n0              Abell              654      NORTHERN  -76.61091  39.32821   \n1          Allendale             1180  SOUTHWESTERN  -76.68061  39.29281   \n2            Arcadia              267  NORTHEASTERN  -76.57346  39.33873   \n3          Arlington             1089  NORTHWESTERN  -76.68454  39.35247   \n4  Armistead Gardens              793  NORTHEASTERN  -76.56099  39.30815   \n\n   CrimeRate  \n0       2.59  \n1       4.68  \n2       1.06  \n3       4.32  \n4       3.14  "
                    }, 
                    "output_type": "execute_result"
                }
            ], 
            "source": "Crime_data2['CrimeRate']= 1000*(Crime_data2['Total Incidents']/Crime_data2['Total Incidents'].sum())\nCrime_data3=Crime_data2.round({\"CrimeRate\":2})\nprint(Crime_data3.shape)\nCrime_data3.head()"
        }, 
        {
            "execution_count": null, 
            "cell_type": "code", 
            "metadata": {}, 
            "outputs": [], 
            "source": ""
        }
    ], 
    "metadata": {
        "kernelspec": {
            "display_name": "Python 3.6", 
            "name": "python3", 
            "language": "python"
        }, 
        "language_info": {
            "mimetype": "text/x-python", 
            "nbconvert_exporter": "python", 
            "version": "3.6.8", 
            "name": "python", 
            "file_extension": ".py", 
            "pygments_lexer": "ipython3", 
            "codemirror_mode": {
                "version": 3, 
                "name": "ipython"
            }
        }
    }, 
    "nbformat": 4
}