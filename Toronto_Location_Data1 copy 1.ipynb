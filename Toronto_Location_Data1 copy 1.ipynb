{
    "nbformat_minor": 1, 
    "cells": [
        {
            "execution_count": 2, 
            "cell_type": "code", 
            "metadata": {}, 
            "outputs": [], 
            "source": "#start by importing the necessary modules (pandas, numpy, matplotlib.pyplot, seaborn)\nimport pandas as pd\nimport numpy as np\nimport matplotlib.pyplot as plt\nimport seaborn as sns\n%matplotlib inline"
        }, 
        {
            "execution_count": 3, 
            "cell_type": "code", 
            "metadata": {}, 
            "outputs": [], 
            "source": "#The urllib.request module is used to open URLs\n#The Beautiful Soup package is used to extract data from html files\nfrom urllib.request import urlopen\nfrom bs4 import BeautifulSoup\n\n#After importing necessary modules, specify the URL containing the dataset and \n#pass it to urlopen() to get the html of the page\nurl = \"https://en.wikipedia.org/wiki/List_of_postal_codes_of_Canada:_M\"\nhtml = urlopen(url)"
        }, 
        {
            "execution_count": 4, 
            "cell_type": "code", 
            "metadata": {}, 
            "outputs": [
                {
                    "output_type": "stream", 
                    "name": "stdout", 
                    "text": "<title>List of postal codes of Canada: M - Wikipedia</title>\n"
                }
            ], 
            "source": "#Next step is to create a Beautiful Soup object from the html. \n#This is done by passing the html to the BeautifulSoup() function\n#The soup object allows you to extract interesting information\nsoup = BeautifulSoup(html, 'lxml')\ntype(soup)\n# Get the title\ntitle = soup.title\nprint(title)"
        }, 
        {
            "execution_count": 5, 
            "cell_type": "code", 
            "metadata": {}, 
            "outputs": [], 
            "source": "# Print out the text\ntext = soup.get_text()\n#print(soup.text)"
        }, 
        {
            "execution_count": 7, 
            "cell_type": "code", 
            "metadata": {}, 
            "outputs": [], 
            "source": "# Print out the text\ntext = soup.get_text()\n#print(soup.text)"
        }, 
        {
            "execution_count": 10, 
            "cell_type": "code", 
            "metadata": {}, 
            "outputs": [
                {
                    "output_type": "stream", 
                    "name": "stdout", 
                    "text": "None\n#mw-head\n#p-search\n/wiki/Postal_codes_in_Canada\n/wiki/Toronto\n/wiki/Ontario\n/wiki/Canada_Post\n#cite_note-1\n/wiki/Mobile_app\n/wiki/Smartphones\n/wiki/IPhone\n/wiki/BlackBerry\n#cite_note-2\n/wiki/CD-ROM\n/wiki/Toronto\n/wiki/Postal_codes_in_Canada#Forward_sortation_areas\n/w/index.php?title=List_of_postal_codes_of_Canada:_M&action=edit&section=1\n/wiki/North_York\n/wiki/Parkwoods\n/wiki/North_York\n/wiki/Victoria_Village\n/wiki/Downtown_Toronto\n/wiki/Harbourfront_(Toronto)\n/wiki/Downtown_Toronto\n/wiki/Regent_Park\n/wiki/North_York\n/wiki/Lawrence_Heights\n/wiki/North_York\n/wiki/Lawrence_Manor\n/wiki/Queen%27s_Park_(Toronto)\n/wiki/Etobicoke\n/wiki/Islington_Avenue\n/wiki/Scarborough,_Toronto\n/wiki/Rouge,_Toronto\n/wiki/Scarborough,_Toronto\n/wiki/Malvern,_Toronto\n/wiki/North_York\n/wiki/East_York\n/wiki/Woodbine_Gardens\n/wiki/East_York\n/wiki/Parkview_Hill\n/wiki/Downtown_Toronto\n/wiki/Downtown_Toronto\n/wiki/North_York\n/wiki/Etobicoke\n/wiki/Etobicoke\n/wiki/Islington,_Toronto\n/wiki/Etobicoke\n/wiki/Etobicoke\n/wiki/Princess_Gardens\n/wiki/Etobicoke\n/wiki/West_Deane_Park\n/wiki/Scarborough,_Toronto\n/wiki/Highland_Creek_(Toronto)\n/wiki/Scarborough,_Toronto\n/wiki/Rouge_Hill\n/wiki/Scarborough,_Toronto\n/wiki/Port_Union,_Toronto\n/wiki/North_York\n/wiki/Flemingdon_Park\n/wiki/North_York\n/wiki/East_York\n/wiki/Woodbine_Heights\n/wiki/Downtown_Toronto\n/wiki/St._James_Town\n/wiki/Humewood-Cedarvale\n/wiki/Etobicoke\n/wiki/Etobicoke\n/wiki/Etobicoke\n/wiki/Markland_Wood\n/wiki/Etobicoke\n/wiki/Scarborough,_Toronto\n/wiki/Scarborough,_Toronto\n/wiki/Morningside,_Toronto\n/wiki/Scarborough,_Toronto\n/wiki/West_Hill,_Toronto\n/wiki/East_Toronto\n/wiki/The_Beaches\n/wiki/Downtown_Toronto\n/wiki/Berczy_Park\n/wiki/Scarborough,_Toronto\n/wiki/Woburn,_Toronto\n/wiki/East_York\n/wiki/Leaside\n/wiki/Downtown_Toronto\n/wiki/Downtown_Toronto\n/wiki/Scarborough,_Toronto\n/wiki/North_York\n/wiki/Hillcrest_Village\n/wiki/North_York\n/wiki/Bathurst_Manor\n/wiki/North_York\n/wiki/North_York\n/wiki/Wilson_Heights,_Toronto\n/wiki/East_York\n/wiki/Thorncliffe_Park\n/wiki/Downtown_Toronto\n/wiki/Downtown_Toronto\n/wiki/Downtown_Toronto\n/wiki/West_Toronto\n/wiki/Dovercourt_Village\n/wiki/West_Toronto\n/wiki/Scarborough,_Toronto\n/wiki/Scarborough_Village\n/wiki/North_York\n/wiki/North_York\n/wiki/Henry_Farm\n/wiki/North_York\n/wiki/North_York\n/wiki/Northwood_Park\n/wiki/North_York\n/wiki/York_University\n/wiki/East_York\n/wiki/East_Toronto\n/wiki/Downtown_Toronto\n/wiki/Downtown_Toronto\n/wiki/Toronto_Islands\n/wiki/Downtown_Toronto\n/wiki/Union_Station_(Toronto)\n/wiki/West_Toronto\n/wiki/Little_Portugal,_Toronto\n/wiki/West_Toronto\n/wiki/Trinity%E2%80%93Bellwoods\n/wiki/Scarborough,_Toronto\n/wiki/Scarborough,_Toronto\n/wiki/Ionview\n/wiki/Scarborough,_Toronto\n/wiki/Kennedy_Park,_Toronto\n/wiki/North_York\n/wiki/Bayview_Village\n/wiki/North_York\n/wiki/CFB_Toronto\n/wiki/North_York\n/wiki/East_Toronto\n/wiki/East_Toronto\n/wiki/Riverdale,_Toronto\n/wiki/Downtown_Toronto\n/wiki/Design_Exchange\n/wiki/Downtown_Toronto\n/wiki/Toronto_Dominion_Centre\n/wiki/West_Toronto\n/wiki/West_Toronto\n/wiki/Exhibition_Place\n/wiki/West_Toronto\n/wiki/Parkdale_Village\n/wiki/Scarborough,_Toronto\n/wiki/Clairlea\n/wiki/Scarborough,_Toronto\n/wiki/Golden_Mile,_Toronto\n/wiki/Scarborough,_Toronto\n/wiki/Oakridge,_Toronto\n/wiki/North_York\n/wiki/North_York\n/wiki/York_Mills\n/wiki/North_York\n/wiki/Downsview\n/wiki/East_Toronto\n/wiki/East_Toronto\n/wiki/India_Bazaar\n/wiki/Downtown_Toronto\n/wiki/Commerce_Court\n/wiki/Downtown_Toronto\n/wiki/North_York\n/wiki/Downsview,_Toronto\n/wiki/North_York\n/wiki/North_York\n/wiki/North_York\n/wiki/Humber_Summit\n/wiki/Scarborough,_Toronto\n/wiki/Cliffcrest\n/wiki/Scarborough,_Toronto\n/wiki/Cliffside,_Toronto\n/wiki/Scarborough,_Toronto\n/wiki/North_York\n/wiki/Newtonbrook\n/wiki/North_York\n/wiki/Willowdale,_Toronto\n/wiki/North_York\n/wiki/East_Toronto\n/wiki/North_York\n/wiki/Bedford_Park,_Toronto\n/wiki/North_York\n/wiki/York\n/wiki/York\n/wiki/Keelesdale\n/wiki/York\n/wiki/Mount_Dennis\n/wiki/York\n/wiki/Silverthorn,_Toronto\n/wiki/North_York\n/wiki/Emery,_Toronto\n/wiki/North_York\n/wiki/Humberlea\n/wiki/Scarborough,_Toronto\n/wiki/Birch_Cliff\n/wiki/Scarborough,_Toronto\n/wiki/North_York\n/wiki/North_York\n/wiki/Central_Toronto\n/wiki/Lawrence_Park,_Toronto\n/wiki/Central_Toronto\n/wiki/York\n/wiki/York\n/wiki/York\n/wiki/Weston,_Toronto\n/wiki/Scarborough,_Toronto\n/wiki/Dorset_Park\n/wiki/Scarborough,_Toronto\n/wiki/Scarborough_Town_Centre\n/wiki/Scarborough,_Toronto\n/wiki/Wexford_Heights\n/wiki/North_York\n/wiki/Central_Toronto\n/wiki/Central_Toronto\n/wiki/Forest_Hill_North\n/wiki/Central_Toronto\n/wiki/West_Toronto\n/wiki/High_Park\n/wiki/West_Toronto\n/wiki/Etobicoke\n/wiki/Scarborough,_Toronto\n/wiki/Maryvale,_Toronto\n/wiki/Scarborough,_Toronto\n/wiki/Wexford,_Toronto\n/wiki/North_York\n/wiki/Willowdale_West\n/wiki/Central_Toronto\n/wiki/Central_Toronto\n/wiki/The_Annex\n/wiki/Central_Toronto\n/wiki/Central_Toronto\n/wiki/Yorkville,_Toronto\n/wiki/West_Toronto\n/wiki/Parkdale,_Toronto\n/wiki/West_Toronto\n/wiki/Roncesvalles,_Toronto\n/wiki/Etobicoke\n/wiki/Kingsview_Village\n/wiki/Etobicoke\n/wiki/Etobicoke\n/wiki/Etobicoke\n/wiki/Scarborough,_Toronto\n/wiki/Agincourt,_Toronto\n/wiki/Central_Toronto\n/wiki/Downtown_Toronto\n/wiki/Downtown_Toronto\n/wiki/University_of_Toronto\n/wiki/West_Toronto\n/wiki/Runnymede,_Toronto\n/wiki/West_Toronto\n/wiki/Swansea,_Toronto\n/wiki/Scarborough,_Toronto\n/wiki/Scarborough,_Toronto\n/wiki/Scarborough,_Toronto\n/wiki/Tam_O%27Shanter_%E2%80%93_Sullivan\n/wiki/Central_Toronto\n/wiki/Moore_Park,_Toronto\n/wiki/Central_Toronto\n/wiki/Downtown_Toronto\n/wiki/Chinatown,_Toronto\n/wiki/Downtown_Toronto\n/wiki/Grange_Park_(Toronto)\n/wiki/Downtown_Toronto\n/wiki/Kensington_Market\n/wiki/Scarborough,_Toronto\n/wiki/Agincourt_North\n/wiki/Scarborough,_Toronto\n/wiki/Scarborough,_Toronto\n/wiki/Milliken,_Ontario\n/wiki/Scarborough,_Toronto\n/wiki/Central_Toronto\n/wiki/Deer_Park,_Toronto\n/wiki/Central_Toronto\n/wiki/Central_Toronto\n/wiki/Rathnelly\n/wiki/Central_Toronto\n/wiki/South_Hill,_Toronto\n/wiki/Central_Toronto\n/wiki/Downtown_Toronto\n/wiki/CN_Tower\n/wiki/Downtown_Toronto\n/wiki/Downtown_Toronto\n/wiki/Downtown_Toronto\n/wiki/Downtown_Toronto\n/wiki/King_and_Spadina\n/wiki/Downtown_Toronto\n/wiki/Railway_Lands\n/wiki/Downtown_Toronto\n/wiki/South_Niagara\n/wiki/Etobicoke\n/wiki/Etobicoke\n/wiki/Etobicoke\n/wiki/New_Toronto\n/wiki/Etobicoke\n/wiki/Etobicoke\n/wiki/Beaumond_Heights\n/wiki/Etobicoke\n/wiki/Etobicoke\n/wiki/Mount_Olive-Silverstone-Jamestown\n/wiki/Etobicoke\n/wiki/Mount_Olive-Silverstone-Jamestown\n/wiki/Etobicoke\n/wiki/Silverstone,_Toronto\n/wiki/Etobicoke\n/wiki/South_Steeles\n/wiki/Etobicoke\n/wiki/Thistletown\n/wiki/Scarborough,_Toronto\n/wiki/Downtown_Toronto\n/wiki/Rosedale,_Toronto\n/wiki/Downtown_Toronto\n/wiki/Etobicoke\n/wiki/Alderwood,_Toronto\n/wiki/Etobicoke\n/wiki/Long_Branch,_Toronto\n/wiki/Etobicoke\n/wiki/Scarborough,_Toronto\n/wiki/Upper_Rouge\n/wiki/Downtown_Toronto\n/wiki/Cabbagetown,_Toronto\n/wiki/Downtown_Toronto\n/wiki/St._James_Town\n/wiki/Downtown_Toronto\n/wiki/First_Canadian_Place\n/wiki/Downtown_Toronto\n/wiki/Underground_city\n/wiki/Etobicoke\n/wiki/The_Kingsway\n/wiki/Etobicoke\n/wiki/Etobicoke\n/wiki/Downtown_Toronto\n/wiki/Church_and_Wellesley\n/wiki/East_Toronto\n/wiki/Etobicoke\n/wiki/Humber_Bay\n/wiki/Etobicoke\n/wiki/Etobicoke\n/wiki/Etobicoke\n/wiki/Mimico\n/wiki/Etobicoke\n/wiki/Old_Mill,_Toronto\n/wiki/Etobicoke\n/wiki/The_Queensway\n/wiki/Etobicoke\n/wiki/Fairmont_Royal_York_Hotel\n/wiki/Etobicoke\n/wiki/Sunnylea\n/wiki/Etobicoke\n/wiki/Etobicoke\n/wiki/Mimico\n/wiki/Etobicoke\n/wiki/The_Queensway\n/wiki/Etobicoke\n/wiki/Etobicoke\n#cite_note-statcan-3\n/w/index.php?title=List_of_postal_codes_of_Canada:_M&action=edit&section=2\n#cite_note-statcan-3\n/w/index.php?title=List_of_postal_codes_of_Canada:_M&action=edit&section=3\n/w/index.php?title=List_of_postal_codes_of_Canada:_M&action=edit&section=4\n#cite_ref-1\nhttps://www.canadapost.ca/cpotools/apps/fpc/personal/findByCity?execution=e2s1\n#cite_ref-2\nhttps://web.archive.org/web/20110519093024/http://www.canadapost.ca/cpo/mc/personal/tools/mobileapp/default.jsf\nhttp://www.canadapost.ca/cpo/mc/personal/tools/mobileapp/default.jsf\n#cite_ref-statcan_3-0\n#cite_ref-statcan_3-1\nhttp://www12.statcan.ca/english/census06/data/popdwell/Table.cfm?T=1201&SR=1&S=0&O=A&RPP=9999&PR=0&CMA=0\n/wiki/File:Flag_of_Canada.svg\n/wiki/Postal_codes_in_Canada\n/wiki/File:Canadian_postal_district_map_(without_legends).svg\n/wiki/Newfoundland_and_Labrador\n/wiki/Nova_Scotia\n/wiki/Prince_Edward_Island\n/wiki/New_Brunswick\n/wiki/Quebec\n/wiki/Ontario\n/wiki/Manitoba\n/wiki/Saskatchewan\n/wiki/Alberta\n/wiki/British_Columbia\n/wiki/Nunavut\n/wiki/Northwest_Territories\n/wiki/Yukon\n/wiki/List_of_postal_codes_of_Canada:_A\n/wiki/List_of_postal_codes_of_Canada:_B\n/wiki/List_of_postal_codes_of_Canada:_C\n/wiki/List_of_postal_codes_of_Canada:_E\n/wiki/List_of_postal_codes_of_Canada:_G\n/wiki/List_of_postal_codes_of_Canada:_H\n/wiki/List_of_postal_codes_of_Canada:_J\n/wiki/List_of_postal_codes_of_Canada:_K\n/wiki/List_of_postal_codes_of_Canada:_L\nNone\n/wiki/List_of_postal_codes_of_Canada:_N\n/wiki/List_of_postal_codes_of_Canada:_P\n/wiki/List_of_postal_codes_of_Canada:_R\n/wiki/List_of_postal_codes_of_Canada:_S\n/wiki/List_of_postal_codes_of_Canada:_T\n/wiki/List_of_postal_codes_of_Canada:_V\n/wiki/List_of_postal_codes_of_Canada:_X\n/wiki/List_of_postal_codes_of_Canada:_Y\nhttps://en.wikipedia.org/w/index.php?title=List_of_postal_codes_of_Canada:_M&oldid=890001695\n/wiki/Help:Category\n/wiki/Category:Communications_in_Ontario\n/wiki/Category:Postal_codes_in_Canada\n/wiki/Category:Toronto\n/wiki/Category:Ontario-related_lists\n/wiki/Special:MyTalk\n/wiki/Special:MyContributions\n/w/index.php?title=Special:CreateAccount&returnto=List+of+postal+codes+of+Canada%3A+M\n/w/index.php?title=Special:UserLogin&returnto=List+of+postal+codes+of+Canada%3A+M\n/wiki/List_of_postal_codes_of_Canada:_M\n/wiki/Talk:List_of_postal_codes_of_Canada:_M\n/wiki/List_of_postal_codes_of_Canada:_M\n/w/index.php?title=List_of_postal_codes_of_Canada:_M&action=edit\n/w/index.php?title=List_of_postal_codes_of_Canada:_M&action=history\n/wiki/Main_Page\n/wiki/Main_Page\n/wiki/Portal:Contents\n/wiki/Portal:Featured_content\n/wiki/Portal:Current_events\n/wiki/Special:Random\nhttps://donate.wikimedia.org/wiki/Special:FundraiserRedirector?utm_source=donate&utm_medium=sidebar&utm_campaign=C13_en.wikipedia.org&uselang=en\n//shop.wikimedia.org\n/wiki/Help:Contents\n/wiki/Wikipedia:About\n/wiki/Wikipedia:Community_portal\n/wiki/Special:RecentChanges\n//en.wikipedia.org/wiki/Wikipedia:Contact_us\n/wiki/Special:WhatLinksHere/List_of_postal_codes_of_Canada:_M\n/wiki/Special:RecentChangesLinked/List_of_postal_codes_of_Canada:_M\n/wiki/Wikipedia:File_Upload_Wizard\n/wiki/Special:SpecialPages\n/w/index.php?title=List_of_postal_codes_of_Canada:_M&oldid=890001695\n/w/index.php?title=List_of_postal_codes_of_Canada:_M&action=info\nhttps://www.wikidata.org/wiki/Special:EntityPage/Q3248240\n/w/index.php?title=Special:CiteThisPage&page=List_of_postal_codes_of_Canada%3A_M&id=890001695\n/w/index.php?title=Special:Book&bookcmd=book_creator&referer=List+of+postal+codes+of+Canada%3A+M\n/w/index.php?title=Special:ElectronPdf&page=List+of+postal+codes+of+Canada%3A+M&action=show-download-screen\n/w/index.php?title=List_of_postal_codes_of_Canada:_M&printable=yes\nhttps://fr.wikipedia.org/wiki/Liste_des_codes_postaux_canadiens_d%C3%A9butant_par_M\nhttps://www.wikidata.org/wiki/Special:EntityPage/Q3248240#sitelinks-wikipedia\n//en.wikipedia.org/wiki/Wikipedia:Text_of_Creative_Commons_Attribution-ShareAlike_3.0_Unported_License\n//creativecommons.org/licenses/by-sa/3.0/\n//foundation.wikimedia.org/wiki/Terms_of_Use\n//foundation.wikimedia.org/wiki/Privacy_policy\n//www.wikimediafoundation.org/\nhttps://foundation.wikimedia.org/wiki/Privacy_policy\n/wiki/Wikipedia:About\n/wiki/Wikipedia:General_disclaimer\n//en.wikipedia.org/wiki/Wikipedia:Contact_us\nhttps://www.mediawiki.org/wiki/Special:MyLanguage/How_to_contribute\nhttps://foundation.wikimedia.org/wiki/Cookie_statement\n//en.m.wikipedia.org/w/index.php?title=List_of_postal_codes_of_Canada:_M&mobileaction=toggle_view_mobile\nhttps://wikimediafoundation.org/\nhttps://www.mediawiki.org/\n"
                }
            ], 
            "source": "soup.find_all('a')\nall_links = soup.find_all(\"a\")\nfor link in all_links:\n    print(link.get(\"href\"))"
        }, 
        {
            "execution_count": 11, 
            "cell_type": "code", 
            "metadata": {}, 
            "outputs": [
                {
                    "output_type": "stream", 
                    "name": "stdout", 
                    "text": "[<tr>\n<th>Postcode</th>\n<th>Borough</th>\n<th>Neighbourhood\n</th></tr>, <tr>\n<td>M1A</td>\n<td>Not assigned</td>\n<td>Not assigned\n</td></tr>, <tr>\n<td>M2A</td>\n<td>Not assigned</td>\n<td>Not assigned\n</td></tr>, <tr>\n<td>M3A</td>\n<td><a href=\"/wiki/North_York\" title=\"North York\">North York</a></td>\n<td><a href=\"/wiki/Parkwoods\" title=\"Parkwoods\">Parkwoods</a>\n</td></tr>, <tr>\n<td>M4A</td>\n<td><a href=\"/wiki/North_York\" title=\"North York\">North York</a></td>\n<td><a href=\"/wiki/Victoria_Village\" title=\"Victoria Village\">Victoria Village</a>\n</td></tr>, <tr>\n<td>M5A</td>\n<td><a href=\"/wiki/Downtown_Toronto\" title=\"Downtown Toronto\">Downtown Toronto</a></td>\n<td><a href=\"/wiki/Harbourfront_(Toronto)\" title=\"Harbourfront (Toronto)\">Harbourfront</a>\n</td></tr>, <tr>\n<td>M5A</td>\n<td><a href=\"/wiki/Downtown_Toronto\" title=\"Downtown Toronto\">Downtown Toronto</a></td>\n<td><a href=\"/wiki/Regent_Park\" title=\"Regent Park\">Regent Park</a>\n</td></tr>, <tr>\n<td>M6A</td>\n<td><a href=\"/wiki/North_York\" title=\"North York\">North York</a></td>\n<td><a href=\"/wiki/Lawrence_Heights\" title=\"Lawrence Heights\">Lawrence Heights</a>\n</td></tr>, <tr>\n<td>M6A</td>\n<td><a href=\"/wiki/North_York\" title=\"North York\">North York</a></td>\n<td><a href=\"/wiki/Lawrence_Manor\" title=\"Lawrence Manor\">Lawrence Manor</a>\n</td></tr>, <tr>\n<td>M7A</td>\n<td><a href=\"/wiki/Queen%27s_Park_(Toronto)\" title=\"Queen's Park (Toronto)\">Queen's Park</a></td>\n<td>Not assigned\n</td></tr>]\n"
                }
            ], 
            "source": "# Print the first 10 rows for sanity check\nrows = soup.find_all('tr')\nprint(rows[:10])"
        }, 
        {
            "execution_count": 12, 
            "cell_type": "code", 
            "metadata": {}, 
            "outputs": [], 
            "source": "for row in rows:\n    row_td = row.find_all('td')\n#print(row_td)\n#type(row_td)"
        }, 
        {
            "execution_count": 13, 
            "cell_type": "code", 
            "metadata": {}, 
            "outputs": [
                {
                    "output_type": "stream", 
                    "name": "stdout", 
                    "text": "[A\n, B\n, C\n, E\n, G\n, H\n, J\n, K\n, L\n, M\n, N\n, P\n, R\n, S\n, T\n, V\n, X\n, Y\n]\n"
                }, 
                {
                    "execution_count": 13, 
                    "metadata": {}, 
                    "data": {
                        "text/plain": "str"
                    }, 
                    "output_type": "execute_result"
                }
            ], 
            "source": "\n#Using regular expressions is highly discouraged since it requires \n#several lines of code and one can easily make mistakes.\n\nimport re\n\nlist_rows = []\nfor row in rows:\n    cells = row.find_all('td')\n    str_cells = str(cells)\n    clean = re.compile('<.*?>')\n    clean2 = (re.sub(clean, '',str_cells))\n    list_rows.append(clean2)\nprint(clean2)\ntype(clean2)"
        }, 
        {
            "execution_count": 14, 
            "cell_type": "code", 
            "metadata": {}, 
            "outputs": [
                {
                    "execution_count": 14, 
                    "metadata": {}, 
                    "data": {
                        "text/html": "<div>\n<style scoped>\n    .dataframe tbody tr th:only-of-type {\n        vertical-align: middle;\n    }\n\n    .dataframe tbody tr th {\n        vertical-align: top;\n    }\n\n    .dataframe thead th {\n        text-align: right;\n    }\n</style>\n<table border=\"1\" class=\"dataframe\">\n  <thead>\n    <tr style=\"text-align: right;\">\n      <th></th>\n      <th>0</th>\n    </tr>\n  </thead>\n  <tbody>\n    <tr>\n      <th>0</th>\n      <td>[]</td>\n    </tr>\n    <tr>\n      <th>1</th>\n      <td>[M1A, Not assigned, Not assigned\\n]</td>\n    </tr>\n    <tr>\n      <th>2</th>\n      <td>[M2A, Not assigned, Not assigned\\n]</td>\n    </tr>\n    <tr>\n      <th>3</th>\n      <td>[M3A, North York, Parkwoods\\n]</td>\n    </tr>\n    <tr>\n      <th>4</th>\n      <td>[M4A, North York, Victoria Village\\n]</td>\n    </tr>\n    <tr>\n      <th>5</th>\n      <td>[M5A, Downtown Toronto, Harbourfront\\n]</td>\n    </tr>\n    <tr>\n      <th>6</th>\n      <td>[M5A, Downtown Toronto, Regent Park\\n]</td>\n    </tr>\n    <tr>\n      <th>7</th>\n      <td>[M6A, North York, Lawrence Heights\\n]</td>\n    </tr>\n    <tr>\n      <th>8</th>\n      <td>[M6A, North York, Lawrence Manor\\n]</td>\n    </tr>\n    <tr>\n      <th>9</th>\n      <td>[M7A, Queen's Park, Not assigned\\n]</td>\n    </tr>\n  </tbody>\n</table>\n</div>", 
                        "text/plain": "                                         0\n0                                       []\n1      [M1A, Not assigned, Not assigned\\n]\n2      [M2A, Not assigned, Not assigned\\n]\n3           [M3A, North York, Parkwoods\\n]\n4    [M4A, North York, Victoria Village\\n]\n5  [M5A, Downtown Toronto, Harbourfront\\n]\n6   [M5A, Downtown Toronto, Regent Park\\n]\n7    [M6A, North York, Lawrence Heights\\n]\n8      [M6A, North York, Lawrence Manor\\n]\n9      [M7A, Queen's Park, Not assigned\\n]"
                    }, 
                    "output_type": "execute_result"
                }
            ], 
            "source": "#The next step is to convert the list into a dataframe and get a quick view of the first 10 rows using Pandas.\ndf = pd.DataFrame(list_rows)\ndf.head(10)"
        }, 
        {
            "execution_count": 15, 
            "cell_type": "code", 
            "metadata": {}, 
            "outputs": [
                {
                    "execution_count": 15, 
                    "metadata": {}, 
                    "data": {
                        "text/html": "<div>\n<style scoped>\n    .dataframe tbody tr th:only-of-type {\n        vertical-align: middle;\n    }\n\n    .dataframe tbody tr th {\n        vertical-align: top;\n    }\n\n    .dataframe thead th {\n        text-align: right;\n    }\n</style>\n<table border=\"1\" class=\"dataframe\">\n  <thead>\n    <tr style=\"text-align: right;\">\n      <th></th>\n      <th>0</th>\n      <th>1</th>\n      <th>2</th>\n      <th>3</th>\n      <th>4</th>\n      <th>5</th>\n      <th>6</th>\n      <th>7</th>\n      <th>8</th>\n      <th>9</th>\n      <th>...</th>\n      <th>21</th>\n      <th>22</th>\n      <th>23</th>\n      <th>24</th>\n      <th>25</th>\n      <th>26</th>\n      <th>27</th>\n      <th>28</th>\n      <th>29</th>\n      <th>30</th>\n    </tr>\n  </thead>\n  <tbody>\n    <tr>\n      <th>0</th>\n      <td>[]</td>\n      <td>None</td>\n      <td>None</td>\n      <td>None</td>\n      <td>None</td>\n      <td>None</td>\n      <td>None</td>\n      <td>None</td>\n      <td>None</td>\n      <td>None</td>\n      <td>...</td>\n      <td>None</td>\n      <td>None</td>\n      <td>None</td>\n      <td>None</td>\n      <td>None</td>\n      <td>None</td>\n      <td>None</td>\n      <td>None</td>\n      <td>None</td>\n      <td>None</td>\n    </tr>\n    <tr>\n      <th>1</th>\n      <td>[M1A</td>\n      <td>Not assigned</td>\n      <td>Not assigned\\n]</td>\n      <td>None</td>\n      <td>None</td>\n      <td>None</td>\n      <td>None</td>\n      <td>None</td>\n      <td>None</td>\n      <td>None</td>\n      <td>...</td>\n      <td>None</td>\n      <td>None</td>\n      <td>None</td>\n      <td>None</td>\n      <td>None</td>\n      <td>None</td>\n      <td>None</td>\n      <td>None</td>\n      <td>None</td>\n      <td>None</td>\n    </tr>\n    <tr>\n      <th>2</th>\n      <td>[M2A</td>\n      <td>Not assigned</td>\n      <td>Not assigned\\n]</td>\n      <td>None</td>\n      <td>None</td>\n      <td>None</td>\n      <td>None</td>\n      <td>None</td>\n      <td>None</td>\n      <td>None</td>\n      <td>...</td>\n      <td>None</td>\n      <td>None</td>\n      <td>None</td>\n      <td>None</td>\n      <td>None</td>\n      <td>None</td>\n      <td>None</td>\n      <td>None</td>\n      <td>None</td>\n      <td>None</td>\n    </tr>\n    <tr>\n      <th>3</th>\n      <td>[M3A</td>\n      <td>North York</td>\n      <td>Parkwoods\\n]</td>\n      <td>None</td>\n      <td>None</td>\n      <td>None</td>\n      <td>None</td>\n      <td>None</td>\n      <td>None</td>\n      <td>None</td>\n      <td>...</td>\n      <td>None</td>\n      <td>None</td>\n      <td>None</td>\n      <td>None</td>\n      <td>None</td>\n      <td>None</td>\n      <td>None</td>\n      <td>None</td>\n      <td>None</td>\n      <td>None</td>\n    </tr>\n    <tr>\n      <th>4</th>\n      <td>[M4A</td>\n      <td>North York</td>\n      <td>Victoria Village\\n]</td>\n      <td>None</td>\n      <td>None</td>\n      <td>None</td>\n      <td>None</td>\n      <td>None</td>\n      <td>None</td>\n      <td>None</td>\n      <td>...</td>\n      <td>None</td>\n      <td>None</td>\n      <td>None</td>\n      <td>None</td>\n      <td>None</td>\n      <td>None</td>\n      <td>None</td>\n      <td>None</td>\n      <td>None</td>\n      <td>None</td>\n    </tr>\n    <tr>\n      <th>5</th>\n      <td>[M5A</td>\n      <td>Downtown Toronto</td>\n      <td>Harbourfront\\n]</td>\n      <td>None</td>\n      <td>None</td>\n      <td>None</td>\n      <td>None</td>\n      <td>None</td>\n      <td>None</td>\n      <td>None</td>\n      <td>...</td>\n      <td>None</td>\n      <td>None</td>\n      <td>None</td>\n      <td>None</td>\n      <td>None</td>\n      <td>None</td>\n      <td>None</td>\n      <td>None</td>\n      <td>None</td>\n      <td>None</td>\n    </tr>\n    <tr>\n      <th>6</th>\n      <td>[M5A</td>\n      <td>Downtown Toronto</td>\n      <td>Regent Park\\n]</td>\n      <td>None</td>\n      <td>None</td>\n      <td>None</td>\n      <td>None</td>\n      <td>None</td>\n      <td>None</td>\n      <td>None</td>\n      <td>...</td>\n      <td>None</td>\n      <td>None</td>\n      <td>None</td>\n      <td>None</td>\n      <td>None</td>\n      <td>None</td>\n      <td>None</td>\n      <td>None</td>\n      <td>None</td>\n      <td>None</td>\n    </tr>\n    <tr>\n      <th>7</th>\n      <td>[M6A</td>\n      <td>North York</td>\n      <td>Lawrence Heights\\n]</td>\n      <td>None</td>\n      <td>None</td>\n      <td>None</td>\n      <td>None</td>\n      <td>None</td>\n      <td>None</td>\n      <td>None</td>\n      <td>...</td>\n      <td>None</td>\n      <td>None</td>\n      <td>None</td>\n      <td>None</td>\n      <td>None</td>\n      <td>None</td>\n      <td>None</td>\n      <td>None</td>\n      <td>None</td>\n      <td>None</td>\n    </tr>\n    <tr>\n      <th>8</th>\n      <td>[M6A</td>\n      <td>North York</td>\n      <td>Lawrence Manor\\n]</td>\n      <td>None</td>\n      <td>None</td>\n      <td>None</td>\n      <td>None</td>\n      <td>None</td>\n      <td>None</td>\n      <td>None</td>\n      <td>...</td>\n      <td>None</td>\n      <td>None</td>\n      <td>None</td>\n      <td>None</td>\n      <td>None</td>\n      <td>None</td>\n      <td>None</td>\n      <td>None</td>\n      <td>None</td>\n      <td>None</td>\n    </tr>\n    <tr>\n      <th>9</th>\n      <td>[M7A</td>\n      <td>Queen's Park</td>\n      <td>Not assigned\\n]</td>\n      <td>None</td>\n      <td>None</td>\n      <td>None</td>\n      <td>None</td>\n      <td>None</td>\n      <td>None</td>\n      <td>None</td>\n      <td>...</td>\n      <td>None</td>\n      <td>None</td>\n      <td>None</td>\n      <td>None</td>\n      <td>None</td>\n      <td>None</td>\n      <td>None</td>\n      <td>None</td>\n      <td>None</td>\n      <td>None</td>\n    </tr>\n  </tbody>\n</table>\n<p>10 rows \u00d7 31 columns</p>\n</div>", 
                        "text/plain": "     0                  1                     2     3     4     5     6   \\\n0    []               None                  None  None  None  None  None   \n1  [M1A       Not assigned       Not assigned\\n]  None  None  None  None   \n2  [M2A       Not assigned       Not assigned\\n]  None  None  None  None   \n3  [M3A         North York          Parkwoods\\n]  None  None  None  None   \n4  [M4A         North York   Victoria Village\\n]  None  None  None  None   \n5  [M5A   Downtown Toronto       Harbourfront\\n]  None  None  None  None   \n6  [M5A   Downtown Toronto        Regent Park\\n]  None  None  None  None   \n7  [M6A         North York   Lawrence Heights\\n]  None  None  None  None   \n8  [M6A         North York     Lawrence Manor\\n]  None  None  None  None   \n9  [M7A       Queen's Park       Not assigned\\n]  None  None  None  None   \n\n     7     8     9   ...     21    22    23    24    25    26    27    28  \\\n0  None  None  None  ...   None  None  None  None  None  None  None  None   \n1  None  None  None  ...   None  None  None  None  None  None  None  None   \n2  None  None  None  ...   None  None  None  None  None  None  None  None   \n3  None  None  None  ...   None  None  None  None  None  None  None  None   \n4  None  None  None  ...   None  None  None  None  None  None  None  None   \n5  None  None  None  ...   None  None  None  None  None  None  None  None   \n6  None  None  None  ...   None  None  None  None  None  None  None  None   \n7  None  None  None  ...   None  None  None  None  None  None  None  None   \n8  None  None  None  ...   None  None  None  None  None  None  None  None   \n9  None  None  None  ...   None  None  None  None  None  None  None  None   \n\n     29    30  \n0  None  None  \n1  None  None  \n2  None  None  \n3  None  None  \n4  None  None  \n5  None  None  \n6  None  None  \n7  None  None  \n8  None  None  \n9  None  None  \n\n[10 rows x 31 columns]"
                    }, 
                    "output_type": "execute_result"
                }
            ], 
            "source": "#Data Manipulation and Cleaning\n#The dataframe is not in the format we want. To clean it up, you should split the \"0\" column into \n#multiple columns at the comma position. This is accomplished by using the str.split() method.\n\ndf1 = df[0].str.split(',', expand=True)\ndf1.head(10)"
        }, 
        {
            "execution_count": 16, 
            "cell_type": "code", 
            "metadata": {}, 
            "outputs": [
                {
                    "execution_count": 16, 
                    "metadata": {}, 
                    "data": {
                        "text/html": "<div>\n<style scoped>\n    .dataframe tbody tr th:only-of-type {\n        vertical-align: middle;\n    }\n\n    .dataframe tbody tr th {\n        vertical-align: top;\n    }\n\n    .dataframe thead th {\n        text-align: right;\n    }\n</style>\n<table border=\"1\" class=\"dataframe\">\n  <thead>\n    <tr style=\"text-align: right;\">\n      <th></th>\n      <th>0</th>\n      <th>1</th>\n      <th>2</th>\n      <th>3</th>\n      <th>4</th>\n      <th>5</th>\n      <th>6</th>\n      <th>7</th>\n      <th>8</th>\n      <th>9</th>\n      <th>...</th>\n      <th>21</th>\n      <th>22</th>\n      <th>23</th>\n      <th>24</th>\n      <th>25</th>\n      <th>26</th>\n      <th>27</th>\n      <th>28</th>\n      <th>29</th>\n      <th>30</th>\n    </tr>\n  </thead>\n  <tbody>\n    <tr>\n      <th>0</th>\n      <td>]</td>\n      <td>None</td>\n      <td>None</td>\n      <td>None</td>\n      <td>None</td>\n      <td>None</td>\n      <td>None</td>\n      <td>None</td>\n      <td>None</td>\n      <td>None</td>\n      <td>...</td>\n      <td>None</td>\n      <td>None</td>\n      <td>None</td>\n      <td>None</td>\n      <td>None</td>\n      <td>None</td>\n      <td>None</td>\n      <td>None</td>\n      <td>None</td>\n      <td>None</td>\n    </tr>\n    <tr>\n      <th>1</th>\n      <td>M1A</td>\n      <td>Not assigned</td>\n      <td>Not assigned</td>\n      <td>None</td>\n      <td>None</td>\n      <td>None</td>\n      <td>None</td>\n      <td>None</td>\n      <td>None</td>\n      <td>None</td>\n      <td>...</td>\n      <td>None</td>\n      <td>None</td>\n      <td>None</td>\n      <td>None</td>\n      <td>None</td>\n      <td>None</td>\n      <td>None</td>\n      <td>None</td>\n      <td>None</td>\n      <td>None</td>\n    </tr>\n    <tr>\n      <th>2</th>\n      <td>M2A</td>\n      <td>Not assigned</td>\n      <td>Not assigned</td>\n      <td>None</td>\n      <td>None</td>\n      <td>None</td>\n      <td>None</td>\n      <td>None</td>\n      <td>None</td>\n      <td>None</td>\n      <td>...</td>\n      <td>None</td>\n      <td>None</td>\n      <td>None</td>\n      <td>None</td>\n      <td>None</td>\n      <td>None</td>\n      <td>None</td>\n      <td>None</td>\n      <td>None</td>\n      <td>None</td>\n    </tr>\n    <tr>\n      <th>3</th>\n      <td>M3A</td>\n      <td>North York</td>\n      <td>Parkwoods</td>\n      <td>None</td>\n      <td>None</td>\n      <td>None</td>\n      <td>None</td>\n      <td>None</td>\n      <td>None</td>\n      <td>None</td>\n      <td>...</td>\n      <td>None</td>\n      <td>None</td>\n      <td>None</td>\n      <td>None</td>\n      <td>None</td>\n      <td>None</td>\n      <td>None</td>\n      <td>None</td>\n      <td>None</td>\n      <td>None</td>\n    </tr>\n    <tr>\n      <th>4</th>\n      <td>M4A</td>\n      <td>North York</td>\n      <td>Victoria Village</td>\n      <td>None</td>\n      <td>None</td>\n      <td>None</td>\n      <td>None</td>\n      <td>None</td>\n      <td>None</td>\n      <td>None</td>\n      <td>...</td>\n      <td>None</td>\n      <td>None</td>\n      <td>None</td>\n      <td>None</td>\n      <td>None</td>\n      <td>None</td>\n      <td>None</td>\n      <td>None</td>\n      <td>None</td>\n      <td>None</td>\n    </tr>\n    <tr>\n      <th>5</th>\n      <td>M5A</td>\n      <td>Downtown Toronto</td>\n      <td>Harbourfront</td>\n      <td>None</td>\n      <td>None</td>\n      <td>None</td>\n      <td>None</td>\n      <td>None</td>\n      <td>None</td>\n      <td>None</td>\n      <td>...</td>\n      <td>None</td>\n      <td>None</td>\n      <td>None</td>\n      <td>None</td>\n      <td>None</td>\n      <td>None</td>\n      <td>None</td>\n      <td>None</td>\n      <td>None</td>\n      <td>None</td>\n    </tr>\n    <tr>\n      <th>6</th>\n      <td>M5A</td>\n      <td>Downtown Toronto</td>\n      <td>Regent Park</td>\n      <td>None</td>\n      <td>None</td>\n      <td>None</td>\n      <td>None</td>\n      <td>None</td>\n      <td>None</td>\n      <td>None</td>\n      <td>...</td>\n      <td>None</td>\n      <td>None</td>\n      <td>None</td>\n      <td>None</td>\n      <td>None</td>\n      <td>None</td>\n      <td>None</td>\n      <td>None</td>\n      <td>None</td>\n      <td>None</td>\n    </tr>\n    <tr>\n      <th>7</th>\n      <td>M6A</td>\n      <td>North York</td>\n      <td>Lawrence Heights</td>\n      <td>None</td>\n      <td>None</td>\n      <td>None</td>\n      <td>None</td>\n      <td>None</td>\n      <td>None</td>\n      <td>None</td>\n      <td>...</td>\n      <td>None</td>\n      <td>None</td>\n      <td>None</td>\n      <td>None</td>\n      <td>None</td>\n      <td>None</td>\n      <td>None</td>\n      <td>None</td>\n      <td>None</td>\n      <td>None</td>\n    </tr>\n    <tr>\n      <th>8</th>\n      <td>M6A</td>\n      <td>North York</td>\n      <td>Lawrence Manor</td>\n      <td>None</td>\n      <td>None</td>\n      <td>None</td>\n      <td>None</td>\n      <td>None</td>\n      <td>None</td>\n      <td>None</td>\n      <td>...</td>\n      <td>None</td>\n      <td>None</td>\n      <td>None</td>\n      <td>None</td>\n      <td>None</td>\n      <td>None</td>\n      <td>None</td>\n      <td>None</td>\n      <td>None</td>\n      <td>None</td>\n    </tr>\n    <tr>\n      <th>9</th>\n      <td>M7A</td>\n      <td>Queen's Park</td>\n      <td>Not assigned</td>\n      <td>None</td>\n      <td>None</td>\n      <td>None</td>\n      <td>None</td>\n      <td>None</td>\n      <td>None</td>\n      <td>None</td>\n      <td>...</td>\n      <td>None</td>\n      <td>None</td>\n      <td>None</td>\n      <td>None</td>\n      <td>None</td>\n      <td>None</td>\n      <td>None</td>\n      <td>None</td>\n      <td>None</td>\n      <td>None</td>\n    </tr>\n  </tbody>\n</table>\n<p>10 rows \u00d7 31 columns</p>\n</div>", 
                        "text/plain": "    0                  1                  2     3     4     5     6     7   \\\n0    ]               None               None  None  None  None  None  None   \n1  M1A       Not assigned       Not assigned  None  None  None  None  None   \n2  M2A       Not assigned       Not assigned  None  None  None  None  None   \n3  M3A         North York          Parkwoods  None  None  None  None  None   \n4  M4A         North York   Victoria Village  None  None  None  None  None   \n5  M5A   Downtown Toronto       Harbourfront  None  None  None  None  None   \n6  M5A   Downtown Toronto        Regent Park  None  None  None  None  None   \n7  M6A         North York   Lawrence Heights  None  None  None  None  None   \n8  M6A         North York     Lawrence Manor  None  None  None  None  None   \n9  M7A       Queen's Park       Not assigned  None  None  None  None  None   \n\n     8     9   ...     21    22    23    24    25    26    27    28    29  \\\n0  None  None  ...   None  None  None  None  None  None  None  None  None   \n1  None  None  ...   None  None  None  None  None  None  None  None  None   \n2  None  None  ...   None  None  None  None  None  None  None  None  None   \n3  None  None  ...   None  None  None  None  None  None  None  None  None   \n4  None  None  ...   None  None  None  None  None  None  None  None  None   \n5  None  None  ...   None  None  None  None  None  None  None  None  None   \n6  None  None  ...   None  None  None  None  None  None  None  None  None   \n7  None  None  ...   None  None  None  None  None  None  None  None  None   \n8  None  None  ...   None  None  None  None  None  None  None  None  None   \n9  None  None  ...   None  None  None  None  None  None  None  None  None   \n\n     30  \n0  None  \n1  None  \n2  None  \n3  None  \n4  None  \n5  None  \n6  None  \n7  None  \n8  None  \n9  None  \n\n[10 rows x 31 columns]"
                    }, 
                    "output_type": "execute_result"
                }
            ], 
            "source": "#This looks much better, but there is still work to do. The dataframe has unwanted square \n#brackets surrounding each row. You can use the strip() method to remove \n#the opening square bracket on column \"0.\"\ndf1[0] = df1[0].str.strip('[')\ndf1[2] = df1[2].str.strip('\\n]')\ndf1.head(10)"
        }, 
        {
            "execution_count": 17, 
            "cell_type": "code", 
            "metadata": {}, 
            "outputs": [
                {
                    "output_type": "stream", 
                    "name": "stdout", 
                    "text": "['[Postcode, Borough, Neighbourhood\\n, Canadian postal codes\\n]']\n"
                }
            ], 
            "source": "#The table is missing table headers. You can use the find_all() method to get the table headers.\ncol_labels = soup.find_all('th')\n\nall_header = []\ncol_str = str(col_labels)\ncleantext2 = BeautifulSoup(col_str, \"lxml\").get_text()\nall_header.append(cleantext2)\nprint(all_header)"
        }, 
        {
            "execution_count": 18, 
            "cell_type": "code", 
            "metadata": {}, 
            "outputs": [
                {
                    "execution_count": 18, 
                    "metadata": {}, 
                    "data": {
                        "text/html": "<div>\n<style scoped>\n    .dataframe tbody tr th:only-of-type {\n        vertical-align: middle;\n    }\n\n    .dataframe tbody tr th {\n        vertical-align: top;\n    }\n\n    .dataframe thead th {\n        text-align: right;\n    }\n</style>\n<table border=\"1\" class=\"dataframe\">\n  <thead>\n    <tr style=\"text-align: right;\">\n      <th></th>\n      <th>0</th>\n    </tr>\n  </thead>\n  <tbody>\n    <tr>\n      <th>0</th>\n      <td>[Postcode, Borough, Neighbourhood\\n, Canadian ...</td>\n    </tr>\n  </tbody>\n</table>\n</div>", 
                        "text/plain": "                                                   0\n0  [Postcode, Borough, Neighbourhood\\n, Canadian ..."
                    }, 
                    "output_type": "execute_result"
                }
            ], 
            "source": "#You can then convert the list of headers into a pandas dataframe.\ndf2 = pd.DataFrame(all_header)\ndf2.head()"
        }, 
        {
            "execution_count": 19, 
            "cell_type": "code", 
            "metadata": {}, 
            "outputs": [
                {
                    "execution_count": 19, 
                    "metadata": {}, 
                    "data": {
                        "text/html": "<div>\n<style scoped>\n    .dataframe tbody tr th:only-of-type {\n        vertical-align: middle;\n    }\n\n    .dataframe tbody tr th {\n        vertical-align: top;\n    }\n\n    .dataframe thead th {\n        text-align: right;\n    }\n</style>\n<table border=\"1\" class=\"dataframe\">\n  <thead>\n    <tr style=\"text-align: right;\">\n      <th></th>\n      <th>0</th>\n      <th>1</th>\n      <th>2</th>\n      <th>3</th>\n    </tr>\n  </thead>\n  <tbody>\n    <tr>\n      <th>0</th>\n      <td>[Postcode</td>\n      <td>Borough</td>\n      <td>Neighbourhood\\n</td>\n      <td>Canadian postal codes\\n]</td>\n    </tr>\n  </tbody>\n</table>\n</div>", 
                        "text/plain": "           0         1                 2                          3\n0  [Postcode   Borough   Neighbourhood\\n   Canadian postal codes\\n]"
                    }, 
                    "output_type": "execute_result"
                }
            ], 
            "source": "#Similarly, you can split column \"0\" into multiple columns at the comma position for all rows.\ndf3 = df2[0].str.split(',', expand=True)\ndf3.head()"
        }, 
        {
            "execution_count": 20, 
            "cell_type": "code", 
            "metadata": {}, 
            "outputs": [
                {
                    "execution_count": 20, 
                    "metadata": {}, 
                    "data": {
                        "text/html": "<div>\n<style scoped>\n    .dataframe tbody tr th:only-of-type {\n        vertical-align: middle;\n    }\n\n    .dataframe tbody tr th {\n        vertical-align: top;\n    }\n\n    .dataframe thead th {\n        text-align: right;\n    }\n</style>\n<table border=\"1\" class=\"dataframe\">\n  <thead>\n    <tr style=\"text-align: right;\">\n      <th></th>\n      <th>0</th>\n      <th>1</th>\n      <th>2</th>\n      <th>3</th>\n    </tr>\n  </thead>\n  <tbody>\n    <tr>\n      <th>0</th>\n      <td>Postcode</td>\n      <td>Borough</td>\n      <td>Neighbourhood</td>\n      <td>Canadian postal codes\\n]</td>\n    </tr>\n  </tbody>\n</table>\n</div>", 
                        "text/plain": "          0         1               2                          3\n0  Postcode   Borough   Neighbourhood   Canadian postal codes\\n]"
                    }, 
                    "output_type": "execute_result"
                }
            ], 
            "source": "df3[0] = df3[0].str.strip('[ ')\ndf3[2] = df3[2].str.strip('\\n]')\ndf3.head()"
        }, 
        {
            "execution_count": 21, 
            "cell_type": "code", 
            "metadata": {}, 
            "outputs": [
                {
                    "execution_count": 21, 
                    "metadata": {}, 
                    "data": {
                        "text/html": "<div>\n<style scoped>\n    .dataframe tbody tr th:only-of-type {\n        vertical-align: middle;\n    }\n\n    .dataframe tbody tr th {\n        vertical-align: top;\n    }\n\n    .dataframe thead th {\n        text-align: right;\n    }\n</style>\n<table border=\"1\" class=\"dataframe\">\n  <thead>\n    <tr style=\"text-align: right;\">\n      <th></th>\n      <th>0</th>\n      <th>1</th>\n      <th>2</th>\n      <th>3</th>\n    </tr>\n  </thead>\n  <tbody>\n    <tr>\n      <th>0</th>\n      <td>Postcode</td>\n      <td>Borough</td>\n      <td>Neighbourhood</td>\n      <td>Canadian postal codes</td>\n    </tr>\n  </tbody>\n</table>\n</div>", 
                        "text/plain": "          0         1               2                       3\n0  Postcode   Borough   Neighbourhood   Canadian postal codes"
                    }, 
                    "output_type": "execute_result"
                }
            ], 
            "source": "df3[0] = df3[0].str.strip('[ ')\ndf3[2] = df3[2].str.strip('\\n]')\ndf3[3] = df3[3].str.strip('\\n]')\ndf3.head()"
        }, 
        {
            "execution_count": 23, 
            "cell_type": "code", 
            "metadata": {}, 
            "outputs": [
                {
                    "execution_count": 23, 
                    "metadata": {}, 
                    "data": {
                        "text/html": "<div>\n<style scoped>\n    .dataframe tbody tr th:only-of-type {\n        vertical-align: middle;\n    }\n\n    .dataframe tbody tr th {\n        vertical-align: top;\n    }\n\n    .dataframe thead th {\n        text-align: right;\n    }\n</style>\n<table border=\"1\" class=\"dataframe\">\n  <thead>\n    <tr style=\"text-align: right;\">\n      <th></th>\n      <th>0</th>\n      <th>1</th>\n      <th>2</th>\n      <th>3</th>\n      <th>4</th>\n      <th>5</th>\n      <th>6</th>\n      <th>7</th>\n      <th>8</th>\n      <th>9</th>\n      <th>...</th>\n      <th>21</th>\n      <th>22</th>\n      <th>23</th>\n      <th>24</th>\n      <th>25</th>\n      <th>26</th>\n      <th>27</th>\n      <th>28</th>\n      <th>29</th>\n      <th>30</th>\n    </tr>\n  </thead>\n  <tbody>\n    <tr>\n      <th>0</th>\n      <td>Postcode</td>\n      <td>Borough</td>\n      <td>Neighbourhood</td>\n      <td>Canadian postal codes</td>\n      <td>NaN</td>\n      <td>NaN</td>\n      <td>NaN</td>\n      <td>NaN</td>\n      <td>NaN</td>\n      <td>NaN</td>\n      <td>...</td>\n      <td>NaN</td>\n      <td>NaN</td>\n      <td>NaN</td>\n      <td>NaN</td>\n      <td>NaN</td>\n      <td>NaN</td>\n      <td>NaN</td>\n      <td>NaN</td>\n      <td>NaN</td>\n      <td>NaN</td>\n    </tr>\n    <tr>\n      <th>0</th>\n      <td>]</td>\n      <td>None</td>\n      <td>None</td>\n      <td>None</td>\n      <td>None</td>\n      <td>None</td>\n      <td>None</td>\n      <td>None</td>\n      <td>None</td>\n      <td>None</td>\n      <td>...</td>\n      <td>None</td>\n      <td>None</td>\n      <td>None</td>\n      <td>None</td>\n      <td>None</td>\n      <td>None</td>\n      <td>None</td>\n      <td>None</td>\n      <td>None</td>\n      <td>None</td>\n    </tr>\n    <tr>\n      <th>1</th>\n      <td>M1A</td>\n      <td>Not assigned</td>\n      <td>Not assigned</td>\n      <td>None</td>\n      <td>None</td>\n      <td>None</td>\n      <td>None</td>\n      <td>None</td>\n      <td>None</td>\n      <td>None</td>\n      <td>...</td>\n      <td>None</td>\n      <td>None</td>\n      <td>None</td>\n      <td>None</td>\n      <td>None</td>\n      <td>None</td>\n      <td>None</td>\n      <td>None</td>\n      <td>None</td>\n      <td>None</td>\n    </tr>\n    <tr>\n      <th>2</th>\n      <td>M2A</td>\n      <td>Not assigned</td>\n      <td>Not assigned</td>\n      <td>None</td>\n      <td>None</td>\n      <td>None</td>\n      <td>None</td>\n      <td>None</td>\n      <td>None</td>\n      <td>None</td>\n      <td>...</td>\n      <td>None</td>\n      <td>None</td>\n      <td>None</td>\n      <td>None</td>\n      <td>None</td>\n      <td>None</td>\n      <td>None</td>\n      <td>None</td>\n      <td>None</td>\n      <td>None</td>\n    </tr>\n    <tr>\n      <th>3</th>\n      <td>M3A</td>\n      <td>North York</td>\n      <td>Parkwoods</td>\n      <td>None</td>\n      <td>None</td>\n      <td>None</td>\n      <td>None</td>\n      <td>None</td>\n      <td>None</td>\n      <td>None</td>\n      <td>...</td>\n      <td>None</td>\n      <td>None</td>\n      <td>None</td>\n      <td>None</td>\n      <td>None</td>\n      <td>None</td>\n      <td>None</td>\n      <td>None</td>\n      <td>None</td>\n      <td>None</td>\n    </tr>\n    <tr>\n      <th>4</th>\n      <td>M4A</td>\n      <td>North York</td>\n      <td>Victoria Village</td>\n      <td>None</td>\n      <td>None</td>\n      <td>None</td>\n      <td>None</td>\n      <td>None</td>\n      <td>None</td>\n      <td>None</td>\n      <td>...</td>\n      <td>None</td>\n      <td>None</td>\n      <td>None</td>\n      <td>None</td>\n      <td>None</td>\n      <td>None</td>\n      <td>None</td>\n      <td>None</td>\n      <td>None</td>\n      <td>None</td>\n    </tr>\n    <tr>\n      <th>5</th>\n      <td>M5A</td>\n      <td>Downtown Toronto</td>\n      <td>Harbourfront</td>\n      <td>None</td>\n      <td>None</td>\n      <td>None</td>\n      <td>None</td>\n      <td>None</td>\n      <td>None</td>\n      <td>None</td>\n      <td>...</td>\n      <td>None</td>\n      <td>None</td>\n      <td>None</td>\n      <td>None</td>\n      <td>None</td>\n      <td>None</td>\n      <td>None</td>\n      <td>None</td>\n      <td>None</td>\n      <td>None</td>\n    </tr>\n    <tr>\n      <th>6</th>\n      <td>M5A</td>\n      <td>Downtown Toronto</td>\n      <td>Regent Park</td>\n      <td>None</td>\n      <td>None</td>\n      <td>None</td>\n      <td>None</td>\n      <td>None</td>\n      <td>None</td>\n      <td>None</td>\n      <td>...</td>\n      <td>None</td>\n      <td>None</td>\n      <td>None</td>\n      <td>None</td>\n      <td>None</td>\n      <td>None</td>\n      <td>None</td>\n      <td>None</td>\n      <td>None</td>\n      <td>None</td>\n    </tr>\n    <tr>\n      <th>7</th>\n      <td>M6A</td>\n      <td>North York</td>\n      <td>Lawrence Heights</td>\n      <td>None</td>\n      <td>None</td>\n      <td>None</td>\n      <td>None</td>\n      <td>None</td>\n      <td>None</td>\n      <td>None</td>\n      <td>...</td>\n      <td>None</td>\n      <td>None</td>\n      <td>None</td>\n      <td>None</td>\n      <td>None</td>\n      <td>None</td>\n      <td>None</td>\n      <td>None</td>\n      <td>None</td>\n      <td>None</td>\n    </tr>\n    <tr>\n      <th>8</th>\n      <td>M6A</td>\n      <td>North York</td>\n      <td>Lawrence Manor</td>\n      <td>None</td>\n      <td>None</td>\n      <td>None</td>\n      <td>None</td>\n      <td>None</td>\n      <td>None</td>\n      <td>None</td>\n      <td>...</td>\n      <td>None</td>\n      <td>None</td>\n      <td>None</td>\n      <td>None</td>\n      <td>None</td>\n      <td>None</td>\n      <td>None</td>\n      <td>None</td>\n      <td>None</td>\n      <td>None</td>\n    </tr>\n  </tbody>\n</table>\n<p>10 rows \u00d7 31 columns</p>\n</div>", 
                        "text/plain": "         0                  1                  2                       3   \\\n0  Postcode            Borough      Neighbourhood   Canadian postal codes   \n0         ]               None               None                    None   \n1       M1A       Not assigned       Not assigned                    None   \n2       M2A       Not assigned       Not assigned                    None   \n3       M3A         North York          Parkwoods                    None   \n4       M4A         North York   Victoria Village                    None   \n5       M5A   Downtown Toronto       Harbourfront                    None   \n6       M5A   Downtown Toronto        Regent Park                    None   \n7       M6A         North York   Lawrence Heights                    None   \n8       M6A         North York     Lawrence Manor                    None   \n\n     4     5     6     7     8     9   ...     21    22    23    24    25  \\\n0   NaN   NaN   NaN   NaN   NaN   NaN  ...    NaN   NaN   NaN   NaN   NaN   \n0  None  None  None  None  None  None  ...   None  None  None  None  None   \n1  None  None  None  None  None  None  ...   None  None  None  None  None   \n2  None  None  None  None  None  None  ...   None  None  None  None  None   \n3  None  None  None  None  None  None  ...   None  None  None  None  None   \n4  None  None  None  None  None  None  ...   None  None  None  None  None   \n5  None  None  None  None  None  None  ...   None  None  None  None  None   \n6  None  None  None  None  None  None  ...   None  None  None  None  None   \n7  None  None  None  None  None  None  ...   None  None  None  None  None   \n8  None  None  None  None  None  None  ...   None  None  None  None  None   \n\n     26    27    28    29    30  \n0   NaN   NaN   NaN   NaN   NaN  \n0  None  None  None  None  None  \n1  None  None  None  None  None  \n2  None  None  None  None  None  \n3  None  None  None  None  None  \n4  None  None  None  None  None  \n5  None  None  None  None  None  \n6  None  None  None  None  None  \n7  None  None  None  None  None  \n8  None  None  None  None  None  \n\n[10 rows x 31 columns]"
                    }, 
                    "output_type": "execute_result"
                }
            ], 
            "source": "#The two dataframes can be concatenated into one using the concat() method as illustrated below.\nframes = [df3, df1]\ndf4 = pd.concat(frames)\ndf4.head(10)"
        }, 
        {
            "execution_count": 24, 
            "cell_type": "code", 
            "metadata": {}, 
            "outputs": [
                {
                    "execution_count": 24, 
                    "metadata": {}, 
                    "data": {
                        "text/html": "<div>\n<style scoped>\n    .dataframe tbody tr th:only-of-type {\n        vertical-align: middle;\n    }\n\n    .dataframe tbody tr th {\n        vertical-align: top;\n    }\n\n    .dataframe thead th {\n        text-align: right;\n    }\n</style>\n<table border=\"1\" class=\"dataframe\">\n  <thead>\n    <tr style=\"text-align: right;\">\n      <th></th>\n      <th>Postcode</th>\n      <th>Borough</th>\n      <th>Neighbourhood</th>\n      <th>Canadian postal codes</th>\n      <th>nan</th>\n      <th>nan</th>\n      <th>nan</th>\n      <th>nan</th>\n      <th>nan</th>\n      <th>nan</th>\n      <th>...</th>\n      <th>nan</th>\n      <th>nan</th>\n      <th>nan</th>\n      <th>nan</th>\n      <th>nan</th>\n      <th>nan</th>\n      <th>nan</th>\n      <th>nan</th>\n      <th>nan</th>\n      <th>nan</th>\n    </tr>\n  </thead>\n  <tbody>\n    <tr>\n      <th>0</th>\n      <td>Postcode</td>\n      <td>Borough</td>\n      <td>Neighbourhood</td>\n      <td>Canadian postal codes</td>\n      <td>NaN</td>\n      <td>NaN</td>\n      <td>NaN</td>\n      <td>NaN</td>\n      <td>NaN</td>\n      <td>NaN</td>\n      <td>...</td>\n      <td>NaN</td>\n      <td>NaN</td>\n      <td>NaN</td>\n      <td>NaN</td>\n      <td>NaN</td>\n      <td>NaN</td>\n      <td>NaN</td>\n      <td>NaN</td>\n      <td>NaN</td>\n      <td>NaN</td>\n    </tr>\n    <tr>\n      <th>0</th>\n      <td>]</td>\n      <td>None</td>\n      <td>None</td>\n      <td>None</td>\n      <td>None</td>\n      <td>None</td>\n      <td>None</td>\n      <td>None</td>\n      <td>None</td>\n      <td>None</td>\n      <td>...</td>\n      <td>None</td>\n      <td>None</td>\n      <td>None</td>\n      <td>None</td>\n      <td>None</td>\n      <td>None</td>\n      <td>None</td>\n      <td>None</td>\n      <td>None</td>\n      <td>None</td>\n    </tr>\n    <tr>\n      <th>1</th>\n      <td>M1A</td>\n      <td>Not assigned</td>\n      <td>Not assigned</td>\n      <td>None</td>\n      <td>None</td>\n      <td>None</td>\n      <td>None</td>\n      <td>None</td>\n      <td>None</td>\n      <td>None</td>\n      <td>...</td>\n      <td>None</td>\n      <td>None</td>\n      <td>None</td>\n      <td>None</td>\n      <td>None</td>\n      <td>None</td>\n      <td>None</td>\n      <td>None</td>\n      <td>None</td>\n      <td>None</td>\n    </tr>\n    <tr>\n      <th>2</th>\n      <td>M2A</td>\n      <td>Not assigned</td>\n      <td>Not assigned</td>\n      <td>None</td>\n      <td>None</td>\n      <td>None</td>\n      <td>None</td>\n      <td>None</td>\n      <td>None</td>\n      <td>None</td>\n      <td>...</td>\n      <td>None</td>\n      <td>None</td>\n      <td>None</td>\n      <td>None</td>\n      <td>None</td>\n      <td>None</td>\n      <td>None</td>\n      <td>None</td>\n      <td>None</td>\n      <td>None</td>\n    </tr>\n    <tr>\n      <th>3</th>\n      <td>M3A</td>\n      <td>North York</td>\n      <td>Parkwoods</td>\n      <td>None</td>\n      <td>None</td>\n      <td>None</td>\n      <td>None</td>\n      <td>None</td>\n      <td>None</td>\n      <td>None</td>\n      <td>...</td>\n      <td>None</td>\n      <td>None</td>\n      <td>None</td>\n      <td>None</td>\n      <td>None</td>\n      <td>None</td>\n      <td>None</td>\n      <td>None</td>\n      <td>None</td>\n      <td>None</td>\n    </tr>\n    <tr>\n      <th>4</th>\n      <td>M4A</td>\n      <td>North York</td>\n      <td>Victoria Village</td>\n      <td>None</td>\n      <td>None</td>\n      <td>None</td>\n      <td>None</td>\n      <td>None</td>\n      <td>None</td>\n      <td>None</td>\n      <td>...</td>\n      <td>None</td>\n      <td>None</td>\n      <td>None</td>\n      <td>None</td>\n      <td>None</td>\n      <td>None</td>\n      <td>None</td>\n      <td>None</td>\n      <td>None</td>\n      <td>None</td>\n    </tr>\n    <tr>\n      <th>5</th>\n      <td>M5A</td>\n      <td>Downtown Toronto</td>\n      <td>Harbourfront</td>\n      <td>None</td>\n      <td>None</td>\n      <td>None</td>\n      <td>None</td>\n      <td>None</td>\n      <td>None</td>\n      <td>None</td>\n      <td>...</td>\n      <td>None</td>\n      <td>None</td>\n      <td>None</td>\n      <td>None</td>\n      <td>None</td>\n      <td>None</td>\n      <td>None</td>\n      <td>None</td>\n      <td>None</td>\n      <td>None</td>\n    </tr>\n    <tr>\n      <th>6</th>\n      <td>M5A</td>\n      <td>Downtown Toronto</td>\n      <td>Regent Park</td>\n      <td>None</td>\n      <td>None</td>\n      <td>None</td>\n      <td>None</td>\n      <td>None</td>\n      <td>None</td>\n      <td>None</td>\n      <td>...</td>\n      <td>None</td>\n      <td>None</td>\n      <td>None</td>\n      <td>None</td>\n      <td>None</td>\n      <td>None</td>\n      <td>None</td>\n      <td>None</td>\n      <td>None</td>\n      <td>None</td>\n    </tr>\n    <tr>\n      <th>7</th>\n      <td>M6A</td>\n      <td>North York</td>\n      <td>Lawrence Heights</td>\n      <td>None</td>\n      <td>None</td>\n      <td>None</td>\n      <td>None</td>\n      <td>None</td>\n      <td>None</td>\n      <td>None</td>\n      <td>...</td>\n      <td>None</td>\n      <td>None</td>\n      <td>None</td>\n      <td>None</td>\n      <td>None</td>\n      <td>None</td>\n      <td>None</td>\n      <td>None</td>\n      <td>None</td>\n      <td>None</td>\n    </tr>\n    <tr>\n      <th>8</th>\n      <td>M6A</td>\n      <td>North York</td>\n      <td>Lawrence Manor</td>\n      <td>None</td>\n      <td>None</td>\n      <td>None</td>\n      <td>None</td>\n      <td>None</td>\n      <td>None</td>\n      <td>None</td>\n      <td>...</td>\n      <td>None</td>\n      <td>None</td>\n      <td>None</td>\n      <td>None</td>\n      <td>None</td>\n      <td>None</td>\n      <td>None</td>\n      <td>None</td>\n      <td>None</td>\n      <td>None</td>\n    </tr>\n  </tbody>\n</table>\n<p>10 rows \u00d7 31 columns</p>\n</div>", 
                        "text/plain": "   Postcode            Borough      Neighbourhood   Canadian postal codes  \\\n0  Postcode            Borough      Neighbourhood   Canadian postal codes   \n0         ]               None               None                    None   \n1       M1A       Not assigned       Not assigned                    None   \n2       M2A       Not assigned       Not assigned                    None   \n3       M3A         North York          Parkwoods                    None   \n4       M4A         North York   Victoria Village                    None   \n5       M5A   Downtown Toronto       Harbourfront                    None   \n6       M5A   Downtown Toronto        Regent Park                    None   \n7       M6A         North York   Lawrence Heights                    None   \n8       M6A         North York     Lawrence Manor                    None   \n\n    NaN   NaN   NaN   NaN   NaN   NaN  ...    NaN   NaN   NaN   NaN   NaN  \\\n0   NaN   NaN   NaN   NaN   NaN   NaN  ...    NaN   NaN   NaN   NaN   NaN   \n0  None  None  None  None  None  None  ...   None  None  None  None  None   \n1  None  None  None  None  None  None  ...   None  None  None  None  None   \n2  None  None  None  None  None  None  ...   None  None  None  None  None   \n3  None  None  None  None  None  None  ...   None  None  None  None  None   \n4  None  None  None  None  None  None  ...   None  None  None  None  None   \n5  None  None  None  None  None  None  ...   None  None  None  None  None   \n6  None  None  None  None  None  None  ...   None  None  None  None  None   \n7  None  None  None  None  None  None  ...   None  None  None  None  None   \n8  None  None  None  None  None  None  ...   None  None  None  None  None   \n\n    NaN   NaN   NaN   NaN   NaN  \n0   NaN   NaN   NaN   NaN   NaN  \n0  None  None  None  None  None  \n1  None  None  None  None  None  \n2  None  None  None  None  None  \n3  None  None  None  None  None  \n4  None  None  None  None  None  \n5  None  None  None  None  None  \n6  None  None  None  None  None  \n7  None  None  None  None  None  \n8  None  None  None  None  None  \n\n[10 rows x 31 columns]"
                    }, 
                    "output_type": "execute_result"
                }
            ], 
            "source": "#Below shows how to assign the first row to be the table header.\ndf5 = df4.rename(columns=df4.iloc[0])\ndf5.head(10)"
        }, 
        {
            "execution_count": 25, 
            "cell_type": "code", 
            "metadata": {}, 
            "outputs": [
                {
                    "execution_count": 25, 
                    "metadata": {}, 
                    "data": {
                        "text/plain": "(295, 31)"
                    }, 
                    "output_type": "execute_result"
                }
            ], 
            "source": "#At this point, the table is almost properly formatted. For analysis, \n#you can start by getting an overview of the data as shown below.\n#df5.info()\ndf5.shape"
        }, 
        {
            "execution_count": 26, 
            "cell_type": "code", 
            "metadata": {}, 
            "outputs": [
                {
                    "execution_count": 26, 
                    "metadata": {}, 
                    "data": {
                        "text/html": "<div>\n<style scoped>\n    .dataframe tbody tr th:only-of-type {\n        vertical-align: middle;\n    }\n\n    .dataframe tbody tr th {\n        vertical-align: top;\n    }\n\n    .dataframe thead th {\n        text-align: right;\n    }\n</style>\n<table border=\"1\" class=\"dataframe\">\n  <thead>\n    <tr style=\"text-align: right;\">\n      <th></th>\n      <th>Postcode</th>\n      <th>Borough</th>\n      <th>Neighbourhood</th>\n      <th>Canadian postal codes</th>\n      <th>nan</th>\n      <th>nan</th>\n      <th>nan</th>\n      <th>nan</th>\n      <th>nan</th>\n      <th>nan</th>\n      <th>...</th>\n      <th>nan</th>\n      <th>nan</th>\n      <th>nan</th>\n      <th>nan</th>\n      <th>nan</th>\n      <th>nan</th>\n      <th>nan</th>\n      <th>nan</th>\n      <th>nan</th>\n      <th>nan</th>\n    </tr>\n  </thead>\n  <tbody>\n    <tr>\n      <th>1</th>\n      <td>M1A</td>\n      <td>Not assigned</td>\n      <td>Not assigned</td>\n      <td>None</td>\n      <td>None</td>\n      <td>None</td>\n      <td>None</td>\n      <td>None</td>\n      <td>None</td>\n      <td>None</td>\n      <td>...</td>\n      <td>None</td>\n      <td>None</td>\n      <td>None</td>\n      <td>None</td>\n      <td>None</td>\n      <td>None</td>\n      <td>None</td>\n      <td>None</td>\n      <td>None</td>\n      <td>None</td>\n    </tr>\n    <tr>\n      <th>2</th>\n      <td>M2A</td>\n      <td>Not assigned</td>\n      <td>Not assigned</td>\n      <td>None</td>\n      <td>None</td>\n      <td>None</td>\n      <td>None</td>\n      <td>None</td>\n      <td>None</td>\n      <td>None</td>\n      <td>...</td>\n      <td>None</td>\n      <td>None</td>\n      <td>None</td>\n      <td>None</td>\n      <td>None</td>\n      <td>None</td>\n      <td>None</td>\n      <td>None</td>\n      <td>None</td>\n      <td>None</td>\n    </tr>\n    <tr>\n      <th>3</th>\n      <td>M3A</td>\n      <td>North York</td>\n      <td>Parkwoods</td>\n      <td>None</td>\n      <td>None</td>\n      <td>None</td>\n      <td>None</td>\n      <td>None</td>\n      <td>None</td>\n      <td>None</td>\n      <td>...</td>\n      <td>None</td>\n      <td>None</td>\n      <td>None</td>\n      <td>None</td>\n      <td>None</td>\n      <td>None</td>\n      <td>None</td>\n      <td>None</td>\n      <td>None</td>\n      <td>None</td>\n    </tr>\n    <tr>\n      <th>4</th>\n      <td>M4A</td>\n      <td>North York</td>\n      <td>Victoria Village</td>\n      <td>None</td>\n      <td>None</td>\n      <td>None</td>\n      <td>None</td>\n      <td>None</td>\n      <td>None</td>\n      <td>None</td>\n      <td>...</td>\n      <td>None</td>\n      <td>None</td>\n      <td>None</td>\n      <td>None</td>\n      <td>None</td>\n      <td>None</td>\n      <td>None</td>\n      <td>None</td>\n      <td>None</td>\n      <td>None</td>\n    </tr>\n    <tr>\n      <th>5</th>\n      <td>M5A</td>\n      <td>Downtown Toronto</td>\n      <td>Harbourfront</td>\n      <td>None</td>\n      <td>None</td>\n      <td>None</td>\n      <td>None</td>\n      <td>None</td>\n      <td>None</td>\n      <td>None</td>\n      <td>...</td>\n      <td>None</td>\n      <td>None</td>\n      <td>None</td>\n      <td>None</td>\n      <td>None</td>\n      <td>None</td>\n      <td>None</td>\n      <td>None</td>\n      <td>None</td>\n      <td>None</td>\n    </tr>\n  </tbody>\n</table>\n<p>5 rows \u00d7 31 columns</p>\n</div>", 
                        "text/plain": "  Postcode            Borough      Neighbourhood  Canadian postal codes   NaN  \\\n1      M1A       Not assigned       Not assigned                   None  None   \n2      M2A       Not assigned       Not assigned                   None  None   \n3      M3A         North York          Parkwoods                   None  None   \n4      M4A         North York   Victoria Village                   None  None   \n5      M5A   Downtown Toronto       Harbourfront                   None  None   \n\n    NaN   NaN   NaN   NaN   NaN  ...    NaN   NaN   NaN   NaN   NaN   NaN  \\\n1  None  None  None  None  None  ...   None  None  None  None  None  None   \n2  None  None  None  None  None  ...   None  None  None  None  None  None   \n3  None  None  None  None  None  ...   None  None  None  None  None  None   \n4  None  None  None  None  None  ...   None  None  None  None  None  None   \n5  None  None  None  None  None  ...   None  None  None  None  None  None   \n\n    NaN   NaN   NaN   NaN  \n1  None  None  None  None  \n2  None  None  None  None  \n3  None  None  None  None  \n4  None  None  None  None  \n5  None  None  None  None  \n\n[5 rows x 31 columns]"
                    }, 
                    "output_type": "execute_result"
                }
            ], 
            "source": "#Also, notice how the table header is replicated as the first row in df5. It can be dropped using the following line of code.\ndf6 = df5.drop(df5.index[0])\ndf6.head()"
        }, 
        {
            "execution_count": 27, 
            "cell_type": "code", 
            "metadata": {}, 
            "outputs": [
                {
                    "execution_count": 27, 
                    "metadata": {}, 
                    "data": {
                        "text/plain": "['Postcode', ' Borough', ' Neighbourhood']"
                    }, 
                    "output_type": "execute_result"
                }
            ], 
            "source": "list(df6.columns.values)[0:3]"
        }, 
        {
            "execution_count": 28, 
            "cell_type": "code", 
            "metadata": {}, 
            "outputs": [
                {
                    "output_type": "stream", 
                    "name": "stderr", 
                    "text": "/opt/conda/envs/DSX-Python35/lib/python3.5/site-packages/pandas/core/frame.py:3027: SettingWithCopyWarning: \nA value is trying to be set on a copy of a slice from a DataFrame\n\nSee the caveats in the documentation: http://pandas.pydata.org/pandas-docs/stable/indexing.html#indexing-view-versus-copy\n  return super(DataFrame, self).rename(**kwargs)\n"
                }, 
                {
                    "execution_count": 28, 
                    "metadata": {}, 
                    "data": {
                        "text/html": "<div>\n<style scoped>\n    .dataframe tbody tr th:only-of-type {\n        vertical-align: middle;\n    }\n\n    .dataframe tbody tr th {\n        vertical-align: top;\n    }\n\n    .dataframe thead th {\n        text-align: right;\n    }\n</style>\n<table border=\"1\" class=\"dataframe\">\n  <thead>\n    <tr style=\"text-align: right;\">\n      <th></th>\n      <th>Postcode</th>\n      <th>Borough</th>\n      <th>Neighbourhood</th>\n      <th>Canadian postal codes</th>\n      <th>nan</th>\n      <th>nan</th>\n      <th>nan</th>\n      <th>nan</th>\n      <th>nan</th>\n      <th>nan</th>\n      <th>...</th>\n      <th>nan</th>\n      <th>nan</th>\n      <th>nan</th>\n      <th>nan</th>\n      <th>nan</th>\n      <th>nan</th>\n      <th>nan</th>\n      <th>nan</th>\n      <th>nan</th>\n      <th>nan</th>\n    </tr>\n  </thead>\n  <tbody>\n    <tr>\n      <th>1</th>\n      <td>M1A</td>\n      <td>Not assigned</td>\n      <td>Not assigned</td>\n      <td>None</td>\n      <td>None</td>\n      <td>None</td>\n      <td>None</td>\n      <td>None</td>\n      <td>None</td>\n      <td>None</td>\n      <td>...</td>\n      <td>None</td>\n      <td>None</td>\n      <td>None</td>\n      <td>None</td>\n      <td>None</td>\n      <td>None</td>\n      <td>None</td>\n      <td>None</td>\n      <td>None</td>\n      <td>None</td>\n    </tr>\n    <tr>\n      <th>2</th>\n      <td>M2A</td>\n      <td>Not assigned</td>\n      <td>Not assigned</td>\n      <td>None</td>\n      <td>None</td>\n      <td>None</td>\n      <td>None</td>\n      <td>None</td>\n      <td>None</td>\n      <td>None</td>\n      <td>...</td>\n      <td>None</td>\n      <td>None</td>\n      <td>None</td>\n      <td>None</td>\n      <td>None</td>\n      <td>None</td>\n      <td>None</td>\n      <td>None</td>\n      <td>None</td>\n      <td>None</td>\n    </tr>\n    <tr>\n      <th>3</th>\n      <td>M3A</td>\n      <td>North York</td>\n      <td>Parkwoods</td>\n      <td>None</td>\n      <td>None</td>\n      <td>None</td>\n      <td>None</td>\n      <td>None</td>\n      <td>None</td>\n      <td>None</td>\n      <td>...</td>\n      <td>None</td>\n      <td>None</td>\n      <td>None</td>\n      <td>None</td>\n      <td>None</td>\n      <td>None</td>\n      <td>None</td>\n      <td>None</td>\n      <td>None</td>\n      <td>None</td>\n    </tr>\n    <tr>\n      <th>4</th>\n      <td>M4A</td>\n      <td>North York</td>\n      <td>Victoria Village</td>\n      <td>None</td>\n      <td>None</td>\n      <td>None</td>\n      <td>None</td>\n      <td>None</td>\n      <td>None</td>\n      <td>None</td>\n      <td>...</td>\n      <td>None</td>\n      <td>None</td>\n      <td>None</td>\n      <td>None</td>\n      <td>None</td>\n      <td>None</td>\n      <td>None</td>\n      <td>None</td>\n      <td>None</td>\n      <td>None</td>\n    </tr>\n    <tr>\n      <th>5</th>\n      <td>M5A</td>\n      <td>Downtown Toronto</td>\n      <td>Harbourfront</td>\n      <td>None</td>\n      <td>None</td>\n      <td>None</td>\n      <td>None</td>\n      <td>None</td>\n      <td>None</td>\n      <td>None</td>\n      <td>...</td>\n      <td>None</td>\n      <td>None</td>\n      <td>None</td>\n      <td>None</td>\n      <td>None</td>\n      <td>None</td>\n      <td>None</td>\n      <td>None</td>\n      <td>None</td>\n      <td>None</td>\n    </tr>\n  </tbody>\n</table>\n<p>5 rows \u00d7 31 columns</p>\n</div>", 
                        "text/plain": "  Postcode            Borough      Neighbourhood  Canadian postal codes   NaN  \\\n1      M1A       Not assigned       Not assigned                   None  None   \n2      M2A       Not assigned       Not assigned                   None  None   \n3      M3A         North York          Parkwoods                   None  None   \n4      M4A         North York   Victoria Village                   None  None   \n5      M5A   Downtown Toronto       Harbourfront                   None  None   \n\n    NaN   NaN   NaN   NaN   NaN  ...    NaN   NaN   NaN   NaN   NaN   NaN  \\\n1  None  None  None  None  None  ...   None  None  None  None  None  None   \n2  None  None  None  None  None  ...   None  None  None  None  None  None   \n3  None  None  None  None  None  ...   None  None  None  None  None  None   \n4  None  None  None  None  None  ...   None  None  None  None  None  None   \n5  None  None  None  None  None  ...   None  None  None  None  None  None   \n\n    NaN   NaN   NaN   NaN  \n1  None  None  None  None  \n2  None  None  None  None  \n3  None  None  None  None  \n4  None  None  None  None  \n5  None  None  None  None  \n\n[5 rows x 31 columns]"
                    }, 
                    "output_type": "execute_result"
                }
            ], 
            "source": "df6.rename(columns={\"Postcode\": \"Postcode\", \" Borough\": \"Borough\", \" Neighbourhood\":\"Neighbourhood\"}, inplace=True)\ndf6.head()"
        }, 
        {
            "execution_count": 29, 
            "cell_type": "code", 
            "metadata": {}, 
            "outputs": [
                {
                    "execution_count": 29, 
                    "metadata": {}, 
                    "data": {
                        "text/html": "<div>\n<style scoped>\n    .dataframe tbody tr th:only-of-type {\n        vertical-align: middle;\n    }\n\n    .dataframe tbody tr th {\n        vertical-align: top;\n    }\n\n    .dataframe thead th {\n        text-align: right;\n    }\n</style>\n<table border=\"1\" class=\"dataframe\">\n  <thead>\n    <tr style=\"text-align: right;\">\n      <th></th>\n      <th>Postcode</th>\n      <th>Borough</th>\n      <th>Neighbourhood</th>\n    </tr>\n  </thead>\n  <tbody>\n    <tr>\n      <th>1</th>\n      <td>M1A</td>\n      <td>Not assigned</td>\n      <td>Not assigned</td>\n    </tr>\n    <tr>\n      <th>2</th>\n      <td>M2A</td>\n      <td>Not assigned</td>\n      <td>Not assigned</td>\n    </tr>\n    <tr>\n      <th>3</th>\n      <td>M3A</td>\n      <td>North York</td>\n      <td>Parkwoods</td>\n    </tr>\n    <tr>\n      <th>4</th>\n      <td>M4A</td>\n      <td>North York</td>\n      <td>Victoria Village</td>\n    </tr>\n    <tr>\n      <th>5</th>\n      <td>M5A</td>\n      <td>Downtown Toronto</td>\n      <td>Harbourfront</td>\n    </tr>\n  </tbody>\n</table>\n</div>", 
                        "text/plain": "  Postcode            Borough      Neighbourhood\n1      M1A       Not assigned       Not assigned\n2      M2A       Not assigned       Not assigned\n3      M3A         North York          Parkwoods\n4      M4A         North York   Victoria Village\n5      M5A   Downtown Toronto       Harbourfront"
                    }, 
                    "output_type": "execute_result"
                }
            ], 
            "source": "Toronto_data=df6[['Postcode','Borough','Neighbourhood']]\nToronto_data.head()"
        }, 
        {
            "execution_count": 31, 
            "cell_type": "code", 
            "metadata": {}, 
            "outputs": [
                {
                    "execution_count": 31, 
                    "metadata": {}, 
                    "data": {
                        "text/plain": "(293, 3)"
                    }, 
                    "output_type": "execute_result"
                }
            ], 
            "source": "Toronto_data.shape"
        }, 
        {
            "execution_count": 32, 
            "cell_type": "code", 
            "metadata": {}, 
            "outputs": [
                {
                    "execution_count": 32, 
                    "metadata": {}, 
                    "data": {
                        "text/html": "<div>\n<style scoped>\n    .dataframe tbody tr th:only-of-type {\n        vertical-align: middle;\n    }\n\n    .dataframe tbody tr th {\n        vertical-align: top;\n    }\n\n    .dataframe thead th {\n        text-align: right;\n    }\n</style>\n<table border=\"1\" class=\"dataframe\">\n  <thead>\n    <tr style=\"text-align: right;\">\n      <th></th>\n      <th>Postcode</th>\n      <th>Borough</th>\n      <th>Neighbourhood</th>\n    </tr>\n  </thead>\n  <tbody>\n    <tr>\n      <th>284</th>\n      <td>M8Z</td>\n      <td>Etobicoke</td>\n      <td>Mimico NW</td>\n    </tr>\n    <tr>\n      <th>285</th>\n      <td>M8Z</td>\n      <td>Etobicoke</td>\n      <td>The Queensway West</td>\n    </tr>\n    <tr>\n      <th>286</th>\n      <td>M8Z</td>\n      <td>Etobicoke</td>\n      <td>Royal York South West</td>\n    </tr>\n    <tr>\n      <th>287</th>\n      <td>M8Z</td>\n      <td>Etobicoke</td>\n      <td>South of Bloor</td>\n    </tr>\n    <tr>\n      <th>288</th>\n      <td>M9Z</td>\n      <td>Not assigned</td>\n      <td>Not assigned</td>\n    </tr>\n    <tr>\n      <th>289</th>\n      <td>]</td>\n      <td>None</td>\n      <td>None</td>\n    </tr>\n    <tr>\n      <th>290</th>\n      <td>\\n</td>\n      <td>\\n]</td>\n      <td>None</td>\n    </tr>\n    <tr>\n      <th>291</th>\n      <td>\\n\\n\\nNL\\n\\nNS\\n\\nPE\\n\\nNB\\n\\nQC\\n\\nON\\n\\nMB\\n...</td>\n      <td>NL\\n</td>\n      <td>NS</td>\n    </tr>\n    <tr>\n      <th>292</th>\n      <td>NL\\n</td>\n      <td>NS\\n</td>\n      <td>PE</td>\n    </tr>\n    <tr>\n      <th>293</th>\n      <td>A\\n</td>\n      <td>B\\n</td>\n      <td>C</td>\n    </tr>\n  </tbody>\n</table>\n</div>", 
                        "text/plain": "                                              Postcode        Borough  \\\n284                                                M8Z      Etobicoke   \n285                                                M8Z      Etobicoke   \n286                                                M8Z      Etobicoke   \n287                                                M8Z      Etobicoke   \n288                                                M9Z   Not assigned   \n289                                                  ]           None   \n290                                                 \\n            \\n]   \n291  \\n\\n\\nNL\\n\\nNS\\n\\nPE\\n\\nNB\\n\\nQC\\n\\nON\\n\\nMB\\n...           NL\\n   \n292                                               NL\\n           NS\\n   \n293                                                A\\n            B\\n   \n\n              Neighbourhood  \n284               Mimico NW  \n285      The Queensway West  \n286   Royal York South West  \n287          South of Bloor  \n288            Not assigned  \n289                    None  \n290                    None  \n291                      NS  \n292                      PE  \n293                       C  "
                    }, 
                    "output_type": "execute_result"
                }
            ], 
            "source": "\nToronto_data.tail(10)"
        }, 
        {
            "execution_count": 33, 
            "cell_type": "code", 
            "metadata": {}, 
            "outputs": [
                {
                    "execution_count": 33, 
                    "metadata": {}, 
                    "data": {
                        "text/html": "<div>\n<style scoped>\n    .dataframe tbody tr th:only-of-type {\n        vertical-align: middle;\n    }\n\n    .dataframe tbody tr th {\n        vertical-align: top;\n    }\n\n    .dataframe thead th {\n        text-align: right;\n    }\n</style>\n<table border=\"1\" class=\"dataframe\">\n  <thead>\n    <tr style=\"text-align: right;\">\n      <th></th>\n      <th>Postcode</th>\n      <th>Borough</th>\n      <th>Neighbourhood</th>\n    </tr>\n  </thead>\n  <tbody>\n    <tr>\n      <th>1</th>\n      <td>M1A</td>\n      <td>Not assigned</td>\n      <td>Not assigned</td>\n    </tr>\n    <tr>\n      <th>2</th>\n      <td>M2A</td>\n      <td>Not assigned</td>\n      <td>Not assigned</td>\n    </tr>\n    <tr>\n      <th>3</th>\n      <td>M3A</td>\n      <td>North York</td>\n      <td>Parkwoods</td>\n    </tr>\n    <tr>\n      <th>4</th>\n      <td>M4A</td>\n      <td>North York</td>\n      <td>Victoria Village</td>\n    </tr>\n    <tr>\n      <th>5</th>\n      <td>M5A</td>\n      <td>Downtown Toronto</td>\n      <td>Harbourfront</td>\n    </tr>\n  </tbody>\n</table>\n</div>", 
                        "text/plain": "  Postcode            Borough      Neighbourhood\n1      M1A       Not assigned       Not assigned\n2      M2A       Not assigned       Not assigned\n3      M3A         North York          Parkwoods\n4      M4A         North York   Victoria Village\n5      M5A   Downtown Toronto       Harbourfront"
                    }, 
                    "output_type": "execute_result"
                }
            ], 
            "source": "Toronto_data = Toronto_data[:-5]\nToronto_data.head()"
        }, 
        {
            "execution_count": 34, 
            "cell_type": "code", 
            "metadata": {}, 
            "outputs": [
                {
                    "execution_count": 34, 
                    "metadata": {}, 
                    "data": {
                        "text/plain": "(288, 3)"
                    }, 
                    "output_type": "execute_result"
                }
            ], 
            "source": "Toronto_data.shape"
        }, 
        {
            "execution_count": 35, 
            "cell_type": "code", 
            "metadata": {}, 
            "outputs": [
                {
                    "execution_count": 35, 
                    "metadata": {}, 
                    "data": {
                        "text/html": "<div>\n<style scoped>\n    .dataframe tbody tr th:only-of-type {\n        vertical-align: middle;\n    }\n\n    .dataframe tbody tr th {\n        vertical-align: top;\n    }\n\n    .dataframe thead th {\n        text-align: right;\n    }\n</style>\n<table border=\"1\" class=\"dataframe\">\n  <thead>\n    <tr style=\"text-align: right;\">\n      <th></th>\n      <th>Postcode</th>\n      <th>Borough</th>\n      <th>Neighbourhood</th>\n    </tr>\n  </thead>\n  <tbody>\n    <tr>\n      <th>3</th>\n      <td>M3A</td>\n      <td>North York</td>\n      <td>Parkwoods</td>\n    </tr>\n    <tr>\n      <th>4</th>\n      <td>M4A</td>\n      <td>North York</td>\n      <td>Victoria Village</td>\n    </tr>\n    <tr>\n      <th>5</th>\n      <td>M5A</td>\n      <td>Downtown Toronto</td>\n      <td>Harbourfront</td>\n    </tr>\n    <tr>\n      <th>6</th>\n      <td>M5A</td>\n      <td>Downtown Toronto</td>\n      <td>Regent Park</td>\n    </tr>\n    <tr>\n      <th>7</th>\n      <td>M6A</td>\n      <td>North York</td>\n      <td>Lawrence Heights</td>\n    </tr>\n    <tr>\n      <th>8</th>\n      <td>M6A</td>\n      <td>North York</td>\n      <td>Lawrence Manor</td>\n    </tr>\n    <tr>\n      <th>9</th>\n      <td>M7A</td>\n      <td>Queen's Park</td>\n      <td>Not assigned</td>\n    </tr>\n    <tr>\n      <th>11</th>\n      <td>M9A</td>\n      <td>Etobicoke</td>\n      <td>Islington Avenue</td>\n    </tr>\n    <tr>\n      <th>12</th>\n      <td>M1B</td>\n      <td>Scarborough</td>\n      <td>Rouge</td>\n    </tr>\n    <tr>\n      <th>13</th>\n      <td>M1B</td>\n      <td>Scarborough</td>\n      <td>Malvern</td>\n    </tr>\n  </tbody>\n</table>\n</div>", 
                        "text/plain": "   Postcode            Borough      Neighbourhood\n3       M3A         North York          Parkwoods\n4       M4A         North York   Victoria Village\n5       M5A   Downtown Toronto       Harbourfront\n6       M5A   Downtown Toronto        Regent Park\n7       M6A         North York   Lawrence Heights\n8       M6A         North York     Lawrence Manor\n9       M7A       Queen's Park       Not assigned\n11      M9A          Etobicoke   Islington Avenue\n12      M1B        Scarborough              Rouge\n13      M1B        Scarborough            Malvern"
                    }, 
                    "output_type": "execute_result"
                }
            ], 
            "source": "Toronto_data=Toronto_data[~Toronto_data['Borough'].isin([\" Not assigned\"])]\nToronto_data.head(10)"
        }, 
        {
            "execution_count": 36, 
            "cell_type": "code", 
            "metadata": {}, 
            "outputs": [
                {
                    "execution_count": 36, 
                    "metadata": {}, 
                    "data": {
                        "text/plain": "(211, 3)"
                    }, 
                    "output_type": "execute_result"
                }
            ], 
            "source": "Toronto_data.shape"
        }, 
        {
            "execution_count": 37, 
            "cell_type": "code", 
            "metadata": {}, 
            "outputs": [
                {
                    "execution_count": 37, 
                    "metadata": {}, 
                    "data": {
                        "text/html": "<div>\n<style scoped>\n    .dataframe tbody tr th:only-of-type {\n        vertical-align: middle;\n    }\n\n    .dataframe tbody tr th {\n        vertical-align: top;\n    }\n\n    .dataframe thead th {\n        text-align: right;\n    }\n</style>\n<table border=\"1\" class=\"dataframe\">\n  <thead>\n    <tr style=\"text-align: right;\">\n      <th></th>\n      <th>Postcode</th>\n      <th>Borough</th>\n      <th>Neighbourhood</th>\n    </tr>\n  </thead>\n  <tbody>\n    <tr>\n      <th>0</th>\n      <td>M3A</td>\n      <td>North York</td>\n      <td>Parkwoods</td>\n    </tr>\n    <tr>\n      <th>1</th>\n      <td>M4A</td>\n      <td>North York</td>\n      <td>Victoria Village</td>\n    </tr>\n    <tr>\n      <th>2</th>\n      <td>M5A</td>\n      <td>Downtown Toronto</td>\n      <td>Harbourfront</td>\n    </tr>\n    <tr>\n      <th>3</th>\n      <td>M5A</td>\n      <td>Downtown Toronto</td>\n      <td>Regent Park</td>\n    </tr>\n    <tr>\n      <th>4</th>\n      <td>M6A</td>\n      <td>North York</td>\n      <td>Lawrence Heights</td>\n    </tr>\n    <tr>\n      <th>5</th>\n      <td>M6A</td>\n      <td>North York</td>\n      <td>Lawrence Manor</td>\n    </tr>\n    <tr>\n      <th>6</th>\n      <td>M7A</td>\n      <td>Queen's Park</td>\n      <td>Not assigned</td>\n    </tr>\n    <tr>\n      <th>7</th>\n      <td>M9A</td>\n      <td>Etobicoke</td>\n      <td>Islington Avenue</td>\n    </tr>\n    <tr>\n      <th>8</th>\n      <td>M1B</td>\n      <td>Scarborough</td>\n      <td>Rouge</td>\n    </tr>\n    <tr>\n      <th>9</th>\n      <td>M1B</td>\n      <td>Scarborough</td>\n      <td>Malvern</td>\n    </tr>\n  </tbody>\n</table>\n</div>", 
                        "text/plain": "  Postcode            Borough      Neighbourhood\n0      M3A         North York          Parkwoods\n1      M4A         North York   Victoria Village\n2      M5A   Downtown Toronto       Harbourfront\n3      M5A   Downtown Toronto        Regent Park\n4      M6A         North York   Lawrence Heights\n5      M6A         North York     Lawrence Manor\n6      M7A       Queen's Park       Not assigned\n7      M9A          Etobicoke   Islington Avenue\n8      M1B        Scarborough              Rouge\n9      M1B        Scarborough            Malvern"
                    }, 
                    "output_type": "execute_result"
                }
            ], 
            "source": "Toronto_data.reset_index(inplace=True, drop=True)\nToronto_data.head(10)"
        }, 
        {
            "execution_count": 38, 
            "cell_type": "code", 
            "metadata": {}, 
            "outputs": [
                {
                    "execution_count": 38, 
                    "metadata": {}, 
                    "data": {
                        "text/html": "<div>\n<style scoped>\n    .dataframe tbody tr th:only-of-type {\n        vertical-align: middle;\n    }\n\n    .dataframe tbody tr th {\n        vertical-align: top;\n    }\n\n    .dataframe thead th {\n        text-align: right;\n    }\n</style>\n<table border=\"1\" class=\"dataframe\">\n  <thead>\n    <tr style=\"text-align: right;\">\n      <th></th>\n      <th>Postcode</th>\n      <th>Borough</th>\n      <th>Neighbourhood</th>\n    </tr>\n  </thead>\n  <tbody>\n    <tr>\n      <th>0</th>\n      <td>M3A</td>\n      <td>North York</td>\n      <td>Parkwoods</td>\n    </tr>\n    <tr>\n      <th>1</th>\n      <td>M4A</td>\n      <td>North York</td>\n      <td>Victoria Village</td>\n    </tr>\n    <tr>\n      <th>2</th>\n      <td>M5A</td>\n      <td>Downtown Toronto</td>\n      <td>Harbourfront</td>\n    </tr>\n    <tr>\n      <th>3</th>\n      <td>M5A</td>\n      <td>Downtown Toronto</td>\n      <td>Regent Park</td>\n    </tr>\n    <tr>\n      <th>4</th>\n      <td>M6A</td>\n      <td>North York</td>\n      <td>Lawrence Heights</td>\n    </tr>\n    <tr>\n      <th>5</th>\n      <td>M6A</td>\n      <td>North York</td>\n      <td>Lawrence Manor</td>\n    </tr>\n    <tr>\n      <th>6</th>\n      <td>M7A</td>\n      <td>Queen's Park</td>\n      <td>Queen's Park</td>\n    </tr>\n    <tr>\n      <th>7</th>\n      <td>M9A</td>\n      <td>Etobicoke</td>\n      <td>Islington Avenue</td>\n    </tr>\n    <tr>\n      <th>8</th>\n      <td>M1B</td>\n      <td>Scarborough</td>\n      <td>Rouge</td>\n    </tr>\n    <tr>\n      <th>9</th>\n      <td>M1B</td>\n      <td>Scarborough</td>\n      <td>Malvern</td>\n    </tr>\n  </tbody>\n</table>\n</div>", 
                        "text/plain": "  Postcode            Borough      Neighbourhood\n0      M3A         North York          Parkwoods\n1      M4A         North York   Victoria Village\n2      M5A   Downtown Toronto       Harbourfront\n3      M5A   Downtown Toronto        Regent Park\n4      M6A         North York   Lawrence Heights\n5      M6A         North York     Lawrence Manor\n6      M7A       Queen's Park       Queen's Park\n7      M9A          Etobicoke   Islington Avenue\n8      M1B        Scarborough              Rouge\n9      M1B        Scarborough            Malvern"
                    }, 
                    "output_type": "execute_result"
                }
            ], 
            "source": "Toronto_data['Neighbourhood'][Toronto_data['Neighbourhood']==' Not assigned'] = Toronto_data['Borough'].values\nToronto_data.head(10)"
        }, 
        {
            "execution_count": 39, 
            "cell_type": "code", 
            "metadata": {}, 
            "outputs": [
                {
                    "execution_count": 39, 
                    "metadata": {}, 
                    "data": {
                        "text/html": "<div>\n<style scoped>\n    .dataframe tbody tr th:only-of-type {\n        vertical-align: middle;\n    }\n\n    .dataframe tbody tr th {\n        vertical-align: top;\n    }\n\n    .dataframe thead th {\n        text-align: right;\n    }\n</style>\n<table border=\"1\" class=\"dataframe\">\n  <thead>\n    <tr style=\"text-align: right;\">\n      <th></th>\n      <th>Postcode</th>\n      <th>Borough</th>\n      <th>Neighbourhood</th>\n    </tr>\n  </thead>\n  <tbody>\n    <tr>\n      <th>0</th>\n      <td>M1B</td>\n      <td>Scarborough</td>\n      <td>Rouge,  Malvern</td>\n    </tr>\n    <tr>\n      <th>1</th>\n      <td>M1C</td>\n      <td>Scarborough</td>\n      <td>Highland Creek,  Rouge Hill,  Port Union</td>\n    </tr>\n    <tr>\n      <th>2</th>\n      <td>M1E</td>\n      <td>Scarborough</td>\n      <td>Guildwood,  Morningside,  West Hill</td>\n    </tr>\n    <tr>\n      <th>3</th>\n      <td>M1G</td>\n      <td>Scarborough</td>\n      <td>Woburn</td>\n    </tr>\n    <tr>\n      <th>4</th>\n      <td>M1H</td>\n      <td>Scarborough</td>\n      <td>Cedarbrae</td>\n    </tr>\n    <tr>\n      <th>5</th>\n      <td>M1J</td>\n      <td>Scarborough</td>\n      <td>Scarborough Village</td>\n    </tr>\n    <tr>\n      <th>6</th>\n      <td>M1K</td>\n      <td>Scarborough</td>\n      <td>East Birchmount Park,  Ionview,  Kennedy Park</td>\n    </tr>\n    <tr>\n      <th>7</th>\n      <td>M1L</td>\n      <td>Scarborough</td>\n      <td>Clairlea,  Golden Mile,  Oakridge</td>\n    </tr>\n    <tr>\n      <th>8</th>\n      <td>M1M</td>\n      <td>Scarborough</td>\n      <td>Cliffcrest,  Cliffside,  Scarborough Village ...</td>\n    </tr>\n    <tr>\n      <th>9</th>\n      <td>M1N</td>\n      <td>Scarborough</td>\n      <td>Birch Cliff,  Cliffside West</td>\n    </tr>\n  </tbody>\n</table>\n</div>", 
                        "text/plain": "  Postcode       Borough                                      Neighbourhood\n0      M1B   Scarborough                                    Rouge,  Malvern\n1      M1C   Scarborough           Highland Creek,  Rouge Hill,  Port Union\n2      M1E   Scarborough                Guildwood,  Morningside,  West Hill\n3      M1G   Scarborough                                             Woburn\n4      M1H   Scarborough                                          Cedarbrae\n5      M1J   Scarborough                                Scarborough Village\n6      M1K   Scarborough      East Birchmount Park,  Ionview,  Kennedy Park\n7      M1L   Scarborough                  Clairlea,  Golden Mile,  Oakridge\n8      M1M   Scarborough   Cliffcrest,  Cliffside,  Scarborough Village ...\n9      M1N   Scarborough                       Birch Cliff,  Cliffside West"
                    }, 
                    "output_type": "execute_result"
                }
            ], 
            "source": "Toronto_data = Toronto_data.groupby('Postcode').agg({'Borough':'first', \n                             'Neighbourhood': ', '.join}).reset_index()\nToronto_data.head(10)"
        }, 
        {
            "execution_count": 40, 
            "cell_type": "code", 
            "metadata": {}, 
            "outputs": [
                {
                    "execution_count": 40, 
                    "metadata": {}, 
                    "data": {
                        "text/plain": "(103, 3)"
                    }, 
                    "output_type": "execute_result"
                }
            ], 
            "source": "Toronto_data.shape"
        }, 
        {
            "execution_count": 42, 
            "cell_type": "code", 
            "metadata": {}, 
            "outputs": [
                {
                    "execution_count": 42, 
                    "metadata": {}, 
                    "data": {
                        "text/html": "<div>\n<style scoped>\n    .dataframe tbody tr th:only-of-type {\n        vertical-align: middle;\n    }\n\n    .dataframe tbody tr th {\n        vertical-align: top;\n    }\n\n    .dataframe thead th {\n        text-align: right;\n    }\n</style>\n<table border=\"1\" class=\"dataframe\">\n  <thead>\n    <tr style=\"text-align: right;\">\n      <th></th>\n      <th>Postal Code</th>\n      <th>Latitude</th>\n      <th>Longitude</th>\n    </tr>\n  </thead>\n  <tbody>\n    <tr>\n      <th>0</th>\n      <td>M1B</td>\n      <td>43.806686</td>\n      <td>-79.194353</td>\n    </tr>\n    <tr>\n      <th>1</th>\n      <td>M1C</td>\n      <td>43.784535</td>\n      <td>-79.160497</td>\n    </tr>\n    <tr>\n      <th>2</th>\n      <td>M1E</td>\n      <td>43.763573</td>\n      <td>-79.188711</td>\n    </tr>\n    <tr>\n      <th>3</th>\n      <td>M1G</td>\n      <td>43.770992</td>\n      <td>-79.216917</td>\n    </tr>\n    <tr>\n      <th>4</th>\n      <td>M1H</td>\n      <td>43.773136</td>\n      <td>-79.239476</td>\n    </tr>\n    <tr>\n      <th>5</th>\n      <td>M1J</td>\n      <td>43.744734</td>\n      <td>-79.239476</td>\n    </tr>\n    <tr>\n      <th>6</th>\n      <td>M1K</td>\n      <td>43.727929</td>\n      <td>-79.262029</td>\n    </tr>\n    <tr>\n      <th>7</th>\n      <td>M1L</td>\n      <td>43.711112</td>\n      <td>-79.284577</td>\n    </tr>\n    <tr>\n      <th>8</th>\n      <td>M1M</td>\n      <td>43.716316</td>\n      <td>-79.239476</td>\n    </tr>\n    <tr>\n      <th>9</th>\n      <td>M1N</td>\n      <td>43.692657</td>\n      <td>-79.264848</td>\n    </tr>\n  </tbody>\n</table>\n</div>", 
                        "text/plain": "  Postal Code   Latitude  Longitude\n0         M1B  43.806686 -79.194353\n1         M1C  43.784535 -79.160497\n2         M1E  43.763573 -79.188711\n3         M1G  43.770992 -79.216917\n4         M1H  43.773136 -79.239476\n5         M1J  43.744734 -79.239476\n6         M1K  43.727929 -79.262029\n7         M1L  43.711112 -79.284577\n8         M1M  43.716316 -79.239476\n9         M1N  43.692657 -79.264848"
                    }, 
                    "output_type": "execute_result"
                }
            ], 
            "source": "import csv\nfilepath='http://cocl.us/Geospatial_data'\nToronto_loc=pd.read_csv(filepath)\nToronto_loc.head(10)"
        }, 
        {
            "execution_count": 43, 
            "cell_type": "code", 
            "metadata": {}, 
            "outputs": [
                {
                    "execution_count": 43, 
                    "metadata": {}, 
                    "data": {
                        "text/plain": "array(['Postal Code', 'Latitude', 'Longitude'], dtype=object)"
                    }, 
                    "output_type": "execute_result"
                }
            ], 
            "source": "Toronto_loc.columns.values"
        }, 
        {
            "execution_count": 44, 
            "cell_type": "code", 
            "metadata": {}, 
            "outputs": [
                {
                    "execution_count": 44, 
                    "metadata": {}, 
                    "data": {
                        "text/html": "<div>\n<style scoped>\n    .dataframe tbody tr th:only-of-type {\n        vertical-align: middle;\n    }\n\n    .dataframe tbody tr th {\n        vertical-align: top;\n    }\n\n    .dataframe thead th {\n        text-align: right;\n    }\n</style>\n<table border=\"1\" class=\"dataframe\">\n  <thead>\n    <tr style=\"text-align: right;\">\n      <th></th>\n      <th>Postcode</th>\n      <th>Latitude</th>\n      <th>Longitude</th>\n    </tr>\n  </thead>\n  <tbody>\n    <tr>\n      <th>0</th>\n      <td>M1B</td>\n      <td>43.806686</td>\n      <td>-79.194353</td>\n    </tr>\n    <tr>\n      <th>1</th>\n      <td>M1C</td>\n      <td>43.784535</td>\n      <td>-79.160497</td>\n    </tr>\n    <tr>\n      <th>2</th>\n      <td>M1E</td>\n      <td>43.763573</td>\n      <td>-79.188711</td>\n    </tr>\n    <tr>\n      <th>3</th>\n      <td>M1G</td>\n      <td>43.770992</td>\n      <td>-79.216917</td>\n    </tr>\n    <tr>\n      <th>4</th>\n      <td>M1H</td>\n      <td>43.773136</td>\n      <td>-79.239476</td>\n    </tr>\n    <tr>\n      <th>5</th>\n      <td>M1J</td>\n      <td>43.744734</td>\n      <td>-79.239476</td>\n    </tr>\n    <tr>\n      <th>6</th>\n      <td>M1K</td>\n      <td>43.727929</td>\n      <td>-79.262029</td>\n    </tr>\n    <tr>\n      <th>7</th>\n      <td>M1L</td>\n      <td>43.711112</td>\n      <td>-79.284577</td>\n    </tr>\n    <tr>\n      <th>8</th>\n      <td>M1M</td>\n      <td>43.716316</td>\n      <td>-79.239476</td>\n    </tr>\n    <tr>\n      <th>9</th>\n      <td>M1N</td>\n      <td>43.692657</td>\n      <td>-79.264848</td>\n    </tr>\n  </tbody>\n</table>\n</div>", 
                        "text/plain": "  Postcode   Latitude  Longitude\n0      M1B  43.806686 -79.194353\n1      M1C  43.784535 -79.160497\n2      M1E  43.763573 -79.188711\n3      M1G  43.770992 -79.216917\n4      M1H  43.773136 -79.239476\n5      M1J  43.744734 -79.239476\n6      M1K  43.727929 -79.262029\n7      M1L  43.711112 -79.284577\n8      M1M  43.716316 -79.239476\n9      M1N  43.692657 -79.264848"
                    }, 
                    "output_type": "execute_result"
                }
            ], 
            "source": "Toronto_loc = Toronto_loc.rename(columns={'Postal Code': 'Postcode'})\nToronto_loc.head(10)"
        }, 
        {
            "execution_count": 45, 
            "cell_type": "code", 
            "metadata": {}, 
            "outputs": [
                {
                    "execution_count": 45, 
                    "metadata": {}, 
                    "data": {
                        "text/html": "<div>\n<style scoped>\n    .dataframe tbody tr th:only-of-type {\n        vertical-align: middle;\n    }\n\n    .dataframe tbody tr th {\n        vertical-align: top;\n    }\n\n    .dataframe thead th {\n        text-align: right;\n    }\n</style>\n<table border=\"1\" class=\"dataframe\">\n  <thead>\n    <tr style=\"text-align: right;\">\n      <th></th>\n      <th>Postcode</th>\n      <th>Borough</th>\n      <th>Neighbourhood</th>\n      <th>Latitude</th>\n      <th>Longitude</th>\n    </tr>\n  </thead>\n  <tbody>\n    <tr>\n      <th>0</th>\n      <td>M1B</td>\n      <td>Scarborough</td>\n      <td>Rouge,  Malvern</td>\n      <td>43.806686</td>\n      <td>-79.194353</td>\n    </tr>\n    <tr>\n      <th>1</th>\n      <td>M1C</td>\n      <td>Scarborough</td>\n      <td>Highland Creek,  Rouge Hill,  Port Union</td>\n      <td>43.784535</td>\n      <td>-79.160497</td>\n    </tr>\n    <tr>\n      <th>2</th>\n      <td>M1E</td>\n      <td>Scarborough</td>\n      <td>Guildwood,  Morningside,  West Hill</td>\n      <td>43.763573</td>\n      <td>-79.188711</td>\n    </tr>\n    <tr>\n      <th>3</th>\n      <td>M1G</td>\n      <td>Scarborough</td>\n      <td>Woburn</td>\n      <td>43.770992</td>\n      <td>-79.216917</td>\n    </tr>\n    <tr>\n      <th>4</th>\n      <td>M1H</td>\n      <td>Scarborough</td>\n      <td>Cedarbrae</td>\n      <td>43.773136</td>\n      <td>-79.239476</td>\n    </tr>\n    <tr>\n      <th>5</th>\n      <td>M1J</td>\n      <td>Scarborough</td>\n      <td>Scarborough Village</td>\n      <td>43.744734</td>\n      <td>-79.239476</td>\n    </tr>\n    <tr>\n      <th>6</th>\n      <td>M1K</td>\n      <td>Scarborough</td>\n      <td>East Birchmount Park,  Ionview,  Kennedy Park</td>\n      <td>43.727929</td>\n      <td>-79.262029</td>\n    </tr>\n    <tr>\n      <th>7</th>\n      <td>M1L</td>\n      <td>Scarborough</td>\n      <td>Clairlea,  Golden Mile,  Oakridge</td>\n      <td>43.711112</td>\n      <td>-79.284577</td>\n    </tr>\n    <tr>\n      <th>8</th>\n      <td>M1M</td>\n      <td>Scarborough</td>\n      <td>Cliffcrest,  Cliffside,  Scarborough Village ...</td>\n      <td>43.716316</td>\n      <td>-79.239476</td>\n    </tr>\n    <tr>\n      <th>9</th>\n      <td>M1N</td>\n      <td>Scarborough</td>\n      <td>Birch Cliff,  Cliffside West</td>\n      <td>43.692657</td>\n      <td>-79.264848</td>\n    </tr>\n    <tr>\n      <th>10</th>\n      <td>M1P</td>\n      <td>Scarborough</td>\n      <td>Dorset Park,  Scarborough Town Centre,  Wexfo...</td>\n      <td>43.757410</td>\n      <td>-79.273304</td>\n    </tr>\n    <tr>\n      <th>11</th>\n      <td>M1R</td>\n      <td>Scarborough</td>\n      <td>Maryvale,  Wexford</td>\n      <td>43.750072</td>\n      <td>-79.295849</td>\n    </tr>\n    <tr>\n      <th>12</th>\n      <td>M1S</td>\n      <td>Scarborough</td>\n      <td>Agincourt</td>\n      <td>43.794200</td>\n      <td>-79.262029</td>\n    </tr>\n    <tr>\n      <th>13</th>\n      <td>M1T</td>\n      <td>Scarborough</td>\n      <td>Clarks Corners,  Sullivan,  Tam O'Shanter</td>\n      <td>43.781638</td>\n      <td>-79.304302</td>\n    </tr>\n    <tr>\n      <th>14</th>\n      <td>M1V</td>\n      <td>Scarborough</td>\n      <td>Agincourt North,  L'Amoreaux East,  Milliken,...</td>\n      <td>43.815252</td>\n      <td>-79.284577</td>\n    </tr>\n    <tr>\n      <th>15</th>\n      <td>M1W</td>\n      <td>Scarborough</td>\n      <td>L'Amoreaux West</td>\n      <td>43.799525</td>\n      <td>-79.318389</td>\n    </tr>\n    <tr>\n      <th>16</th>\n      <td>M1X</td>\n      <td>Scarborough</td>\n      <td>Upper Rouge</td>\n      <td>43.836125</td>\n      <td>-79.205636</td>\n    </tr>\n    <tr>\n      <th>17</th>\n      <td>M2H</td>\n      <td>North York</td>\n      <td>Hillcrest Village</td>\n      <td>43.803762</td>\n      <td>-79.363452</td>\n    </tr>\n    <tr>\n      <th>18</th>\n      <td>M2J</td>\n      <td>North York</td>\n      <td>Fairview,  Henry Farm,  Oriole</td>\n      <td>43.778517</td>\n      <td>-79.346556</td>\n    </tr>\n    <tr>\n      <th>19</th>\n      <td>M2K</td>\n      <td>North York</td>\n      <td>Bayview Village</td>\n      <td>43.786947</td>\n      <td>-79.385975</td>\n    </tr>\n    <tr>\n      <th>20</th>\n      <td>M2L</td>\n      <td>North York</td>\n      <td>Silver Hills,  York Mills</td>\n      <td>43.757490</td>\n      <td>-79.374714</td>\n    </tr>\n    <tr>\n      <th>21</th>\n      <td>M2M</td>\n      <td>North York</td>\n      <td>Newtonbrook,  Willowdale</td>\n      <td>43.789053</td>\n      <td>-79.408493</td>\n    </tr>\n    <tr>\n      <th>22</th>\n      <td>M2N</td>\n      <td>North York</td>\n      <td>Willowdale South</td>\n      <td>43.770120</td>\n      <td>-79.408493</td>\n    </tr>\n    <tr>\n      <th>23</th>\n      <td>M2P</td>\n      <td>North York</td>\n      <td>York Mills West</td>\n      <td>43.752758</td>\n      <td>-79.400049</td>\n    </tr>\n    <tr>\n      <th>24</th>\n      <td>M2R</td>\n      <td>North York</td>\n      <td>Willowdale West</td>\n      <td>43.782736</td>\n      <td>-79.442259</td>\n    </tr>\n    <tr>\n      <th>25</th>\n      <td>M3A</td>\n      <td>North York</td>\n      <td>Parkwoods</td>\n      <td>43.753259</td>\n      <td>-79.329656</td>\n    </tr>\n    <tr>\n      <th>26</th>\n      <td>M3B</td>\n      <td>North York</td>\n      <td>Don Mills North</td>\n      <td>43.745906</td>\n      <td>-79.352188</td>\n    </tr>\n    <tr>\n      <th>27</th>\n      <td>M3C</td>\n      <td>North York</td>\n      <td>Flemingdon Park,  Don Mills South</td>\n      <td>43.725900</td>\n      <td>-79.340923</td>\n    </tr>\n    <tr>\n      <th>28</th>\n      <td>M3H</td>\n      <td>North York</td>\n      <td>Bathurst Manor,  Downsview North,  Wilson Hei...</td>\n      <td>43.754328</td>\n      <td>-79.442259</td>\n    </tr>\n    <tr>\n      <th>29</th>\n      <td>M3J</td>\n      <td>North York</td>\n      <td>Northwood Park,  York University</td>\n      <td>43.767980</td>\n      <td>-79.487262</td>\n    </tr>\n    <tr>\n      <th>...</th>\n      <td>...</td>\n      <td>...</td>\n      <td>...</td>\n      <td>...</td>\n      <td>...</td>\n    </tr>\n    <tr>\n      <th>73</th>\n      <td>M6C</td>\n      <td>York</td>\n      <td>Humewood-Cedarvale</td>\n      <td>43.693781</td>\n      <td>-79.428191</td>\n    </tr>\n    <tr>\n      <th>74</th>\n      <td>M6E</td>\n      <td>York</td>\n      <td>Caledonia-Fairbanks</td>\n      <td>43.689026</td>\n      <td>-79.453512</td>\n    </tr>\n    <tr>\n      <th>75</th>\n      <td>M6G</td>\n      <td>Downtown Toronto</td>\n      <td>Christie</td>\n      <td>43.669542</td>\n      <td>-79.422564</td>\n    </tr>\n    <tr>\n      <th>76</th>\n      <td>M6H</td>\n      <td>West Toronto</td>\n      <td>Dovercourt Village,  Dufferin</td>\n      <td>43.669005</td>\n      <td>-79.442259</td>\n    </tr>\n    <tr>\n      <th>77</th>\n      <td>M6J</td>\n      <td>West Toronto</td>\n      <td>Little Portugal,  Trinity</td>\n      <td>43.647927</td>\n      <td>-79.419750</td>\n    </tr>\n    <tr>\n      <th>78</th>\n      <td>M6K</td>\n      <td>West Toronto</td>\n      <td>Brockton,  Exhibition Place,  Parkdale Village</td>\n      <td>43.636847</td>\n      <td>-79.428191</td>\n    </tr>\n    <tr>\n      <th>79</th>\n      <td>M6L</td>\n      <td>North York</td>\n      <td>Downsview,  North Park,  Upwood Park</td>\n      <td>43.713756</td>\n      <td>-79.490074</td>\n    </tr>\n    <tr>\n      <th>80</th>\n      <td>M6M</td>\n      <td>York</td>\n      <td>Del Ray,  Keelesdale,  Mount Dennis,  Silvert...</td>\n      <td>43.691116</td>\n      <td>-79.476013</td>\n    </tr>\n    <tr>\n      <th>81</th>\n      <td>M6N</td>\n      <td>York</td>\n      <td>The Junction North,  Runnymede</td>\n      <td>43.673185</td>\n      <td>-79.487262</td>\n    </tr>\n    <tr>\n      <th>82</th>\n      <td>M6P</td>\n      <td>West Toronto</td>\n      <td>High Park,  The Junction South</td>\n      <td>43.661608</td>\n      <td>-79.464763</td>\n    </tr>\n    <tr>\n      <th>83</th>\n      <td>M6R</td>\n      <td>West Toronto</td>\n      <td>Parkdale,  Roncesvalles</td>\n      <td>43.648960</td>\n      <td>-79.456325</td>\n    </tr>\n    <tr>\n      <th>84</th>\n      <td>M6S</td>\n      <td>West Toronto</td>\n      <td>Runnymede,  Swansea</td>\n      <td>43.651571</td>\n      <td>-79.484450</td>\n    </tr>\n    <tr>\n      <th>85</th>\n      <td>M7A</td>\n      <td>Queen's Park</td>\n      <td>Queen's Park</td>\n      <td>43.662301</td>\n      <td>-79.389494</td>\n    </tr>\n    <tr>\n      <th>86</th>\n      <td>M7R</td>\n      <td>Mississauga</td>\n      <td>Canada Post Gateway Processing Centre</td>\n      <td>43.636966</td>\n      <td>-79.615819</td>\n    </tr>\n    <tr>\n      <th>87</th>\n      <td>M7Y</td>\n      <td>East Toronto</td>\n      <td>Business Reply Mail Processing Centre 969 Eas...</td>\n      <td>43.662744</td>\n      <td>-79.321558</td>\n    </tr>\n    <tr>\n      <th>88</th>\n      <td>M8V</td>\n      <td>Etobicoke</td>\n      <td>Humber Bay Shores,  Mimico South,  New Toronto</td>\n      <td>43.605647</td>\n      <td>-79.501321</td>\n    </tr>\n    <tr>\n      <th>89</th>\n      <td>M8W</td>\n      <td>Etobicoke</td>\n      <td>Alderwood,  Long Branch</td>\n      <td>43.602414</td>\n      <td>-79.543484</td>\n    </tr>\n    <tr>\n      <th>90</th>\n      <td>M8X</td>\n      <td>Etobicoke</td>\n      <td>The Kingsway,  Montgomery Road,  Old Mill North</td>\n      <td>43.653654</td>\n      <td>-79.506944</td>\n    </tr>\n    <tr>\n      <th>91</th>\n      <td>M8Y</td>\n      <td>Etobicoke</td>\n      <td>Humber Bay,  King's Mill Park,  Kingsway Park...</td>\n      <td>43.636258</td>\n      <td>-79.498509</td>\n    </tr>\n    <tr>\n      <th>92</th>\n      <td>M8Z</td>\n      <td>Etobicoke</td>\n      <td>Kingsway Park South West,  Mimico NW,  The Qu...</td>\n      <td>43.628841</td>\n      <td>-79.520999</td>\n    </tr>\n    <tr>\n      <th>93</th>\n      <td>M9A</td>\n      <td>Etobicoke</td>\n      <td>Islington Avenue</td>\n      <td>43.667856</td>\n      <td>-79.532242</td>\n    </tr>\n    <tr>\n      <th>94</th>\n      <td>M9B</td>\n      <td>Etobicoke</td>\n      <td>Cloverdale,  Islington,  Martin Grove,  Princ...</td>\n      <td>43.650943</td>\n      <td>-79.554724</td>\n    </tr>\n    <tr>\n      <th>95</th>\n      <td>M9C</td>\n      <td>Etobicoke</td>\n      <td>Bloordale Gardens,  Eringate,  Markland Wood,...</td>\n      <td>43.643515</td>\n      <td>-79.577201</td>\n    </tr>\n    <tr>\n      <th>96</th>\n      <td>M9L</td>\n      <td>North York</td>\n      <td>Humber Summit</td>\n      <td>43.756303</td>\n      <td>-79.565963</td>\n    </tr>\n    <tr>\n      <th>97</th>\n      <td>M9M</td>\n      <td>North York</td>\n      <td>Emery,  Humberlea</td>\n      <td>43.724766</td>\n      <td>-79.532242</td>\n    </tr>\n    <tr>\n      <th>98</th>\n      <td>M9N</td>\n      <td>York</td>\n      <td>Weston</td>\n      <td>43.706876</td>\n      <td>-79.518188</td>\n    </tr>\n    <tr>\n      <th>99</th>\n      <td>M9P</td>\n      <td>Etobicoke</td>\n      <td>Westmount</td>\n      <td>43.696319</td>\n      <td>-79.532242</td>\n    </tr>\n    <tr>\n      <th>100</th>\n      <td>M9R</td>\n      <td>Etobicoke</td>\n      <td>Kingsview Village,  Martin Grove Gardens,  Ri...</td>\n      <td>43.688905</td>\n      <td>-79.554724</td>\n    </tr>\n    <tr>\n      <th>101</th>\n      <td>M9V</td>\n      <td>Etobicoke</td>\n      <td>Albion Gardens,  Beaumond Heights,  Humbergat...</td>\n      <td>43.739416</td>\n      <td>-79.588437</td>\n    </tr>\n    <tr>\n      <th>102</th>\n      <td>M9W</td>\n      <td>Etobicoke</td>\n      <td>Northwest</td>\n      <td>43.706748</td>\n      <td>-79.594054</td>\n    </tr>\n  </tbody>\n</table>\n<p>103 rows \u00d7 5 columns</p>\n</div>", 
                        "text/plain": "    Postcode            Borough  \\\n0        M1B        Scarborough   \n1        M1C        Scarborough   \n2        M1E        Scarborough   \n3        M1G        Scarborough   \n4        M1H        Scarborough   \n5        M1J        Scarborough   \n6        M1K        Scarborough   \n7        M1L        Scarborough   \n8        M1M        Scarborough   \n9        M1N        Scarborough   \n10       M1P        Scarborough   \n11       M1R        Scarborough   \n12       M1S        Scarborough   \n13       M1T        Scarborough   \n14       M1V        Scarborough   \n15       M1W        Scarborough   \n16       M1X        Scarborough   \n17       M2H         North York   \n18       M2J         North York   \n19       M2K         North York   \n20       M2L         North York   \n21       M2M         North York   \n22       M2N         North York   \n23       M2P         North York   \n24       M2R         North York   \n25       M3A         North York   \n26       M3B         North York   \n27       M3C         North York   \n28       M3H         North York   \n29       M3J         North York   \n..       ...                ...   \n73       M6C               York   \n74       M6E               York   \n75       M6G   Downtown Toronto   \n76       M6H       West Toronto   \n77       M6J       West Toronto   \n78       M6K       West Toronto   \n79       M6L         North York   \n80       M6M               York   \n81       M6N               York   \n82       M6P       West Toronto   \n83       M6R       West Toronto   \n84       M6S       West Toronto   \n85       M7A       Queen's Park   \n86       M7R        Mississauga   \n87       M7Y       East Toronto   \n88       M8V          Etobicoke   \n89       M8W          Etobicoke   \n90       M8X          Etobicoke   \n91       M8Y          Etobicoke   \n92       M8Z          Etobicoke   \n93       M9A          Etobicoke   \n94       M9B          Etobicoke   \n95       M9C          Etobicoke   \n96       M9L         North York   \n97       M9M         North York   \n98       M9N               York   \n99       M9P          Etobicoke   \n100      M9R          Etobicoke   \n101      M9V          Etobicoke   \n102      M9W          Etobicoke   \n\n                                         Neighbourhood   Latitude  Longitude  \n0                                      Rouge,  Malvern  43.806686 -79.194353  \n1             Highland Creek,  Rouge Hill,  Port Union  43.784535 -79.160497  \n2                  Guildwood,  Morningside,  West Hill  43.763573 -79.188711  \n3                                               Woburn  43.770992 -79.216917  \n4                                            Cedarbrae  43.773136 -79.239476  \n5                                  Scarborough Village  43.744734 -79.239476  \n6        East Birchmount Park,  Ionview,  Kennedy Park  43.727929 -79.262029  \n7                    Clairlea,  Golden Mile,  Oakridge  43.711112 -79.284577  \n8     Cliffcrest,  Cliffside,  Scarborough Village ...  43.716316 -79.239476  \n9                         Birch Cliff,  Cliffside West  43.692657 -79.264848  \n10    Dorset Park,  Scarborough Town Centre,  Wexfo...  43.757410 -79.273304  \n11                                  Maryvale,  Wexford  43.750072 -79.295849  \n12                                           Agincourt  43.794200 -79.262029  \n13           Clarks Corners,  Sullivan,  Tam O'Shanter  43.781638 -79.304302  \n14    Agincourt North,  L'Amoreaux East,  Milliken,...  43.815252 -79.284577  \n15                                     L'Amoreaux West  43.799525 -79.318389  \n16                                         Upper Rouge  43.836125 -79.205636  \n17                                   Hillcrest Village  43.803762 -79.363452  \n18                      Fairview,  Henry Farm,  Oriole  43.778517 -79.346556  \n19                                     Bayview Village  43.786947 -79.385975  \n20                           Silver Hills,  York Mills  43.757490 -79.374714  \n21                            Newtonbrook,  Willowdale  43.789053 -79.408493  \n22                                    Willowdale South  43.770120 -79.408493  \n23                                     York Mills West  43.752758 -79.400049  \n24                                     Willowdale West  43.782736 -79.442259  \n25                                           Parkwoods  43.753259 -79.329656  \n26                                     Don Mills North  43.745906 -79.352188  \n27                   Flemingdon Park,  Don Mills South  43.725900 -79.340923  \n28    Bathurst Manor,  Downsview North,  Wilson Hei...  43.754328 -79.442259  \n29                    Northwood Park,  York University  43.767980 -79.487262  \n..                                                 ...        ...        ...  \n73                                  Humewood-Cedarvale  43.693781 -79.428191  \n74                                 Caledonia-Fairbanks  43.689026 -79.453512  \n75                                            Christie  43.669542 -79.422564  \n76                       Dovercourt Village,  Dufferin  43.669005 -79.442259  \n77                           Little Portugal,  Trinity  43.647927 -79.419750  \n78      Brockton,  Exhibition Place,  Parkdale Village  43.636847 -79.428191  \n79                Downsview,  North Park,  Upwood Park  43.713756 -79.490074  \n80    Del Ray,  Keelesdale,  Mount Dennis,  Silvert...  43.691116 -79.476013  \n81                      The Junction North,  Runnymede  43.673185 -79.487262  \n82                      High Park,  The Junction South  43.661608 -79.464763  \n83                             Parkdale,  Roncesvalles  43.648960 -79.456325  \n84                                 Runnymede,  Swansea  43.651571 -79.484450  \n85                                        Queen's Park  43.662301 -79.389494  \n86               Canada Post Gateway Processing Centre  43.636966 -79.615819  \n87    Business Reply Mail Processing Centre 969 Eas...  43.662744 -79.321558  \n88      Humber Bay Shores,  Mimico South,  New Toronto  43.605647 -79.501321  \n89                             Alderwood,  Long Branch  43.602414 -79.543484  \n90     The Kingsway,  Montgomery Road,  Old Mill North  43.653654 -79.506944  \n91    Humber Bay,  King's Mill Park,  Kingsway Park...  43.636258 -79.498509  \n92    Kingsway Park South West,  Mimico NW,  The Qu...  43.628841 -79.520999  \n93                                    Islington Avenue  43.667856 -79.532242  \n94    Cloverdale,  Islington,  Martin Grove,  Princ...  43.650943 -79.554724  \n95    Bloordale Gardens,  Eringate,  Markland Wood,...  43.643515 -79.577201  \n96                                       Humber Summit  43.756303 -79.565963  \n97                                   Emery,  Humberlea  43.724766 -79.532242  \n98                                              Weston  43.706876 -79.518188  \n99                                           Westmount  43.696319 -79.532242  \n100   Kingsview Village,  Martin Grove Gardens,  Ri...  43.688905 -79.554724  \n101   Albion Gardens,  Beaumond Heights,  Humbergat...  43.739416 -79.588437  \n102                                          Northwest  43.706748 -79.594054  \n\n[103 rows x 5 columns]"
                    }, 
                    "output_type": "execute_result"
                }
            ], 
            "source": "Location_data=pd.merge(Toronto_data, Toronto_loc, on='Postcode', how='left')\nLocation_data"
        }, 
        {
            "execution_count": null, 
            "cell_type": "code", 
            "metadata": {}, 
            "outputs": [], 
            "source": ""
        }
    ], 
    "metadata": {
        "kernelspec": {
            "display_name": "Python 3.5", 
            "name": "python3", 
            "language": "python"
        }, 
        "language_info": {
            "mimetype": "text/x-python", 
            "nbconvert_exporter": "python", 
            "version": "3.5.5", 
            "name": "python", 
            "file_extension": ".py", 
            "pygments_lexer": "ipython3", 
            "codemirror_mode": {
                "version": 3, 
                "name": "ipython"
            }
        }
    }, 
    "nbformat": 4
}