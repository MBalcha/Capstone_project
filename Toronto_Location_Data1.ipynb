{
    "nbformat_minor": 1, 
    "cells": [
        {
            "execution_count": 1, 
            "cell_type": "code", 
            "metadata": {}, 
            "outputs": [], 
            "source": "#start by importing the necessary modules (pandas, numpy, matplotlib.pyplot, seaborn)\nimport pandas as pd\nimport numpy as np\nimport matplotlib.pyplot as plt\nimport seaborn as sns\n%matplotlib inline"
        }, 
        {
            "execution_count": 4, 
            "cell_type": "code", 
            "metadata": {}, 
            "outputs": [], 
            "source": "#The urllib.request module is used to open URLs\n#The Beautiful Soup package is used to extract data from html files\nfrom urllib.request import urlopen\nfrom bs4 import BeautifulSoup\n\n#After importing necessary modules, specify the URL containing the dataset and \n#pass it to urlopen() to get the html of the page\nurl = \"https://en.wikipedia.org/wiki/List_of_postal_codes_of_Canada:_M\"\nhtml = urlopen(url)"
        }, 
        {
            "execution_count": 5, 
            "cell_type": "code", 
            "metadata": {}, 
            "outputs": [
                {
                    "output_type": "stream", 
                    "name": "stdout", 
                    "text": "<title>List of postal codes of Canada: M - Wikipedia</title>\n"
                }
            ], 
            "source": "#Next step is to create a Beautiful Soup object from the html. \n#This is done by passing the html to the BeautifulSoup() function\n#The soup object allows you to extract interesting information\nsoup = BeautifulSoup(html, 'lxml')\ntype(soup)\n# Get the title\ntitle = soup.title\nprint(title)"
        }, 
        {
            "execution_count": 7, 
            "cell_type": "code", 
            "metadata": {}, 
            "outputs": [], 
            "source": "# Print out the text\ntext = soup.get_text()\n#print(soup.text)"
        }, 
        {
            "execution_count": 9, 
            "cell_type": "code", 
            "metadata": {}, 
            "outputs": [], 
            "source": "# Print out the text\ntext = soup.get_text()\n#print(soup.text)"
        }, 
        {
            "execution_count": 13, 
            "cell_type": "code", 
            "metadata": {}, 
            "outputs": [
                {
                    "output_type": "stream", 
                    "name": "stdout", 
                    "text": "None\n#mw-head\n#p-search\n/wiki/Postal_codes_in_Canada\n/wiki/Toronto\n/wiki/Ontario\n/wiki/Canada_Post\n#cite_note-1\n/wiki/Mobile_app\n/wiki/Smartphones\n/wiki/IPhone\n/wiki/BlackBerry\n#cite_note-2\n/wiki/CD-ROM\n/wiki/Toronto\n/wiki/Postal_codes_in_Canada#Forward_sortation_areas\n/w/index.php?title=List_of_postal_codes_of_Canada:_M&action=edit&section=1\n/wiki/North_York\n/wiki/Parkwoods\n/wiki/North_York\n/wiki/Victoria_Village\n/wiki/Downtown_Toronto\n/wiki/Harbourfront_(Toronto)\n/wiki/Downtown_Toronto\n/wiki/Regent_Park\n/wiki/North_York\n/wiki/Lawrence_Heights\n/wiki/North_York\n/wiki/Lawrence_Manor\n/wiki/Queen%27s_Park_(Toronto)\n/wiki/Etobicoke\n/wiki/Islington_Avenue\n/wiki/Scarborough,_Toronto\n/wiki/Rouge,_Toronto\n/wiki/Scarborough,_Toronto\n/wiki/Malvern,_Toronto\n/wiki/North_York\n/wiki/East_York\n/wiki/Woodbine_Gardens\n/wiki/East_York\n/wiki/Parkview_Hill\n/wiki/Downtown_Toronto\n/wiki/Downtown_Toronto\n/wiki/North_York\n/wiki/Etobicoke\n/wiki/Etobicoke\n/wiki/Islington,_Toronto\n/wiki/Etobicoke\n/wiki/Etobicoke\n/wiki/Princess_Gardens\n/wiki/Etobicoke\n/wiki/West_Deane_Park\n/wiki/Scarborough,_Toronto\n/wiki/Highland_Creek_(Toronto)\n/wiki/Scarborough,_Toronto\n/wiki/Rouge_Hill\n/wiki/Scarborough,_Toronto\n/wiki/Port_Union,_Toronto\n/wiki/North_York\n/wiki/Flemingdon_Park\n/wiki/North_York\n/wiki/East_York\n/wiki/Woodbine_Heights\n/wiki/Downtown_Toronto\n/wiki/St._James_Town\n/wiki/Humewood-Cedarvale\n/wiki/Etobicoke\n/wiki/Etobicoke\n/wiki/Etobicoke\n/wiki/Markland_Wood\n/wiki/Etobicoke\n/wiki/Scarborough,_Toronto\n/wiki/Scarborough,_Toronto\n/wiki/Morningside,_Toronto\n/wiki/Scarborough,_Toronto\n/wiki/West_Hill,_Toronto\n/wiki/East_Toronto\n/wiki/The_Beaches\n/wiki/Downtown_Toronto\n/wiki/Berczy_Park\n/wiki/Scarborough,_Toronto\n/wiki/Woburn,_Toronto\n/wiki/East_York\n/wiki/Leaside\n/wiki/Downtown_Toronto\n/wiki/Downtown_Toronto\n/wiki/Scarborough,_Toronto\n/wiki/North_York\n/wiki/Hillcrest_Village\n/wiki/North_York\n/wiki/Bathurst_Manor\n/wiki/North_York\n/wiki/North_York\n/wiki/Wilson_Heights,_Toronto\n/wiki/East_York\n/wiki/Thorncliffe_Park\n/wiki/Downtown_Toronto\n/wiki/Downtown_Toronto\n/wiki/Downtown_Toronto\n/wiki/West_Toronto\n/wiki/Dovercourt_Village\n/wiki/West_Toronto\n/wiki/Scarborough,_Toronto\n/wiki/Scarborough_Village\n/wiki/North_York\n/wiki/North_York\n/wiki/Henry_Farm\n/wiki/North_York\n/wiki/North_York\n/wiki/Northwood_Park\n/wiki/North_York\n/wiki/York_University\n/wiki/East_York\n/wiki/East_Toronto\n/wiki/Downtown_Toronto\n/wiki/Downtown_Toronto\n/wiki/Toronto_Islands\n/wiki/Downtown_Toronto\n/wiki/Union_Station_(Toronto)\n/wiki/West_Toronto\n/wiki/Little_Portugal,_Toronto\n/wiki/West_Toronto\n/wiki/Trinity%E2%80%93Bellwoods\n/wiki/Scarborough,_Toronto\n/wiki/Scarborough,_Toronto\n/wiki/Ionview\n/wiki/Scarborough,_Toronto\n/wiki/Kennedy_Park,_Toronto\n/wiki/North_York\n/wiki/Bayview_Village\n/wiki/North_York\n/wiki/CFB_Toronto\n/wiki/North_York\n/wiki/East_Toronto\n/wiki/East_Toronto\n/wiki/Riverdale,_Toronto\n/wiki/Downtown_Toronto\n/wiki/Design_Exchange\n/wiki/Downtown_Toronto\n/wiki/Toronto_Dominion_Centre\n/wiki/West_Toronto\n/wiki/West_Toronto\n/wiki/Exhibition_Place\n/wiki/West_Toronto\n/wiki/Parkdale_Village\n/wiki/Scarborough,_Toronto\n/wiki/Clairlea\n/wiki/Scarborough,_Toronto\n/wiki/Golden_Mile,_Toronto\n/wiki/Scarborough,_Toronto\n/wiki/Oakridge,_Toronto\n/wiki/North_York\n/wiki/North_York\n/wiki/York_Mills\n/wiki/North_York\n/wiki/Downsview\n/wiki/East_Toronto\n/wiki/East_Toronto\n/wiki/India_Bazaar\n/wiki/Downtown_Toronto\n/wiki/Commerce_Court\n/wiki/Downtown_Toronto\n/wiki/North_York\n/wiki/Downsview,_Toronto\n/wiki/North_York\n/wiki/North_York\n/wiki/North_York\n/wiki/Humber_Summit\n/wiki/Scarborough,_Toronto\n/wiki/Cliffcrest\n/wiki/Scarborough,_Toronto\n/wiki/Cliffside,_Toronto\n/wiki/Scarborough,_Toronto\n/wiki/North_York\n/wiki/Newtonbrook\n/wiki/North_York\n/wiki/Willowdale,_Toronto\n/wiki/North_York\n/wiki/East_Toronto\n/wiki/North_York\n/wiki/Bedford_Park,_Toronto\n/wiki/North_York\n/wiki/York\n/wiki/York\n/wiki/Keelesdale\n/wiki/York\n/wiki/Mount_Dennis\n/wiki/York\n/wiki/Silverthorn,_Toronto\n/wiki/North_York\n/wiki/Emery,_Toronto\n/wiki/North_York\n/wiki/Humberlea\n/wiki/Scarborough,_Toronto\n/wiki/Birch_Cliff\n/wiki/Scarborough,_Toronto\n/wiki/North_York\n/wiki/North_York\n/wiki/Central_Toronto\n/wiki/Lawrence_Park,_Toronto\n/wiki/Central_Toronto\n/wiki/York\n/wiki/York\n/wiki/York\n/wiki/Weston,_Toronto\n/wiki/Scarborough,_Toronto\n/wiki/Dorset_Park\n/wiki/Scarborough,_Toronto\n/wiki/Scarborough_Town_Centre\n/wiki/Scarborough,_Toronto\n/wiki/Wexford_Heights\n/wiki/North_York\n/wiki/Central_Toronto\n/wiki/Central_Toronto\n/wiki/Forest_Hill_North\n/wiki/Central_Toronto\n/wiki/West_Toronto\n/wiki/High_Park\n/wiki/West_Toronto\n/wiki/Etobicoke\n/wiki/Scarborough,_Toronto\n/wiki/Maryvale,_Toronto\n/wiki/Scarborough,_Toronto\n/wiki/Wexford,_Toronto\n/wiki/North_York\n/wiki/Willowdale_West\n/wiki/Central_Toronto\n/wiki/Central_Toronto\n/wiki/The_Annex\n/wiki/Central_Toronto\n/wiki/Central_Toronto\n/wiki/Yorkville,_Toronto\n/wiki/West_Toronto\n/wiki/Parkdale,_Toronto\n/wiki/West_Toronto\n/wiki/Roncesvalles,_Toronto\n/wiki/Etobicoke\n/wiki/Kingsview_Village\n/wiki/Etobicoke\n/wiki/Etobicoke\n/wiki/Etobicoke\n/wiki/Scarborough,_Toronto\n/wiki/Agincourt,_Toronto\n/wiki/Central_Toronto\n/wiki/Downtown_Toronto\n/wiki/Downtown_Toronto\n/wiki/University_of_Toronto\n/wiki/West_Toronto\n/wiki/Runnymede,_Toronto\n/wiki/West_Toronto\n/wiki/Swansea,_Toronto\n/wiki/Scarborough,_Toronto\n/wiki/Scarborough,_Toronto\n/wiki/Scarborough,_Toronto\n/wiki/Tam_O%27Shanter_%E2%80%93_Sullivan\n/wiki/Central_Toronto\n/wiki/Moore_Park,_Toronto\n/wiki/Central_Toronto\n/wiki/Downtown_Toronto\n/wiki/Chinatown,_Toronto\n/wiki/Downtown_Toronto\n/wiki/Grange_Park_(Toronto)\n/wiki/Downtown_Toronto\n/wiki/Kensington_Market\n/wiki/Scarborough,_Toronto\n/wiki/Agincourt_North\n/wiki/Scarborough,_Toronto\n/wiki/Scarborough,_Toronto\n/wiki/Milliken,_Ontario\n/wiki/Scarborough,_Toronto\n/wiki/Central_Toronto\n/wiki/Deer_Park,_Toronto\n/wiki/Central_Toronto\n/wiki/Central_Toronto\n/wiki/Rathnelly\n/wiki/Central_Toronto\n/wiki/South_Hill,_Toronto\n/wiki/Central_Toronto\n/wiki/Downtown_Toronto\n/wiki/CN_Tower\n/wiki/Downtown_Toronto\n/wiki/Downtown_Toronto\n/wiki/Downtown_Toronto\n/wiki/Downtown_Toronto\n/wiki/King_and_Spadina\n/wiki/Downtown_Toronto\n/wiki/Railway_Lands\n/wiki/Downtown_Toronto\n/wiki/South_Niagara\n/wiki/Etobicoke\n/wiki/Etobicoke\n/wiki/Etobicoke\n/wiki/New_Toronto\n/wiki/Etobicoke\n/wiki/Etobicoke\n/wiki/Beaumond_Heights\n/wiki/Etobicoke\n/wiki/Etobicoke\n/wiki/Mount_Olive-Silverstone-Jamestown\n/wiki/Etobicoke\n/wiki/Mount_Olive-Silverstone-Jamestown\n/wiki/Etobicoke\n/wiki/Silverstone,_Toronto\n/wiki/Etobicoke\n/wiki/South_Steeles\n/wiki/Etobicoke\n/wiki/Thistletown\n/wiki/Scarborough,_Toronto\n/wiki/Downtown_Toronto\n/wiki/Rosedale,_Toronto\n/wiki/Downtown_Toronto\n/wiki/Etobicoke\n/wiki/Alderwood,_Toronto\n/wiki/Etobicoke\n/wiki/Long_Branch,_Toronto\n/wiki/Etobicoke\n/wiki/Scarborough,_Toronto\n/wiki/Upper_Rouge\n/wiki/Downtown_Toronto\n/wiki/Cabbagetown,_Toronto\n/wiki/Downtown_Toronto\n/wiki/St._James_Town\n/wiki/Downtown_Toronto\n/wiki/First_Canadian_Place\n/wiki/Downtown_Toronto\n/wiki/Underground_city\n/wiki/Etobicoke\n/wiki/The_Kingsway\n/wiki/Etobicoke\n/wiki/Etobicoke\n/wiki/Downtown_Toronto\n/wiki/Church_and_Wellesley\n/wiki/East_Toronto\n/wiki/Etobicoke\n/wiki/Humber_Bay\n/wiki/Etobicoke\n/wiki/Etobicoke\n/wiki/Etobicoke\n/wiki/Mimico\n/wiki/Etobicoke\n/wiki/Old_Mill,_Toronto\n/wiki/Etobicoke\n/wiki/The_Queensway\n/wiki/Etobicoke\n/wiki/Fairmont_Royal_York_Hotel\n/wiki/Etobicoke\n/wiki/Sunnylea\n/wiki/Etobicoke\n/wiki/Etobicoke\n/wiki/Mimico\n/wiki/Etobicoke\n/wiki/The_Queensway\n/wiki/Etobicoke\n/wiki/Etobicoke\n#cite_note-statcan-3\n/w/index.php?title=List_of_postal_codes_of_Canada:_M&action=edit&section=2\n#cite_note-statcan-3\n/w/index.php?title=List_of_postal_codes_of_Canada:_M&action=edit&section=3\n/w/index.php?title=List_of_postal_codes_of_Canada:_M&action=edit&section=4\n#cite_ref-1\nhttps://www.canadapost.ca/cpotools/apps/fpc/personal/findByCity?execution=e2s1\n#cite_ref-2\nhttps://web.archive.org/web/20110519093024/http://www.canadapost.ca/cpo/mc/personal/tools/mobileapp/default.jsf\nhttp://www.canadapost.ca/cpo/mc/personal/tools/mobileapp/default.jsf\n#cite_ref-statcan_3-0\n#cite_ref-statcan_3-1\nhttp://www12.statcan.ca/english/census06/data/popdwell/Table.cfm?T=1201&SR=1&S=0&O=A&RPP=9999&PR=0&CMA=0\n/wiki/File:Flag_of_Canada.svg\n/wiki/Postal_codes_in_Canada\n/wiki/File:Canadian_postal_district_map_(without_legends).svg\n/wiki/Newfoundland_and_Labrador\n/wiki/Nova_Scotia\n/wiki/Prince_Edward_Island\n/wiki/New_Brunswick\n/wiki/Quebec\n/wiki/Ontario\n/wiki/Manitoba\n/wiki/Saskatchewan\n/wiki/Alberta\n/wiki/British_Columbia\n/wiki/Nunavut\n/wiki/Northwest_Territories\n/wiki/Yukon\n/wiki/List_of_postal_codes_of_Canada:_A\n/wiki/List_of_postal_codes_of_Canada:_B\n/wiki/List_of_postal_codes_of_Canada:_C\n/wiki/List_of_postal_codes_of_Canada:_E\n/wiki/List_of_postal_codes_of_Canada:_G\n/wiki/List_of_postal_codes_of_Canada:_H\n/wiki/List_of_postal_codes_of_Canada:_J\n/wiki/List_of_postal_codes_of_Canada:_K\n/wiki/List_of_postal_codes_of_Canada:_L\nNone\n/wiki/List_of_postal_codes_of_Canada:_N\n/wiki/List_of_postal_codes_of_Canada:_P\n/wiki/List_of_postal_codes_of_Canada:_R\n/wiki/List_of_postal_codes_of_Canada:_S\n/wiki/List_of_postal_codes_of_Canada:_T\n/wiki/List_of_postal_codes_of_Canada:_V\n/wiki/List_of_postal_codes_of_Canada:_X\n/wiki/List_of_postal_codes_of_Canada:_Y\nhttps://en.wikipedia.org/w/index.php?title=List_of_postal_codes_of_Canada:_M&oldid=890001695\n/wiki/Help:Category\n/wiki/Category:Communications_in_Ontario\n/wiki/Category:Postal_codes_in_Canada\n/wiki/Category:Toronto\n/wiki/Category:Ontario-related_lists\n/wiki/Special:MyTalk\n/wiki/Special:MyContributions\n/w/index.php?title=Special:CreateAccount&returnto=List+of+postal+codes+of+Canada%3A+M\n/w/index.php?title=Special:UserLogin&returnto=List+of+postal+codes+of+Canada%3A+M\n/wiki/List_of_postal_codes_of_Canada:_M\n/wiki/Talk:List_of_postal_codes_of_Canada:_M\n/wiki/List_of_postal_codes_of_Canada:_M\n/w/index.php?title=List_of_postal_codes_of_Canada:_M&action=edit\n/w/index.php?title=List_of_postal_codes_of_Canada:_M&action=history\n/wiki/Main_Page\n/wiki/Main_Page\n/wiki/Portal:Contents\n/wiki/Portal:Featured_content\n/wiki/Portal:Current_events\n/wiki/Special:Random\nhttps://donate.wikimedia.org/wiki/Special:FundraiserRedirector?utm_source=donate&utm_medium=sidebar&utm_campaign=C13_en.wikipedia.org&uselang=en\n//shop.wikimedia.org\n/wiki/Help:Contents\n/wiki/Wikipedia:About\n/wiki/Wikipedia:Community_portal\n/wiki/Special:RecentChanges\n//en.wikipedia.org/wiki/Wikipedia:Contact_us\n/wiki/Special:WhatLinksHere/List_of_postal_codes_of_Canada:_M\n/wiki/Special:RecentChangesLinked/List_of_postal_codes_of_Canada:_M\n/wiki/Wikipedia:File_Upload_Wizard\n/wiki/Special:SpecialPages\n/w/index.php?title=List_of_postal_codes_of_Canada:_M&oldid=890001695\n/w/index.php?title=List_of_postal_codes_of_Canada:_M&action=info\nhttps://www.wikidata.org/wiki/Special:EntityPage/Q3248240\n/w/index.php?title=Special:CiteThisPage&page=List_of_postal_codes_of_Canada%3A_M&id=890001695\n/w/index.php?title=Special:Book&bookcmd=book_creator&referer=List+of+postal+codes+of+Canada%3A+M\n/w/index.php?title=Special:ElectronPdf&page=List+of+postal+codes+of+Canada%3A+M&action=show-download-screen\n/w/index.php?title=List_of_postal_codes_of_Canada:_M&printable=yes\nhttps://fr.wikipedia.org/wiki/Liste_des_codes_postaux_canadiens_d%C3%A9butant_par_M\nhttps://www.wikidata.org/wiki/Special:EntityPage/Q3248240#sitelinks-wikipedia\n//en.wikipedia.org/wiki/Wikipedia:Text_of_Creative_Commons_Attribution-ShareAlike_3.0_Unported_License\n//creativecommons.org/licenses/by-sa/3.0/\n//foundation.wikimedia.org/wiki/Terms_of_Use\n//foundation.wikimedia.org/wiki/Privacy_policy\n//www.wikimediafoundation.org/\nhttps://foundation.wikimedia.org/wiki/Privacy_policy\n/wiki/Wikipedia:About\n/wiki/Wikipedia:General_disclaimer\n//en.wikipedia.org/wiki/Wikipedia:Contact_us\nhttps://www.mediawiki.org/wiki/Special:MyLanguage/How_to_contribute\nhttps://foundation.wikimedia.org/wiki/Cookie_statement\n//en.m.wikipedia.org/w/index.php?title=List_of_postal_codes_of_Canada:_M&mobileaction=toggle_view_mobile\nhttps://wikimediafoundation.org/\nhttps://www.mediawiki.org/\n"
                }
            ], 
            "source": "soup.find_all('a')\nall_links = soup.find_all(\"a\")\nfor link in all_links:\n    print(link.get(\"href\"))"
        }, 
        {
            "execution_count": 14, 
            "cell_type": "code", 
            "metadata": {}, 
            "outputs": [
                {
                    "output_type": "stream", 
                    "name": "stdout", 
                    "text": "[<tr>\n<th>Postcode</th>\n<th>Borough</th>\n<th>Neighbourhood\n</th></tr>, <tr>\n<td>M1A</td>\n<td>Not assigned</td>\n<td>Not assigned\n</td></tr>, <tr>\n<td>M2A</td>\n<td>Not assigned</td>\n<td>Not assigned\n</td></tr>, <tr>\n<td>M3A</td>\n<td><a href=\"/wiki/North_York\" title=\"North York\">North York</a></td>\n<td><a href=\"/wiki/Parkwoods\" title=\"Parkwoods\">Parkwoods</a>\n</td></tr>, <tr>\n<td>M4A</td>\n<td><a href=\"/wiki/North_York\" title=\"North York\">North York</a></td>\n<td><a href=\"/wiki/Victoria_Village\" title=\"Victoria Village\">Victoria Village</a>\n</td></tr>, <tr>\n<td>M5A</td>\n<td><a href=\"/wiki/Downtown_Toronto\" title=\"Downtown Toronto\">Downtown Toronto</a></td>\n<td><a href=\"/wiki/Harbourfront_(Toronto)\" title=\"Harbourfront (Toronto)\">Harbourfront</a>\n</td></tr>, <tr>\n<td>M5A</td>\n<td><a href=\"/wiki/Downtown_Toronto\" title=\"Downtown Toronto\">Downtown Toronto</a></td>\n<td><a href=\"/wiki/Regent_Park\" title=\"Regent Park\">Regent Park</a>\n</td></tr>, <tr>\n<td>M6A</td>\n<td><a href=\"/wiki/North_York\" title=\"North York\">North York</a></td>\n<td><a href=\"/wiki/Lawrence_Heights\" title=\"Lawrence Heights\">Lawrence Heights</a>\n</td></tr>, <tr>\n<td>M6A</td>\n<td><a href=\"/wiki/North_York\" title=\"North York\">North York</a></td>\n<td><a href=\"/wiki/Lawrence_Manor\" title=\"Lawrence Manor\">Lawrence Manor</a>\n</td></tr>, <tr>\n<td>M7A</td>\n<td><a href=\"/wiki/Queen%27s_Park_(Toronto)\" title=\"Queen's Park (Toronto)\">Queen's Park</a></td>\n<td>Not assigned\n</td></tr>]\n"
                }
            ], 
            "source": "# Print the first 10 rows for sanity check\nrows = soup.find_all('tr')\nprint(rows[:10])"
        }, 
        {
            "execution_count": 15, 
            "cell_type": "code", 
            "metadata": {}, 
            "outputs": [
                {
                    "output_type": "stream", 
                    "name": "stdout", 
                    "text": "[<td align=\"center\" style=\"border: 1px solid #FF0000; background-color: #FFE0E0; font-size: 135%;\" width=\"5%\"><a href=\"/wiki/List_of_postal_codes_of_Canada:_A\" title=\"List of postal codes of Canada: A\">A</a>\n</td>, <td align=\"center\" style=\"border: 1px solid #FF4000; background-color: #FFE8E0; font-size: 135%;\" width=\"5%\"><a href=\"/wiki/List_of_postal_codes_of_Canada:_B\" title=\"List of postal codes of Canada: B\">B</a>\n</td>, <td align=\"center\" style=\"border: 1px solid #FF8000; background-color: #FFF0E0; font-size: 135%;\" width=\"5%\"><a href=\"/wiki/List_of_postal_codes_of_Canada:_C\" title=\"List of postal codes of Canada: C\">C</a>\n</td>, <td align=\"center\" style=\"border: 1px solid #FFC000; background-color: #FFF8E0; font-size: 135%;\" width=\"5%\"><a href=\"/wiki/List_of_postal_codes_of_Canada:_E\" title=\"List of postal codes of Canada: E\">E</a>\n</td>, <td align=\"center\" style=\"border: 1px solid #FFFF00; background-color: #FFFFE0; font-size: 135%;\" width=\"5%\"><a href=\"/wiki/List_of_postal_codes_of_Canada:_G\" title=\"List of postal codes of Canada: G\">G</a>\n</td>, <td align=\"center\" style=\"border: 1px solid #C0FF00; background-color: #F8FFE0; font-size: 135%;\" width=\"5%\"><a href=\"/wiki/List_of_postal_codes_of_Canada:_H\" title=\"List of postal codes of Canada: H\">H</a>\n</td>, <td align=\"center\" style=\"border: 1px solid #80FF00; background-color: #F0FFE0; font-size: 135%;\" width=\"5%\"><a href=\"/wiki/List_of_postal_codes_of_Canada:_J\" title=\"List of postal codes of Canada: J\">J</a>\n</td>, <td align=\"center\" style=\"border: 1px solid #00FF00; background-color: #E0FFE0; font-size: 135%;\" width=\"5%\"><a href=\"/wiki/List_of_postal_codes_of_Canada:_K\" title=\"List of postal codes of Canada: K\">K</a>\n</td>, <td align=\"center\" style=\"border: 1px solid #00FF80; background-color: #E0FFF0; font-size: 135%;\" width=\"5%\"><a href=\"/wiki/List_of_postal_codes_of_Canada:_L\" title=\"List of postal codes of Canada: L\">L</a>\n</td>, <td align=\"center\" style=\"border: 1px solid #E0FFF8; background-color: #00FFC0; font-size: 135%; color: black;\" width=\"5%\"><a class=\"mw-selflink selflink\">M</a>\n</td>, <td align=\"center\" style=\"border: 1px solid #00FFE0; background-color: #E0FFFC; font-size: 135%;\" width=\"5%\"><a href=\"/wiki/List_of_postal_codes_of_Canada:_N\" title=\"List of postal codes of Canada: N\">N</a>\n</td>, <td align=\"center\" style=\"border: 1px solid #00FFFF; background-color: #E0FFFF; font-size: 135%;\" width=\"5%\"><a href=\"/wiki/List_of_postal_codes_of_Canada:_P\" title=\"List of postal codes of Canada: P\">P</a>\n</td>, <td align=\"center\" style=\"border: 1px solid #00C0FF; background-color: #E0F8FF; font-size: 135%;\" width=\"5%\"><a href=\"/wiki/List_of_postal_codes_of_Canada:_R\" title=\"List of postal codes of Canada: R\">R</a>\n</td>, <td align=\"center\" style=\"border: 1px solid #0080FF; background-color: #E0F0FF; font-size: 135%;\" width=\"5%\"><a href=\"/wiki/List_of_postal_codes_of_Canada:_S\" title=\"List of postal codes of Canada: S\">S</a>\n</td>, <td align=\"center\" style=\"border: 1px solid #0040FF; background-color: #E0E8FF; font-size: 135%;\" width=\"5%\"><a href=\"/wiki/List_of_postal_codes_of_Canada:_T\" title=\"List of postal codes of Canada: T\">T</a>\n</td>, <td align=\"center\" style=\"border: 1px solid #0000FF; background-color: #E0E0FF; font-size: 135%;\" width=\"5%\"><a href=\"/wiki/List_of_postal_codes_of_Canada:_V\" title=\"List of postal codes of Canada: V\">V</a>\n</td>, <td align=\"center\" style=\"border: 1px solid #A000FF; background-color: #E8E0FF; font-size: 135%;\" width=\"5%\"><a href=\"/wiki/List_of_postal_codes_of_Canada:_X\" title=\"List of postal codes of Canada: X\">X</a>\n</td>, <td align=\"center\" style=\"border: 1px solid #FF00FF; background-color: #FFE0FF; font-size: 135%;\" width=\"5%\"><a href=\"/wiki/List_of_postal_codes_of_Canada:_Y\" title=\"List of postal codes of Canada: Y\">Y</a>\n</td>]\n"
                }, 
                {
                    "execution_count": 15, 
                    "metadata": {}, 
                    "data": {
                        "text/plain": "bs4.element.ResultSet"
                    }, 
                    "output_type": "execute_result"
                }
            ], 
            "source": "for row in rows:\n    row_td = row.find_all('td')\nprint(row_td)\ntype(row_td)"
        }, 
        {
            "execution_count": 18, 
            "cell_type": "code", 
            "metadata": {}, 
            "outputs": [
                {
                    "output_type": "stream", 
                    "name": "stdout", 
                    "text": "[A\n, B\n, C\n, E\n, G\n, H\n, J\n, K\n, L\n, M\n, N\n, P\n, R\n, S\n, T\n, V\n, X\n, Y\n]\n"
                }, 
                {
                    "execution_count": 18, 
                    "metadata": {}, 
                    "data": {
                        "text/plain": "str"
                    }, 
                    "output_type": "execute_result"
                }
            ], 
            "source": "\n#Using regular expressions is highly discouraged since it requires \n#several lines of code and one can easily make mistakes.\n\nimport re\n\nlist_rows = []\nfor row in rows:\n    cells = row.find_all('td')\n    str_cells = str(cells)\n    clean = re.compile('<.*?>')\n    clean2 = (re.sub(clean, '',str_cells))\n    list_rows.append(clean2)\nprint(clean2)\ntype(clean2)"
        }, 
        {
            "execution_count": 19, 
            "cell_type": "code", 
            "metadata": {}, 
            "outputs": [
                {
                    "execution_count": 19, 
                    "metadata": {}, 
                    "data": {
                        "text/html": "<div>\n<style scoped>\n    .dataframe tbody tr th:only-of-type {\n        vertical-align: middle;\n    }\n\n    .dataframe tbody tr th {\n        vertical-align: top;\n    }\n\n    .dataframe thead th {\n        text-align: right;\n    }\n</style>\n<table border=\"1\" class=\"dataframe\">\n  <thead>\n    <tr style=\"text-align: right;\">\n      <th></th>\n      <th>0</th>\n    </tr>\n  </thead>\n  <tbody>\n    <tr>\n      <th>0</th>\n      <td>[]</td>\n    </tr>\n    <tr>\n      <th>1</th>\n      <td>[M1A, Not assigned, Not assigned\\n]</td>\n    </tr>\n    <tr>\n      <th>2</th>\n      <td>[M2A, Not assigned, Not assigned\\n]</td>\n    </tr>\n    <tr>\n      <th>3</th>\n      <td>[M3A, North York, Parkwoods\\n]</td>\n    </tr>\n    <tr>\n      <th>4</th>\n      <td>[M4A, North York, Victoria Village\\n]</td>\n    </tr>\n    <tr>\n      <th>5</th>\n      <td>[M5A, Downtown Toronto, Harbourfront\\n]</td>\n    </tr>\n    <tr>\n      <th>6</th>\n      <td>[M5A, Downtown Toronto, Regent Park\\n]</td>\n    </tr>\n    <tr>\n      <th>7</th>\n      <td>[M6A, North York, Lawrence Heights\\n]</td>\n    </tr>\n    <tr>\n      <th>8</th>\n      <td>[M6A, North York, Lawrence Manor\\n]</td>\n    </tr>\n    <tr>\n      <th>9</th>\n      <td>[M7A, Queen's Park, Not assigned\\n]</td>\n    </tr>\n  </tbody>\n</table>\n</div>", 
                        "text/plain": "                                         0\n0                                       []\n1      [M1A, Not assigned, Not assigned\\n]\n2      [M2A, Not assigned, Not assigned\\n]\n3           [M3A, North York, Parkwoods\\n]\n4    [M4A, North York, Victoria Village\\n]\n5  [M5A, Downtown Toronto, Harbourfront\\n]\n6   [M5A, Downtown Toronto, Regent Park\\n]\n7    [M6A, North York, Lawrence Heights\\n]\n8      [M6A, North York, Lawrence Manor\\n]\n9      [M7A, Queen's Park, Not assigned\\n]"
                    }, 
                    "output_type": "execute_result"
                }
            ], 
            "source": "#The next step is to convert the list into a dataframe and get a quick view of the first 10 rows using Pandas.\ndf = pd.DataFrame(list_rows)\ndf.head(10)"
        }, 
        {
            "execution_count": 20, 
            "cell_type": "code", 
            "metadata": {}, 
            "outputs": [
                {
                    "execution_count": 20, 
                    "metadata": {}, 
                    "data": {
                        "text/html": "<div>\n<style scoped>\n    .dataframe tbody tr th:only-of-type {\n        vertical-align: middle;\n    }\n\n    .dataframe tbody tr th {\n        vertical-align: top;\n    }\n\n    .dataframe thead th {\n        text-align: right;\n    }\n</style>\n<table border=\"1\" class=\"dataframe\">\n  <thead>\n    <tr style=\"text-align: right;\">\n      <th></th>\n      <th>0</th>\n      <th>1</th>\n      <th>2</th>\n      <th>3</th>\n      <th>4</th>\n      <th>5</th>\n      <th>6</th>\n      <th>7</th>\n      <th>8</th>\n      <th>9</th>\n      <th>...</th>\n      <th>21</th>\n      <th>22</th>\n      <th>23</th>\n      <th>24</th>\n      <th>25</th>\n      <th>26</th>\n      <th>27</th>\n      <th>28</th>\n      <th>29</th>\n      <th>30</th>\n    </tr>\n  </thead>\n  <tbody>\n    <tr>\n      <th>0</th>\n      <td>[]</td>\n      <td>None</td>\n      <td>None</td>\n      <td>None</td>\n      <td>None</td>\n      <td>None</td>\n      <td>None</td>\n      <td>None</td>\n      <td>None</td>\n      <td>None</td>\n      <td>...</td>\n      <td>None</td>\n      <td>None</td>\n      <td>None</td>\n      <td>None</td>\n      <td>None</td>\n      <td>None</td>\n      <td>None</td>\n      <td>None</td>\n      <td>None</td>\n      <td>None</td>\n    </tr>\n    <tr>\n      <th>1</th>\n      <td>[M1A</td>\n      <td>Not assigned</td>\n      <td>Not assigned\\n]</td>\n      <td>None</td>\n      <td>None</td>\n      <td>None</td>\n      <td>None</td>\n      <td>None</td>\n      <td>None</td>\n      <td>None</td>\n      <td>...</td>\n      <td>None</td>\n      <td>None</td>\n      <td>None</td>\n      <td>None</td>\n      <td>None</td>\n      <td>None</td>\n      <td>None</td>\n      <td>None</td>\n      <td>None</td>\n      <td>None</td>\n    </tr>\n    <tr>\n      <th>2</th>\n      <td>[M2A</td>\n      <td>Not assigned</td>\n      <td>Not assigned\\n]</td>\n      <td>None</td>\n      <td>None</td>\n      <td>None</td>\n      <td>None</td>\n      <td>None</td>\n      <td>None</td>\n      <td>None</td>\n      <td>...</td>\n      <td>None</td>\n      <td>None</td>\n      <td>None</td>\n      <td>None</td>\n      <td>None</td>\n      <td>None</td>\n      <td>None</td>\n      <td>None</td>\n      <td>None</td>\n      <td>None</td>\n    </tr>\n    <tr>\n      <th>3</th>\n      <td>[M3A</td>\n      <td>North York</td>\n      <td>Parkwoods\\n]</td>\n      <td>None</td>\n      <td>None</td>\n      <td>None</td>\n      <td>None</td>\n      <td>None</td>\n      <td>None</td>\n      <td>None</td>\n      <td>...</td>\n      <td>None</td>\n      <td>None</td>\n      <td>None</td>\n      <td>None</td>\n      <td>None</td>\n      <td>None</td>\n      <td>None</td>\n      <td>None</td>\n      <td>None</td>\n      <td>None</td>\n    </tr>\n    <tr>\n      <th>4</th>\n      <td>[M4A</td>\n      <td>North York</td>\n      <td>Victoria Village\\n]</td>\n      <td>None</td>\n      <td>None</td>\n      <td>None</td>\n      <td>None</td>\n      <td>None</td>\n      <td>None</td>\n      <td>None</td>\n      <td>...</td>\n      <td>None</td>\n      <td>None</td>\n      <td>None</td>\n      <td>None</td>\n      <td>None</td>\n      <td>None</td>\n      <td>None</td>\n      <td>None</td>\n      <td>None</td>\n      <td>None</td>\n    </tr>\n    <tr>\n      <th>5</th>\n      <td>[M5A</td>\n      <td>Downtown Toronto</td>\n      <td>Harbourfront\\n]</td>\n      <td>None</td>\n      <td>None</td>\n      <td>None</td>\n      <td>None</td>\n      <td>None</td>\n      <td>None</td>\n      <td>None</td>\n      <td>...</td>\n      <td>None</td>\n      <td>None</td>\n      <td>None</td>\n      <td>None</td>\n      <td>None</td>\n      <td>None</td>\n      <td>None</td>\n      <td>None</td>\n      <td>None</td>\n      <td>None</td>\n    </tr>\n    <tr>\n      <th>6</th>\n      <td>[M5A</td>\n      <td>Downtown Toronto</td>\n      <td>Regent Park\\n]</td>\n      <td>None</td>\n      <td>None</td>\n      <td>None</td>\n      <td>None</td>\n      <td>None</td>\n      <td>None</td>\n      <td>None</td>\n      <td>...</td>\n      <td>None</td>\n      <td>None</td>\n      <td>None</td>\n      <td>None</td>\n      <td>None</td>\n      <td>None</td>\n      <td>None</td>\n      <td>None</td>\n      <td>None</td>\n      <td>None</td>\n    </tr>\n    <tr>\n      <th>7</th>\n      <td>[M6A</td>\n      <td>North York</td>\n      <td>Lawrence Heights\\n]</td>\n      <td>None</td>\n      <td>None</td>\n      <td>None</td>\n      <td>None</td>\n      <td>None</td>\n      <td>None</td>\n      <td>None</td>\n      <td>...</td>\n      <td>None</td>\n      <td>None</td>\n      <td>None</td>\n      <td>None</td>\n      <td>None</td>\n      <td>None</td>\n      <td>None</td>\n      <td>None</td>\n      <td>None</td>\n      <td>None</td>\n    </tr>\n    <tr>\n      <th>8</th>\n      <td>[M6A</td>\n      <td>North York</td>\n      <td>Lawrence Manor\\n]</td>\n      <td>None</td>\n      <td>None</td>\n      <td>None</td>\n      <td>None</td>\n      <td>None</td>\n      <td>None</td>\n      <td>None</td>\n      <td>...</td>\n      <td>None</td>\n      <td>None</td>\n      <td>None</td>\n      <td>None</td>\n      <td>None</td>\n      <td>None</td>\n      <td>None</td>\n      <td>None</td>\n      <td>None</td>\n      <td>None</td>\n    </tr>\n    <tr>\n      <th>9</th>\n      <td>[M7A</td>\n      <td>Queen's Park</td>\n      <td>Not assigned\\n]</td>\n      <td>None</td>\n      <td>None</td>\n      <td>None</td>\n      <td>None</td>\n      <td>None</td>\n      <td>None</td>\n      <td>None</td>\n      <td>...</td>\n      <td>None</td>\n      <td>None</td>\n      <td>None</td>\n      <td>None</td>\n      <td>None</td>\n      <td>None</td>\n      <td>None</td>\n      <td>None</td>\n      <td>None</td>\n      <td>None</td>\n    </tr>\n  </tbody>\n</table>\n<p>10 rows \u00d7 31 columns</p>\n</div>", 
                        "text/plain": "     0                  1                     2     3     4     5     6   \\\n0    []               None                  None  None  None  None  None   \n1  [M1A       Not assigned       Not assigned\\n]  None  None  None  None   \n2  [M2A       Not assigned       Not assigned\\n]  None  None  None  None   \n3  [M3A         North York          Parkwoods\\n]  None  None  None  None   \n4  [M4A         North York   Victoria Village\\n]  None  None  None  None   \n5  [M5A   Downtown Toronto       Harbourfront\\n]  None  None  None  None   \n6  [M5A   Downtown Toronto        Regent Park\\n]  None  None  None  None   \n7  [M6A         North York   Lawrence Heights\\n]  None  None  None  None   \n8  [M6A         North York     Lawrence Manor\\n]  None  None  None  None   \n9  [M7A       Queen's Park       Not assigned\\n]  None  None  None  None   \n\n     7     8     9   ...     21    22    23    24    25    26    27    28  \\\n0  None  None  None  ...   None  None  None  None  None  None  None  None   \n1  None  None  None  ...   None  None  None  None  None  None  None  None   \n2  None  None  None  ...   None  None  None  None  None  None  None  None   \n3  None  None  None  ...   None  None  None  None  None  None  None  None   \n4  None  None  None  ...   None  None  None  None  None  None  None  None   \n5  None  None  None  ...   None  None  None  None  None  None  None  None   \n6  None  None  None  ...   None  None  None  None  None  None  None  None   \n7  None  None  None  ...   None  None  None  None  None  None  None  None   \n8  None  None  None  ...   None  None  None  None  None  None  None  None   \n9  None  None  None  ...   None  None  None  None  None  None  None  None   \n\n     29    30  \n0  None  None  \n1  None  None  \n2  None  None  \n3  None  None  \n4  None  None  \n5  None  None  \n6  None  None  \n7  None  None  \n8  None  None  \n9  None  None  \n\n[10 rows x 31 columns]"
                    }, 
                    "output_type": "execute_result"
                }
            ], 
            "source": "#Data Manipulation and Cleaning\n#The dataframe is not in the format we want. To clean it up, you should split the \"0\" column into \n#multiple columns at the comma position. This is accomplished by using the str.split() method.\n\ndf1 = df[0].str.split(',', expand=True)\ndf1.head(10)"
        }, 
        {
            "execution_count": 21, 
            "cell_type": "code", 
            "metadata": {}, 
            "outputs": [
                {
                    "execution_count": 21, 
                    "metadata": {}, 
                    "data": {
                        "text/html": "<div>\n<style scoped>\n    .dataframe tbody tr th:only-of-type {\n        vertical-align: middle;\n    }\n\n    .dataframe tbody tr th {\n        vertical-align: top;\n    }\n\n    .dataframe thead th {\n        text-align: right;\n    }\n</style>\n<table border=\"1\" class=\"dataframe\">\n  <thead>\n    <tr style=\"text-align: right;\">\n      <th></th>\n      <th>0</th>\n      <th>1</th>\n      <th>2</th>\n      <th>3</th>\n      <th>4</th>\n      <th>5</th>\n      <th>6</th>\n      <th>7</th>\n      <th>8</th>\n      <th>9</th>\n      <th>...</th>\n      <th>21</th>\n      <th>22</th>\n      <th>23</th>\n      <th>24</th>\n      <th>25</th>\n      <th>26</th>\n      <th>27</th>\n      <th>28</th>\n      <th>29</th>\n      <th>30</th>\n    </tr>\n  </thead>\n  <tbody>\n    <tr>\n      <th>0</th>\n      <td>]</td>\n      <td>None</td>\n      <td>None</td>\n      <td>None</td>\n      <td>None</td>\n      <td>None</td>\n      <td>None</td>\n      <td>None</td>\n      <td>None</td>\n      <td>None</td>\n      <td>...</td>\n      <td>None</td>\n      <td>None</td>\n      <td>None</td>\n      <td>None</td>\n      <td>None</td>\n      <td>None</td>\n      <td>None</td>\n      <td>None</td>\n      <td>None</td>\n      <td>None</td>\n    </tr>\n    <tr>\n      <th>1</th>\n      <td>M1A</td>\n      <td>Not assigned</td>\n      <td>Not assigned</td>\n      <td>None</td>\n      <td>None</td>\n      <td>None</td>\n      <td>None</td>\n      <td>None</td>\n      <td>None</td>\n      <td>None</td>\n      <td>...</td>\n      <td>None</td>\n      <td>None</td>\n      <td>None</td>\n      <td>None</td>\n      <td>None</td>\n      <td>None</td>\n      <td>None</td>\n      <td>None</td>\n      <td>None</td>\n      <td>None</td>\n    </tr>\n    <tr>\n      <th>2</th>\n      <td>M2A</td>\n      <td>Not assigned</td>\n      <td>Not assigned</td>\n      <td>None</td>\n      <td>None</td>\n      <td>None</td>\n      <td>None</td>\n      <td>None</td>\n      <td>None</td>\n      <td>None</td>\n      <td>...</td>\n      <td>None</td>\n      <td>None</td>\n      <td>None</td>\n      <td>None</td>\n      <td>None</td>\n      <td>None</td>\n      <td>None</td>\n      <td>None</td>\n      <td>None</td>\n      <td>None</td>\n    </tr>\n    <tr>\n      <th>3</th>\n      <td>M3A</td>\n      <td>North York</td>\n      <td>Parkwoods</td>\n      <td>None</td>\n      <td>None</td>\n      <td>None</td>\n      <td>None</td>\n      <td>None</td>\n      <td>None</td>\n      <td>None</td>\n      <td>...</td>\n      <td>None</td>\n      <td>None</td>\n      <td>None</td>\n      <td>None</td>\n      <td>None</td>\n      <td>None</td>\n      <td>None</td>\n      <td>None</td>\n      <td>None</td>\n      <td>None</td>\n    </tr>\n    <tr>\n      <th>4</th>\n      <td>M4A</td>\n      <td>North York</td>\n      <td>Victoria Village</td>\n      <td>None</td>\n      <td>None</td>\n      <td>None</td>\n      <td>None</td>\n      <td>None</td>\n      <td>None</td>\n      <td>None</td>\n      <td>...</td>\n      <td>None</td>\n      <td>None</td>\n      <td>None</td>\n      <td>None</td>\n      <td>None</td>\n      <td>None</td>\n      <td>None</td>\n      <td>None</td>\n      <td>None</td>\n      <td>None</td>\n    </tr>\n    <tr>\n      <th>5</th>\n      <td>M5A</td>\n      <td>Downtown Toronto</td>\n      <td>Harbourfront</td>\n      <td>None</td>\n      <td>None</td>\n      <td>None</td>\n      <td>None</td>\n      <td>None</td>\n      <td>None</td>\n      <td>None</td>\n      <td>...</td>\n      <td>None</td>\n      <td>None</td>\n      <td>None</td>\n      <td>None</td>\n      <td>None</td>\n      <td>None</td>\n      <td>None</td>\n      <td>None</td>\n      <td>None</td>\n      <td>None</td>\n    </tr>\n    <tr>\n      <th>6</th>\n      <td>M5A</td>\n      <td>Downtown Toronto</td>\n      <td>Regent Park</td>\n      <td>None</td>\n      <td>None</td>\n      <td>None</td>\n      <td>None</td>\n      <td>None</td>\n      <td>None</td>\n      <td>None</td>\n      <td>...</td>\n      <td>None</td>\n      <td>None</td>\n      <td>None</td>\n      <td>None</td>\n      <td>None</td>\n      <td>None</td>\n      <td>None</td>\n      <td>None</td>\n      <td>None</td>\n      <td>None</td>\n    </tr>\n    <tr>\n      <th>7</th>\n      <td>M6A</td>\n      <td>North York</td>\n      <td>Lawrence Heights</td>\n      <td>None</td>\n      <td>None</td>\n      <td>None</td>\n      <td>None</td>\n      <td>None</td>\n      <td>None</td>\n      <td>None</td>\n      <td>...</td>\n      <td>None</td>\n      <td>None</td>\n      <td>None</td>\n      <td>None</td>\n      <td>None</td>\n      <td>None</td>\n      <td>None</td>\n      <td>None</td>\n      <td>None</td>\n      <td>None</td>\n    </tr>\n    <tr>\n      <th>8</th>\n      <td>M6A</td>\n      <td>North York</td>\n      <td>Lawrence Manor</td>\n      <td>None</td>\n      <td>None</td>\n      <td>None</td>\n      <td>None</td>\n      <td>None</td>\n      <td>None</td>\n      <td>None</td>\n      <td>...</td>\n      <td>None</td>\n      <td>None</td>\n      <td>None</td>\n      <td>None</td>\n      <td>None</td>\n      <td>None</td>\n      <td>None</td>\n      <td>None</td>\n      <td>None</td>\n      <td>None</td>\n    </tr>\n    <tr>\n      <th>9</th>\n      <td>M7A</td>\n      <td>Queen's Park</td>\n      <td>Not assigned</td>\n      <td>None</td>\n      <td>None</td>\n      <td>None</td>\n      <td>None</td>\n      <td>None</td>\n      <td>None</td>\n      <td>None</td>\n      <td>...</td>\n      <td>None</td>\n      <td>None</td>\n      <td>None</td>\n      <td>None</td>\n      <td>None</td>\n      <td>None</td>\n      <td>None</td>\n      <td>None</td>\n      <td>None</td>\n      <td>None</td>\n    </tr>\n  </tbody>\n</table>\n<p>10 rows \u00d7 31 columns</p>\n</div>", 
                        "text/plain": "    0                  1                  2     3     4     5     6     7   \\\n0    ]               None               None  None  None  None  None  None   \n1  M1A       Not assigned       Not assigned  None  None  None  None  None   \n2  M2A       Not assigned       Not assigned  None  None  None  None  None   \n3  M3A         North York          Parkwoods  None  None  None  None  None   \n4  M4A         North York   Victoria Village  None  None  None  None  None   \n5  M5A   Downtown Toronto       Harbourfront  None  None  None  None  None   \n6  M5A   Downtown Toronto        Regent Park  None  None  None  None  None   \n7  M6A         North York   Lawrence Heights  None  None  None  None  None   \n8  M6A         North York     Lawrence Manor  None  None  None  None  None   \n9  M7A       Queen's Park       Not assigned  None  None  None  None  None   \n\n     8     9   ...     21    22    23    24    25    26    27    28    29  \\\n0  None  None  ...   None  None  None  None  None  None  None  None  None   \n1  None  None  ...   None  None  None  None  None  None  None  None  None   \n2  None  None  ...   None  None  None  None  None  None  None  None  None   \n3  None  None  ...   None  None  None  None  None  None  None  None  None   \n4  None  None  ...   None  None  None  None  None  None  None  None  None   \n5  None  None  ...   None  None  None  None  None  None  None  None  None   \n6  None  None  ...   None  None  None  None  None  None  None  None  None   \n7  None  None  ...   None  None  None  None  None  None  None  None  None   \n8  None  None  ...   None  None  None  None  None  None  None  None  None   \n9  None  None  ...   None  None  None  None  None  None  None  None  None   \n\n     30  \n0  None  \n1  None  \n2  None  \n3  None  \n4  None  \n5  None  \n6  None  \n7  None  \n8  None  \n9  None  \n\n[10 rows x 31 columns]"
                    }, 
                    "output_type": "execute_result"
                }
            ], 
            "source": "#This looks much better, but there is still work to do. The dataframe has unwanted square \n#brackets surrounding each row. You can use the strip() method to remove \n#the opening square bracket on column \"0.\"\ndf1[0] = df1[0].str.strip('[')\ndf1[2] = df1[2].str.strip('\\n]')\ndf1.head(10)"
        }, 
        {
            "execution_count": 22, 
            "cell_type": "code", 
            "metadata": {}, 
            "outputs": [
                {
                    "output_type": "stream", 
                    "name": "stdout", 
                    "text": "['[Postcode, Borough, Neighbourhood\\n, Canadian postal codes\\n]']\n"
                }
            ], 
            "source": "#The table is missing table headers. You can use the find_all() method to get the table headers.\ncol_labels = soup.find_all('th')\n\nall_header = []\ncol_str = str(col_labels)\ncleantext2 = BeautifulSoup(col_str, \"lxml\").get_text()\nall_header.append(cleantext2)\nprint(all_header)"
        }, 
        {
            "execution_count": 23, 
            "cell_type": "code", 
            "metadata": {}, 
            "outputs": [
                {
                    "execution_count": 23, 
                    "metadata": {}, 
                    "data": {
                        "text/html": "<div>\n<style scoped>\n    .dataframe tbody tr th:only-of-type {\n        vertical-align: middle;\n    }\n\n    .dataframe tbody tr th {\n        vertical-align: top;\n    }\n\n    .dataframe thead th {\n        text-align: right;\n    }\n</style>\n<table border=\"1\" class=\"dataframe\">\n  <thead>\n    <tr style=\"text-align: right;\">\n      <th></th>\n      <th>0</th>\n    </tr>\n  </thead>\n  <tbody>\n    <tr>\n      <th>0</th>\n      <td>[Postcode, Borough, Neighbourhood\\n, Canadian ...</td>\n    </tr>\n  </tbody>\n</table>\n</div>", 
                        "text/plain": "                                                   0\n0  [Postcode, Borough, Neighbourhood\\n, Canadian ..."
                    }, 
                    "output_type": "execute_result"
                }
            ], 
            "source": "#You can then convert the list of headers into a pandas dataframe.\ndf2 = pd.DataFrame(all_header)\ndf2.head()"
        }, 
        {
            "execution_count": 24, 
            "cell_type": "code", 
            "metadata": {}, 
            "outputs": [
                {
                    "execution_count": 24, 
                    "metadata": {}, 
                    "data": {
                        "text/html": "<div>\n<style scoped>\n    .dataframe tbody tr th:only-of-type {\n        vertical-align: middle;\n    }\n\n    .dataframe tbody tr th {\n        vertical-align: top;\n    }\n\n    .dataframe thead th {\n        text-align: right;\n    }\n</style>\n<table border=\"1\" class=\"dataframe\">\n  <thead>\n    <tr style=\"text-align: right;\">\n      <th></th>\n      <th>0</th>\n      <th>1</th>\n      <th>2</th>\n      <th>3</th>\n    </tr>\n  </thead>\n  <tbody>\n    <tr>\n      <th>0</th>\n      <td>[Postcode</td>\n      <td>Borough</td>\n      <td>Neighbourhood\\n</td>\n      <td>Canadian postal codes\\n]</td>\n    </tr>\n  </tbody>\n</table>\n</div>", 
                        "text/plain": "           0         1                 2                          3\n0  [Postcode   Borough   Neighbourhood\\n   Canadian postal codes\\n]"
                    }, 
                    "output_type": "execute_result"
                }
            ], 
            "source": "#Similarly, you can split column \"0\" into multiple columns at the comma position for all rows.\ndf3 = df2[0].str.split(',', expand=True)\ndf3.head()"
        }, 
        {
            "execution_count": 25, 
            "cell_type": "code", 
            "metadata": {}, 
            "outputs": [
                {
                    "execution_count": 25, 
                    "metadata": {}, 
                    "data": {
                        "text/html": "<div>\n<style scoped>\n    .dataframe tbody tr th:only-of-type {\n        vertical-align: middle;\n    }\n\n    .dataframe tbody tr th {\n        vertical-align: top;\n    }\n\n    .dataframe thead th {\n        text-align: right;\n    }\n</style>\n<table border=\"1\" class=\"dataframe\">\n  <thead>\n    <tr style=\"text-align: right;\">\n      <th></th>\n      <th>0</th>\n      <th>1</th>\n      <th>2</th>\n      <th>3</th>\n    </tr>\n  </thead>\n  <tbody>\n    <tr>\n      <th>0</th>\n      <td>Postcode</td>\n      <td>Borough</td>\n      <td>Neighbourhood</td>\n      <td>Canadian postal codes\\n]</td>\n    </tr>\n  </tbody>\n</table>\n</div>", 
                        "text/plain": "          0         1               2                          3\n0  Postcode   Borough   Neighbourhood   Canadian postal codes\\n]"
                    }, 
                    "output_type": "execute_result"
                }
            ], 
            "source": "df3[0] = df3[0].str.strip('[ ')\ndf3[2] = df3[2].str.strip('\\n]')\ndf3.head()"
        }, 
        {
            "execution_count": 26, 
            "cell_type": "code", 
            "metadata": {}, 
            "outputs": [
                {
                    "execution_count": 26, 
                    "metadata": {}, 
                    "data": {
                        "text/html": "<div>\n<style scoped>\n    .dataframe tbody tr th:only-of-type {\n        vertical-align: middle;\n    }\n\n    .dataframe tbody tr th {\n        vertical-align: top;\n    }\n\n    .dataframe thead th {\n        text-align: right;\n    }\n</style>\n<table border=\"1\" class=\"dataframe\">\n  <thead>\n    <tr style=\"text-align: right;\">\n      <th></th>\n      <th>0</th>\n      <th>1</th>\n      <th>2</th>\n      <th>3</th>\n    </tr>\n  </thead>\n  <tbody>\n    <tr>\n      <th>0</th>\n      <td>Postcode</td>\n      <td>Borough</td>\n      <td>Neighbourhood</td>\n      <td>Canadian postal codes</td>\n    </tr>\n  </tbody>\n</table>\n</div>", 
                        "text/plain": "          0         1               2                       3\n0  Postcode   Borough   Neighbourhood   Canadian postal codes"
                    }, 
                    "output_type": "execute_result"
                }
            ], 
            "source": "df3[0] = df3[0].str.strip('[ ')\ndf3[2] = df3[2].str.strip('\\n]')\ndf3[3] = df3[3].str.strip('\\n]')\ndf3.head()"
        }, 
        {
            "execution_count": 27, 
            "cell_type": "code", 
            "metadata": {}, 
            "outputs": [
                {
                    "execution_count": 27, 
                    "metadata": {}, 
                    "data": {
                        "text/html": "<div>\n<style scoped>\n    .dataframe tbody tr th:only-of-type {\n        vertical-align: middle;\n    }\n\n    .dataframe tbody tr th {\n        vertical-align: top;\n    }\n\n    .dataframe thead th {\n        text-align: right;\n    }\n</style>\n<table border=\"1\" class=\"dataframe\">\n  <thead>\n    <tr style=\"text-align: right;\">\n      <th></th>\n      <th>0</th>\n      <th>1</th>\n      <th>2</th>\n      <th>3</th>\n      <th>4</th>\n      <th>5</th>\n      <th>6</th>\n      <th>7</th>\n      <th>8</th>\n      <th>9</th>\n      <th>...</th>\n      <th>21</th>\n      <th>22</th>\n      <th>23</th>\n      <th>24</th>\n      <th>25</th>\n      <th>26</th>\n      <th>27</th>\n      <th>28</th>\n      <th>29</th>\n      <th>30</th>\n    </tr>\n  </thead>\n  <tbody>\n    <tr>\n      <th>0</th>\n      <td>Postcode</td>\n      <td>Borough</td>\n      <td>Neighbourhood</td>\n      <td>Canadian postal codes</td>\n      <td>NaN</td>\n      <td>NaN</td>\n      <td>NaN</td>\n      <td>NaN</td>\n      <td>NaN</td>\n      <td>NaN</td>\n      <td>...</td>\n      <td>NaN</td>\n      <td>NaN</td>\n      <td>NaN</td>\n      <td>NaN</td>\n      <td>NaN</td>\n      <td>NaN</td>\n      <td>NaN</td>\n      <td>NaN</td>\n      <td>NaN</td>\n      <td>NaN</td>\n    </tr>\n    <tr>\n      <th>0</th>\n      <td>]</td>\n      <td>None</td>\n      <td>None</td>\n      <td>None</td>\n      <td>None</td>\n      <td>None</td>\n      <td>None</td>\n      <td>None</td>\n      <td>None</td>\n      <td>None</td>\n      <td>...</td>\n      <td>None</td>\n      <td>None</td>\n      <td>None</td>\n      <td>None</td>\n      <td>None</td>\n      <td>None</td>\n      <td>None</td>\n      <td>None</td>\n      <td>None</td>\n      <td>None</td>\n    </tr>\n    <tr>\n      <th>1</th>\n      <td>M1A</td>\n      <td>Not assigned</td>\n      <td>Not assigned</td>\n      <td>None</td>\n      <td>None</td>\n      <td>None</td>\n      <td>None</td>\n      <td>None</td>\n      <td>None</td>\n      <td>None</td>\n      <td>...</td>\n      <td>None</td>\n      <td>None</td>\n      <td>None</td>\n      <td>None</td>\n      <td>None</td>\n      <td>None</td>\n      <td>None</td>\n      <td>None</td>\n      <td>None</td>\n      <td>None</td>\n    </tr>\n    <tr>\n      <th>2</th>\n      <td>M2A</td>\n      <td>Not assigned</td>\n      <td>Not assigned</td>\n      <td>None</td>\n      <td>None</td>\n      <td>None</td>\n      <td>None</td>\n      <td>None</td>\n      <td>None</td>\n      <td>None</td>\n      <td>...</td>\n      <td>None</td>\n      <td>None</td>\n      <td>None</td>\n      <td>None</td>\n      <td>None</td>\n      <td>None</td>\n      <td>None</td>\n      <td>None</td>\n      <td>None</td>\n      <td>None</td>\n    </tr>\n    <tr>\n      <th>3</th>\n      <td>M3A</td>\n      <td>North York</td>\n      <td>Parkwoods</td>\n      <td>None</td>\n      <td>None</td>\n      <td>None</td>\n      <td>None</td>\n      <td>None</td>\n      <td>None</td>\n      <td>None</td>\n      <td>...</td>\n      <td>None</td>\n      <td>None</td>\n      <td>None</td>\n      <td>None</td>\n      <td>None</td>\n      <td>None</td>\n      <td>None</td>\n      <td>None</td>\n      <td>None</td>\n      <td>None</td>\n    </tr>\n    <tr>\n      <th>4</th>\n      <td>M4A</td>\n      <td>North York</td>\n      <td>Victoria Village</td>\n      <td>None</td>\n      <td>None</td>\n      <td>None</td>\n      <td>None</td>\n      <td>None</td>\n      <td>None</td>\n      <td>None</td>\n      <td>...</td>\n      <td>None</td>\n      <td>None</td>\n      <td>None</td>\n      <td>None</td>\n      <td>None</td>\n      <td>None</td>\n      <td>None</td>\n      <td>None</td>\n      <td>None</td>\n      <td>None</td>\n    </tr>\n    <tr>\n      <th>5</th>\n      <td>M5A</td>\n      <td>Downtown Toronto</td>\n      <td>Harbourfront</td>\n      <td>None</td>\n      <td>None</td>\n      <td>None</td>\n      <td>None</td>\n      <td>None</td>\n      <td>None</td>\n      <td>None</td>\n      <td>...</td>\n      <td>None</td>\n      <td>None</td>\n      <td>None</td>\n      <td>None</td>\n      <td>None</td>\n      <td>None</td>\n      <td>None</td>\n      <td>None</td>\n      <td>None</td>\n      <td>None</td>\n    </tr>\n    <tr>\n      <th>6</th>\n      <td>M5A</td>\n      <td>Downtown Toronto</td>\n      <td>Regent Park</td>\n      <td>None</td>\n      <td>None</td>\n      <td>None</td>\n      <td>None</td>\n      <td>None</td>\n      <td>None</td>\n      <td>None</td>\n      <td>...</td>\n      <td>None</td>\n      <td>None</td>\n      <td>None</td>\n      <td>None</td>\n      <td>None</td>\n      <td>None</td>\n      <td>None</td>\n      <td>None</td>\n      <td>None</td>\n      <td>None</td>\n    </tr>\n    <tr>\n      <th>7</th>\n      <td>M6A</td>\n      <td>North York</td>\n      <td>Lawrence Heights</td>\n      <td>None</td>\n      <td>None</td>\n      <td>None</td>\n      <td>None</td>\n      <td>None</td>\n      <td>None</td>\n      <td>None</td>\n      <td>...</td>\n      <td>None</td>\n      <td>None</td>\n      <td>None</td>\n      <td>None</td>\n      <td>None</td>\n      <td>None</td>\n      <td>None</td>\n      <td>None</td>\n      <td>None</td>\n      <td>None</td>\n    </tr>\n    <tr>\n      <th>8</th>\n      <td>M6A</td>\n      <td>North York</td>\n      <td>Lawrence Manor</td>\n      <td>None</td>\n      <td>None</td>\n      <td>None</td>\n      <td>None</td>\n      <td>None</td>\n      <td>None</td>\n      <td>None</td>\n      <td>...</td>\n      <td>None</td>\n      <td>None</td>\n      <td>None</td>\n      <td>None</td>\n      <td>None</td>\n      <td>None</td>\n      <td>None</td>\n      <td>None</td>\n      <td>None</td>\n      <td>None</td>\n    </tr>\n  </tbody>\n</table>\n<p>10 rows \u00d7 31 columns</p>\n</div>", 
                        "text/plain": "         0                  1                  2                       3   \\\n0  Postcode            Borough      Neighbourhood   Canadian postal codes   \n0         ]               None               None                    None   \n1       M1A       Not assigned       Not assigned                    None   \n2       M2A       Not assigned       Not assigned                    None   \n3       M3A         North York          Parkwoods                    None   \n4       M4A         North York   Victoria Village                    None   \n5       M5A   Downtown Toronto       Harbourfront                    None   \n6       M5A   Downtown Toronto        Regent Park                    None   \n7       M6A         North York   Lawrence Heights                    None   \n8       M6A         North York     Lawrence Manor                    None   \n\n     4     5     6     7     8     9   ...     21    22    23    24    25  \\\n0   NaN   NaN   NaN   NaN   NaN   NaN  ...    NaN   NaN   NaN   NaN   NaN   \n0  None  None  None  None  None  None  ...   None  None  None  None  None   \n1  None  None  None  None  None  None  ...   None  None  None  None  None   \n2  None  None  None  None  None  None  ...   None  None  None  None  None   \n3  None  None  None  None  None  None  ...   None  None  None  None  None   \n4  None  None  None  None  None  None  ...   None  None  None  None  None   \n5  None  None  None  None  None  None  ...   None  None  None  None  None   \n6  None  None  None  None  None  None  ...   None  None  None  None  None   \n7  None  None  None  None  None  None  ...   None  None  None  None  None   \n8  None  None  None  None  None  None  ...   None  None  None  None  None   \n\n     26    27    28    29    30  \n0   NaN   NaN   NaN   NaN   NaN  \n0  None  None  None  None  None  \n1  None  None  None  None  None  \n2  None  None  None  None  None  \n3  None  None  None  None  None  \n4  None  None  None  None  None  \n5  None  None  None  None  None  \n6  None  None  None  None  None  \n7  None  None  None  None  None  \n8  None  None  None  None  None  \n\n[10 rows x 31 columns]"
                    }, 
                    "output_type": "execute_result"
                }
            ], 
            "source": "#The two dataframes can be concatenated into one using the concat() method as illustrated below.\nframes = [df3, df1]\ndf4 = pd.concat(frames)\ndf4.head(10)"
        }, 
        {
            "execution_count": 28, 
            "cell_type": "code", 
            "metadata": {}, 
            "outputs": [
                {
                    "execution_count": 28, 
                    "metadata": {}, 
                    "data": {
                        "text/html": "<div>\n<style scoped>\n    .dataframe tbody tr th:only-of-type {\n        vertical-align: middle;\n    }\n\n    .dataframe tbody tr th {\n        vertical-align: top;\n    }\n\n    .dataframe thead th {\n        text-align: right;\n    }\n</style>\n<table border=\"1\" class=\"dataframe\">\n  <thead>\n    <tr style=\"text-align: right;\">\n      <th></th>\n      <th>Postcode</th>\n      <th>Borough</th>\n      <th>Neighbourhood</th>\n      <th>Canadian postal codes</th>\n      <th>nan</th>\n      <th>nan</th>\n      <th>nan</th>\n      <th>nan</th>\n      <th>nan</th>\n      <th>nan</th>\n      <th>...</th>\n      <th>nan</th>\n      <th>nan</th>\n      <th>nan</th>\n      <th>nan</th>\n      <th>nan</th>\n      <th>nan</th>\n      <th>nan</th>\n      <th>nan</th>\n      <th>nan</th>\n      <th>nan</th>\n    </tr>\n  </thead>\n  <tbody>\n    <tr>\n      <th>0</th>\n      <td>Postcode</td>\n      <td>Borough</td>\n      <td>Neighbourhood</td>\n      <td>Canadian postal codes</td>\n      <td>NaN</td>\n      <td>NaN</td>\n      <td>NaN</td>\n      <td>NaN</td>\n      <td>NaN</td>\n      <td>NaN</td>\n      <td>...</td>\n      <td>NaN</td>\n      <td>NaN</td>\n      <td>NaN</td>\n      <td>NaN</td>\n      <td>NaN</td>\n      <td>NaN</td>\n      <td>NaN</td>\n      <td>NaN</td>\n      <td>NaN</td>\n      <td>NaN</td>\n    </tr>\n    <tr>\n      <th>0</th>\n      <td>]</td>\n      <td>None</td>\n      <td>None</td>\n      <td>None</td>\n      <td>None</td>\n      <td>None</td>\n      <td>None</td>\n      <td>None</td>\n      <td>None</td>\n      <td>None</td>\n      <td>...</td>\n      <td>None</td>\n      <td>None</td>\n      <td>None</td>\n      <td>None</td>\n      <td>None</td>\n      <td>None</td>\n      <td>None</td>\n      <td>None</td>\n      <td>None</td>\n      <td>None</td>\n    </tr>\n    <tr>\n      <th>1</th>\n      <td>M1A</td>\n      <td>Not assigned</td>\n      <td>Not assigned</td>\n      <td>None</td>\n      <td>None</td>\n      <td>None</td>\n      <td>None</td>\n      <td>None</td>\n      <td>None</td>\n      <td>None</td>\n      <td>...</td>\n      <td>None</td>\n      <td>None</td>\n      <td>None</td>\n      <td>None</td>\n      <td>None</td>\n      <td>None</td>\n      <td>None</td>\n      <td>None</td>\n      <td>None</td>\n      <td>None</td>\n    </tr>\n    <tr>\n      <th>2</th>\n      <td>M2A</td>\n      <td>Not assigned</td>\n      <td>Not assigned</td>\n      <td>None</td>\n      <td>None</td>\n      <td>None</td>\n      <td>None</td>\n      <td>None</td>\n      <td>None</td>\n      <td>None</td>\n      <td>...</td>\n      <td>None</td>\n      <td>None</td>\n      <td>None</td>\n      <td>None</td>\n      <td>None</td>\n      <td>None</td>\n      <td>None</td>\n      <td>None</td>\n      <td>None</td>\n      <td>None</td>\n    </tr>\n    <tr>\n      <th>3</th>\n      <td>M3A</td>\n      <td>North York</td>\n      <td>Parkwoods</td>\n      <td>None</td>\n      <td>None</td>\n      <td>None</td>\n      <td>None</td>\n      <td>None</td>\n      <td>None</td>\n      <td>None</td>\n      <td>...</td>\n      <td>None</td>\n      <td>None</td>\n      <td>None</td>\n      <td>None</td>\n      <td>None</td>\n      <td>None</td>\n      <td>None</td>\n      <td>None</td>\n      <td>None</td>\n      <td>None</td>\n    </tr>\n    <tr>\n      <th>4</th>\n      <td>M4A</td>\n      <td>North York</td>\n      <td>Victoria Village</td>\n      <td>None</td>\n      <td>None</td>\n      <td>None</td>\n      <td>None</td>\n      <td>None</td>\n      <td>None</td>\n      <td>None</td>\n      <td>...</td>\n      <td>None</td>\n      <td>None</td>\n      <td>None</td>\n      <td>None</td>\n      <td>None</td>\n      <td>None</td>\n      <td>None</td>\n      <td>None</td>\n      <td>None</td>\n      <td>None</td>\n    </tr>\n    <tr>\n      <th>5</th>\n      <td>M5A</td>\n      <td>Downtown Toronto</td>\n      <td>Harbourfront</td>\n      <td>None</td>\n      <td>None</td>\n      <td>None</td>\n      <td>None</td>\n      <td>None</td>\n      <td>None</td>\n      <td>None</td>\n      <td>...</td>\n      <td>None</td>\n      <td>None</td>\n      <td>None</td>\n      <td>None</td>\n      <td>None</td>\n      <td>None</td>\n      <td>None</td>\n      <td>None</td>\n      <td>None</td>\n      <td>None</td>\n    </tr>\n    <tr>\n      <th>6</th>\n      <td>M5A</td>\n      <td>Downtown Toronto</td>\n      <td>Regent Park</td>\n      <td>None</td>\n      <td>None</td>\n      <td>None</td>\n      <td>None</td>\n      <td>None</td>\n      <td>None</td>\n      <td>None</td>\n      <td>...</td>\n      <td>None</td>\n      <td>None</td>\n      <td>None</td>\n      <td>None</td>\n      <td>None</td>\n      <td>None</td>\n      <td>None</td>\n      <td>None</td>\n      <td>None</td>\n      <td>None</td>\n    </tr>\n    <tr>\n      <th>7</th>\n      <td>M6A</td>\n      <td>North York</td>\n      <td>Lawrence Heights</td>\n      <td>None</td>\n      <td>None</td>\n      <td>None</td>\n      <td>None</td>\n      <td>None</td>\n      <td>None</td>\n      <td>None</td>\n      <td>...</td>\n      <td>None</td>\n      <td>None</td>\n      <td>None</td>\n      <td>None</td>\n      <td>None</td>\n      <td>None</td>\n      <td>None</td>\n      <td>None</td>\n      <td>None</td>\n      <td>None</td>\n    </tr>\n    <tr>\n      <th>8</th>\n      <td>M6A</td>\n      <td>North York</td>\n      <td>Lawrence Manor</td>\n      <td>None</td>\n      <td>None</td>\n      <td>None</td>\n      <td>None</td>\n      <td>None</td>\n      <td>None</td>\n      <td>None</td>\n      <td>...</td>\n      <td>None</td>\n      <td>None</td>\n      <td>None</td>\n      <td>None</td>\n      <td>None</td>\n      <td>None</td>\n      <td>None</td>\n      <td>None</td>\n      <td>None</td>\n      <td>None</td>\n    </tr>\n  </tbody>\n</table>\n<p>10 rows \u00d7 31 columns</p>\n</div>", 
                        "text/plain": "   Postcode            Borough      Neighbourhood   Canadian postal codes  \\\n0  Postcode            Borough      Neighbourhood   Canadian postal codes   \n0         ]               None               None                    None   \n1       M1A       Not assigned       Not assigned                    None   \n2       M2A       Not assigned       Not assigned                    None   \n3       M3A         North York          Parkwoods                    None   \n4       M4A         North York   Victoria Village                    None   \n5       M5A   Downtown Toronto       Harbourfront                    None   \n6       M5A   Downtown Toronto        Regent Park                    None   \n7       M6A         North York   Lawrence Heights                    None   \n8       M6A         North York     Lawrence Manor                    None   \n\n    NaN   NaN   NaN   NaN   NaN   NaN  ...    NaN   NaN   NaN   NaN   NaN  \\\n0   NaN   NaN   NaN   NaN   NaN   NaN  ...    NaN   NaN   NaN   NaN   NaN   \n0  None  None  None  None  None  None  ...   None  None  None  None  None   \n1  None  None  None  None  None  None  ...   None  None  None  None  None   \n2  None  None  None  None  None  None  ...   None  None  None  None  None   \n3  None  None  None  None  None  None  ...   None  None  None  None  None   \n4  None  None  None  None  None  None  ...   None  None  None  None  None   \n5  None  None  None  None  None  None  ...   None  None  None  None  None   \n6  None  None  None  None  None  None  ...   None  None  None  None  None   \n7  None  None  None  None  None  None  ...   None  None  None  None  None   \n8  None  None  None  None  None  None  ...   None  None  None  None  None   \n\n    NaN   NaN   NaN   NaN   NaN  \n0   NaN   NaN   NaN   NaN   NaN  \n0  None  None  None  None  None  \n1  None  None  None  None  None  \n2  None  None  None  None  None  \n3  None  None  None  None  None  \n4  None  None  None  None  None  \n5  None  None  None  None  None  \n6  None  None  None  None  None  \n7  None  None  None  None  None  \n8  None  None  None  None  None  \n\n[10 rows x 31 columns]"
                    }, 
                    "output_type": "execute_result"
                }
            ], 
            "source": "#Below shows how to assign the first row to be the table header.\ndf5 = df4.rename(columns=df4.iloc[0])\ndf5.head(10)"
        }, 
        {
            "execution_count": 29, 
            "cell_type": "code", 
            "metadata": {}, 
            "outputs": [
                {
                    "execution_count": 29, 
                    "metadata": {}, 
                    "data": {
                        "text/plain": "(295, 31)"
                    }, 
                    "output_type": "execute_result"
                }
            ], 
            "source": "#At this point, the table is almost properly formatted. For analysis, \n#you can start by getting an overview of the data as shown below.\n#df5.info()\ndf5.shape"
        }, 
        {
            "execution_count": 30, 
            "cell_type": "code", 
            "metadata": {}, 
            "outputs": [
                {
                    "execution_count": 30, 
                    "metadata": {}, 
                    "data": {
                        "text/html": "<div>\n<style scoped>\n    .dataframe tbody tr th:only-of-type {\n        vertical-align: middle;\n    }\n\n    .dataframe tbody tr th {\n        vertical-align: top;\n    }\n\n    .dataframe thead th {\n        text-align: right;\n    }\n</style>\n<table border=\"1\" class=\"dataframe\">\n  <thead>\n    <tr style=\"text-align: right;\">\n      <th></th>\n      <th>Postcode</th>\n      <th>Borough</th>\n      <th>Neighbourhood</th>\n      <th>Canadian postal codes</th>\n      <th>nan</th>\n      <th>nan</th>\n      <th>nan</th>\n      <th>nan</th>\n      <th>nan</th>\n      <th>nan</th>\n      <th>...</th>\n      <th>nan</th>\n      <th>nan</th>\n      <th>nan</th>\n      <th>nan</th>\n      <th>nan</th>\n      <th>nan</th>\n      <th>nan</th>\n      <th>nan</th>\n      <th>nan</th>\n      <th>nan</th>\n    </tr>\n  </thead>\n  <tbody>\n    <tr>\n      <th>1</th>\n      <td>M1A</td>\n      <td>Not assigned</td>\n      <td>Not assigned</td>\n      <td>None</td>\n      <td>None</td>\n      <td>None</td>\n      <td>None</td>\n      <td>None</td>\n      <td>None</td>\n      <td>None</td>\n      <td>...</td>\n      <td>None</td>\n      <td>None</td>\n      <td>None</td>\n      <td>None</td>\n      <td>None</td>\n      <td>None</td>\n      <td>None</td>\n      <td>None</td>\n      <td>None</td>\n      <td>None</td>\n    </tr>\n    <tr>\n      <th>2</th>\n      <td>M2A</td>\n      <td>Not assigned</td>\n      <td>Not assigned</td>\n      <td>None</td>\n      <td>None</td>\n      <td>None</td>\n      <td>None</td>\n      <td>None</td>\n      <td>None</td>\n      <td>None</td>\n      <td>...</td>\n      <td>None</td>\n      <td>None</td>\n      <td>None</td>\n      <td>None</td>\n      <td>None</td>\n      <td>None</td>\n      <td>None</td>\n      <td>None</td>\n      <td>None</td>\n      <td>None</td>\n    </tr>\n    <tr>\n      <th>3</th>\n      <td>M3A</td>\n      <td>North York</td>\n      <td>Parkwoods</td>\n      <td>None</td>\n      <td>None</td>\n      <td>None</td>\n      <td>None</td>\n      <td>None</td>\n      <td>None</td>\n      <td>None</td>\n      <td>...</td>\n      <td>None</td>\n      <td>None</td>\n      <td>None</td>\n      <td>None</td>\n      <td>None</td>\n      <td>None</td>\n      <td>None</td>\n      <td>None</td>\n      <td>None</td>\n      <td>None</td>\n    </tr>\n    <tr>\n      <th>4</th>\n      <td>M4A</td>\n      <td>North York</td>\n      <td>Victoria Village</td>\n      <td>None</td>\n      <td>None</td>\n      <td>None</td>\n      <td>None</td>\n      <td>None</td>\n      <td>None</td>\n      <td>None</td>\n      <td>...</td>\n      <td>None</td>\n      <td>None</td>\n      <td>None</td>\n      <td>None</td>\n      <td>None</td>\n      <td>None</td>\n      <td>None</td>\n      <td>None</td>\n      <td>None</td>\n      <td>None</td>\n    </tr>\n    <tr>\n      <th>5</th>\n      <td>M5A</td>\n      <td>Downtown Toronto</td>\n      <td>Harbourfront</td>\n      <td>None</td>\n      <td>None</td>\n      <td>None</td>\n      <td>None</td>\n      <td>None</td>\n      <td>None</td>\n      <td>None</td>\n      <td>...</td>\n      <td>None</td>\n      <td>None</td>\n      <td>None</td>\n      <td>None</td>\n      <td>None</td>\n      <td>None</td>\n      <td>None</td>\n      <td>None</td>\n      <td>None</td>\n      <td>None</td>\n    </tr>\n  </tbody>\n</table>\n<p>5 rows \u00d7 31 columns</p>\n</div>", 
                        "text/plain": "  Postcode            Borough      Neighbourhood  Canadian postal codes   NaN  \\\n1      M1A       Not assigned       Not assigned                   None  None   \n2      M2A       Not assigned       Not assigned                   None  None   \n3      M3A         North York          Parkwoods                   None  None   \n4      M4A         North York   Victoria Village                   None  None   \n5      M5A   Downtown Toronto       Harbourfront                   None  None   \n\n    NaN   NaN   NaN   NaN   NaN  ...    NaN   NaN   NaN   NaN   NaN   NaN  \\\n1  None  None  None  None  None  ...   None  None  None  None  None  None   \n2  None  None  None  None  None  ...   None  None  None  None  None  None   \n3  None  None  None  None  None  ...   None  None  None  None  None  None   \n4  None  None  None  None  None  ...   None  None  None  None  None  None   \n5  None  None  None  None  None  ...   None  None  None  None  None  None   \n\n    NaN   NaN   NaN   NaN  \n1  None  None  None  None  \n2  None  None  None  None  \n3  None  None  None  None  \n4  None  None  None  None  \n5  None  None  None  None  \n\n[5 rows x 31 columns]"
                    }, 
                    "output_type": "execute_result"
                }
            ], 
            "source": "#Also, notice how the table header is replicated as the first row in df5. It can be dropped using the following line of code.\ndf6 = df5.drop(df5.index[0])\ndf6.head()"
        }, 
        {
            "execution_count": 31, 
            "cell_type": "code", 
            "metadata": {}, 
            "outputs": [
                {
                    "execution_count": 31, 
                    "metadata": {}, 
                    "data": {
                        "text/plain": "['Postcode', ' Borough', ' Neighbourhood']"
                    }, 
                    "output_type": "execute_result"
                }
            ], 
            "source": "list(df6.columns.values)[0:3]"
        }, 
        {
            "execution_count": 32, 
            "cell_type": "code", 
            "metadata": {}, 
            "outputs": [
                {
                    "output_type": "stream", 
                    "name": "stderr", 
                    "text": "/opt/conda/envs/DSX-Python35/lib/python3.5/site-packages/pandas/core/frame.py:3027: SettingWithCopyWarning: \nA value is trying to be set on a copy of a slice from a DataFrame\n\nSee the caveats in the documentation: http://pandas.pydata.org/pandas-docs/stable/indexing.html#indexing-view-versus-copy\n  return super(DataFrame, self).rename(**kwargs)\n"
                }, 
                {
                    "execution_count": 32, 
                    "metadata": {}, 
                    "data": {
                        "text/html": "<div>\n<style scoped>\n    .dataframe tbody tr th:only-of-type {\n        vertical-align: middle;\n    }\n\n    .dataframe tbody tr th {\n        vertical-align: top;\n    }\n\n    .dataframe thead th {\n        text-align: right;\n    }\n</style>\n<table border=\"1\" class=\"dataframe\">\n  <thead>\n    <tr style=\"text-align: right;\">\n      <th></th>\n      <th>Postcode</th>\n      <th>Borough</th>\n      <th>Neighbourhood</th>\n      <th>Canadian postal codes</th>\n      <th>nan</th>\n      <th>nan</th>\n      <th>nan</th>\n      <th>nan</th>\n      <th>nan</th>\n      <th>nan</th>\n      <th>...</th>\n      <th>nan</th>\n      <th>nan</th>\n      <th>nan</th>\n      <th>nan</th>\n      <th>nan</th>\n      <th>nan</th>\n      <th>nan</th>\n      <th>nan</th>\n      <th>nan</th>\n      <th>nan</th>\n    </tr>\n  </thead>\n  <tbody>\n    <tr>\n      <th>1</th>\n      <td>M1A</td>\n      <td>Not assigned</td>\n      <td>Not assigned</td>\n      <td>None</td>\n      <td>None</td>\n      <td>None</td>\n      <td>None</td>\n      <td>None</td>\n      <td>None</td>\n      <td>None</td>\n      <td>...</td>\n      <td>None</td>\n      <td>None</td>\n      <td>None</td>\n      <td>None</td>\n      <td>None</td>\n      <td>None</td>\n      <td>None</td>\n      <td>None</td>\n      <td>None</td>\n      <td>None</td>\n    </tr>\n    <tr>\n      <th>2</th>\n      <td>M2A</td>\n      <td>Not assigned</td>\n      <td>Not assigned</td>\n      <td>None</td>\n      <td>None</td>\n      <td>None</td>\n      <td>None</td>\n      <td>None</td>\n      <td>None</td>\n      <td>None</td>\n      <td>...</td>\n      <td>None</td>\n      <td>None</td>\n      <td>None</td>\n      <td>None</td>\n      <td>None</td>\n      <td>None</td>\n      <td>None</td>\n      <td>None</td>\n      <td>None</td>\n      <td>None</td>\n    </tr>\n    <tr>\n      <th>3</th>\n      <td>M3A</td>\n      <td>North York</td>\n      <td>Parkwoods</td>\n      <td>None</td>\n      <td>None</td>\n      <td>None</td>\n      <td>None</td>\n      <td>None</td>\n      <td>None</td>\n      <td>None</td>\n      <td>...</td>\n      <td>None</td>\n      <td>None</td>\n      <td>None</td>\n      <td>None</td>\n      <td>None</td>\n      <td>None</td>\n      <td>None</td>\n      <td>None</td>\n      <td>None</td>\n      <td>None</td>\n    </tr>\n    <tr>\n      <th>4</th>\n      <td>M4A</td>\n      <td>North York</td>\n      <td>Victoria Village</td>\n      <td>None</td>\n      <td>None</td>\n      <td>None</td>\n      <td>None</td>\n      <td>None</td>\n      <td>None</td>\n      <td>None</td>\n      <td>...</td>\n      <td>None</td>\n      <td>None</td>\n      <td>None</td>\n      <td>None</td>\n      <td>None</td>\n      <td>None</td>\n      <td>None</td>\n      <td>None</td>\n      <td>None</td>\n      <td>None</td>\n    </tr>\n    <tr>\n      <th>5</th>\n      <td>M5A</td>\n      <td>Downtown Toronto</td>\n      <td>Harbourfront</td>\n      <td>None</td>\n      <td>None</td>\n      <td>None</td>\n      <td>None</td>\n      <td>None</td>\n      <td>None</td>\n      <td>None</td>\n      <td>...</td>\n      <td>None</td>\n      <td>None</td>\n      <td>None</td>\n      <td>None</td>\n      <td>None</td>\n      <td>None</td>\n      <td>None</td>\n      <td>None</td>\n      <td>None</td>\n      <td>None</td>\n    </tr>\n  </tbody>\n</table>\n<p>5 rows \u00d7 31 columns</p>\n</div>", 
                        "text/plain": "  Postcode            Borough      Neighbourhood  Canadian postal codes   NaN  \\\n1      M1A       Not assigned       Not assigned                   None  None   \n2      M2A       Not assigned       Not assigned                   None  None   \n3      M3A         North York          Parkwoods                   None  None   \n4      M4A         North York   Victoria Village                   None  None   \n5      M5A   Downtown Toronto       Harbourfront                   None  None   \n\n    NaN   NaN   NaN   NaN   NaN  ...    NaN   NaN   NaN   NaN   NaN   NaN  \\\n1  None  None  None  None  None  ...   None  None  None  None  None  None   \n2  None  None  None  None  None  ...   None  None  None  None  None  None   \n3  None  None  None  None  None  ...   None  None  None  None  None  None   \n4  None  None  None  None  None  ...   None  None  None  None  None  None   \n5  None  None  None  None  None  ...   None  None  None  None  None  None   \n\n    NaN   NaN   NaN   NaN  \n1  None  None  None  None  \n2  None  None  None  None  \n3  None  None  None  None  \n4  None  None  None  None  \n5  None  None  None  None  \n\n[5 rows x 31 columns]"
                    }, 
                    "output_type": "execute_result"
                }
            ], 
            "source": "df6.rename(columns={\"Postcode\": \"Postcode\", \" Borough\": \"Borough\", \" Neighbourhood\":\"Neighbourhood\"}, inplace=True)\ndf6.head()"
        }, 
        {
            "execution_count": 33, 
            "cell_type": "code", 
            "metadata": {}, 
            "outputs": [
                {
                    "execution_count": 33, 
                    "metadata": {}, 
                    "data": {
                        "text/html": "<div>\n<style scoped>\n    .dataframe tbody tr th:only-of-type {\n        vertical-align: middle;\n    }\n\n    .dataframe tbody tr th {\n        vertical-align: top;\n    }\n\n    .dataframe thead th {\n        text-align: right;\n    }\n</style>\n<table border=\"1\" class=\"dataframe\">\n  <thead>\n    <tr style=\"text-align: right;\">\n      <th></th>\n      <th>Postcode</th>\n      <th>Borough</th>\n      <th>Neighbourhood</th>\n    </tr>\n  </thead>\n  <tbody>\n    <tr>\n      <th>1</th>\n      <td>M1A</td>\n      <td>Not assigned</td>\n      <td>Not assigned</td>\n    </tr>\n    <tr>\n      <th>2</th>\n      <td>M2A</td>\n      <td>Not assigned</td>\n      <td>Not assigned</td>\n    </tr>\n    <tr>\n      <th>3</th>\n      <td>M3A</td>\n      <td>North York</td>\n      <td>Parkwoods</td>\n    </tr>\n    <tr>\n      <th>4</th>\n      <td>M4A</td>\n      <td>North York</td>\n      <td>Victoria Village</td>\n    </tr>\n    <tr>\n      <th>5</th>\n      <td>M5A</td>\n      <td>Downtown Toronto</td>\n      <td>Harbourfront</td>\n    </tr>\n  </tbody>\n</table>\n</div>", 
                        "text/plain": "  Postcode            Borough      Neighbourhood\n1      M1A       Not assigned       Not assigned\n2      M2A       Not assigned       Not assigned\n3      M3A         North York          Parkwoods\n4      M4A         North York   Victoria Village\n5      M5A   Downtown Toronto       Harbourfront"
                    }, 
                    "output_type": "execute_result"
                }
            ], 
            "source": "Toronto_data=df6[['Postcode','Borough','Neighbourhood']]\nToronto_data.head()"
        }, 
        {
            "execution_count": 34, 
            "cell_type": "code", 
            "metadata": {}, 
            "outputs": [
                {
                    "execution_count": 34, 
                    "metadata": {}, 
                    "data": {
                        "text/plain": "(293, 3)"
                    }, 
                    "output_type": "execute_result"
                }
            ], 
            "source": "Toronto_data.shape"
        }, 
        {
            "execution_count": 35, 
            "cell_type": "code", 
            "metadata": {}, 
            "outputs": [
                {
                    "execution_count": 35, 
                    "metadata": {}, 
                    "data": {
                        "text/html": "<div>\n<style scoped>\n    .dataframe tbody tr th:only-of-type {\n        vertical-align: middle;\n    }\n\n    .dataframe tbody tr th {\n        vertical-align: top;\n    }\n\n    .dataframe thead th {\n        text-align: right;\n    }\n</style>\n<table border=\"1\" class=\"dataframe\">\n  <thead>\n    <tr style=\"text-align: right;\">\n      <th></th>\n      <th>Postcode</th>\n      <th>Borough</th>\n      <th>Neighbourhood</th>\n    </tr>\n  </thead>\n  <tbody>\n    <tr>\n      <th>284</th>\n      <td>M8Z</td>\n      <td>Etobicoke</td>\n      <td>Mimico NW</td>\n    </tr>\n    <tr>\n      <th>285</th>\n      <td>M8Z</td>\n      <td>Etobicoke</td>\n      <td>The Queensway West</td>\n    </tr>\n    <tr>\n      <th>286</th>\n      <td>M8Z</td>\n      <td>Etobicoke</td>\n      <td>Royal York South West</td>\n    </tr>\n    <tr>\n      <th>287</th>\n      <td>M8Z</td>\n      <td>Etobicoke</td>\n      <td>South of Bloor</td>\n    </tr>\n    <tr>\n      <th>288</th>\n      <td>M9Z</td>\n      <td>Not assigned</td>\n      <td>Not assigned</td>\n    </tr>\n    <tr>\n      <th>289</th>\n      <td>]</td>\n      <td>None</td>\n      <td>None</td>\n    </tr>\n    <tr>\n      <th>290</th>\n      <td>\\n</td>\n      <td>\\n]</td>\n      <td>None</td>\n    </tr>\n    <tr>\n      <th>291</th>\n      <td>\\n\\n\\nNL\\n\\nNS\\n\\nPE\\n\\nNB\\n\\nQC\\n\\nON\\n\\nMB\\n...</td>\n      <td>NL\\n</td>\n      <td>NS</td>\n    </tr>\n    <tr>\n      <th>292</th>\n      <td>NL\\n</td>\n      <td>NS\\n</td>\n      <td>PE</td>\n    </tr>\n    <tr>\n      <th>293</th>\n      <td>A\\n</td>\n      <td>B\\n</td>\n      <td>C</td>\n    </tr>\n  </tbody>\n</table>\n</div>", 
                        "text/plain": "                                              Postcode        Borough  \\\n284                                                M8Z      Etobicoke   \n285                                                M8Z      Etobicoke   \n286                                                M8Z      Etobicoke   \n287                                                M8Z      Etobicoke   \n288                                                M9Z   Not assigned   \n289                                                  ]           None   \n290                                                 \\n            \\n]   \n291  \\n\\n\\nNL\\n\\nNS\\n\\nPE\\n\\nNB\\n\\nQC\\n\\nON\\n\\nMB\\n...           NL\\n   \n292                                               NL\\n           NS\\n   \n293                                                A\\n            B\\n   \n\n              Neighbourhood  \n284               Mimico NW  \n285      The Queensway West  \n286   Royal York South West  \n287          South of Bloor  \n288            Not assigned  \n289                    None  \n290                    None  \n291                      NS  \n292                      PE  \n293                       C  "
                    }, 
                    "output_type": "execute_result"
                }
            ], 
            "source": "\nToronto_data.tail(10)"
        }, 
        {
            "execution_count": 36, 
            "cell_type": "code", 
            "metadata": {}, 
            "outputs": [
                {
                    "execution_count": 36, 
                    "metadata": {}, 
                    "data": {
                        "text/html": "<div>\n<style scoped>\n    .dataframe tbody tr th:only-of-type {\n        vertical-align: middle;\n    }\n\n    .dataframe tbody tr th {\n        vertical-align: top;\n    }\n\n    .dataframe thead th {\n        text-align: right;\n    }\n</style>\n<table border=\"1\" class=\"dataframe\">\n  <thead>\n    <tr style=\"text-align: right;\">\n      <th></th>\n      <th>Postcode</th>\n      <th>Borough</th>\n      <th>Neighbourhood</th>\n    </tr>\n  </thead>\n  <tbody>\n    <tr>\n      <th>1</th>\n      <td>M1A</td>\n      <td>Not assigned</td>\n      <td>Not assigned</td>\n    </tr>\n    <tr>\n      <th>2</th>\n      <td>M2A</td>\n      <td>Not assigned</td>\n      <td>Not assigned</td>\n    </tr>\n    <tr>\n      <th>3</th>\n      <td>M3A</td>\n      <td>North York</td>\n      <td>Parkwoods</td>\n    </tr>\n    <tr>\n      <th>4</th>\n      <td>M4A</td>\n      <td>North York</td>\n      <td>Victoria Village</td>\n    </tr>\n    <tr>\n      <th>5</th>\n      <td>M5A</td>\n      <td>Downtown Toronto</td>\n      <td>Harbourfront</td>\n    </tr>\n  </tbody>\n</table>\n</div>", 
                        "text/plain": "  Postcode            Borough      Neighbourhood\n1      M1A       Not assigned       Not assigned\n2      M2A       Not assigned       Not assigned\n3      M3A         North York          Parkwoods\n4      M4A         North York   Victoria Village\n5      M5A   Downtown Toronto       Harbourfront"
                    }, 
                    "output_type": "execute_result"
                }
            ], 
            "source": "Toronto_data = Toronto_data[:-5]\nToronto_data.head()"
        }, 
        {
            "execution_count": 37, 
            "cell_type": "code", 
            "metadata": {}, 
            "outputs": [
                {
                    "execution_count": 37, 
                    "metadata": {}, 
                    "data": {
                        "text/plain": "(288, 3)"
                    }, 
                    "output_type": "execute_result"
                }
            ], 
            "source": "Toronto_data.shape"
        }, 
        {
            "execution_count": 38, 
            "cell_type": "code", 
            "metadata": {}, 
            "outputs": [
                {
                    "execution_count": 38, 
                    "metadata": {}, 
                    "data": {
                        "text/html": "<div>\n<style scoped>\n    .dataframe tbody tr th:only-of-type {\n        vertical-align: middle;\n    }\n\n    .dataframe tbody tr th {\n        vertical-align: top;\n    }\n\n    .dataframe thead th {\n        text-align: right;\n    }\n</style>\n<table border=\"1\" class=\"dataframe\">\n  <thead>\n    <tr style=\"text-align: right;\">\n      <th></th>\n      <th>Postcode</th>\n      <th>Borough</th>\n      <th>Neighbourhood</th>\n    </tr>\n  </thead>\n  <tbody>\n    <tr>\n      <th>3</th>\n      <td>M3A</td>\n      <td>North York</td>\n      <td>Parkwoods</td>\n    </tr>\n    <tr>\n      <th>4</th>\n      <td>M4A</td>\n      <td>North York</td>\n      <td>Victoria Village</td>\n    </tr>\n    <tr>\n      <th>5</th>\n      <td>M5A</td>\n      <td>Downtown Toronto</td>\n      <td>Harbourfront</td>\n    </tr>\n    <tr>\n      <th>6</th>\n      <td>M5A</td>\n      <td>Downtown Toronto</td>\n      <td>Regent Park</td>\n    </tr>\n    <tr>\n      <th>7</th>\n      <td>M6A</td>\n      <td>North York</td>\n      <td>Lawrence Heights</td>\n    </tr>\n    <tr>\n      <th>8</th>\n      <td>M6A</td>\n      <td>North York</td>\n      <td>Lawrence Manor</td>\n    </tr>\n    <tr>\n      <th>9</th>\n      <td>M7A</td>\n      <td>Queen's Park</td>\n      <td>Not assigned</td>\n    </tr>\n    <tr>\n      <th>11</th>\n      <td>M9A</td>\n      <td>Etobicoke</td>\n      <td>Islington Avenue</td>\n    </tr>\n    <tr>\n      <th>12</th>\n      <td>M1B</td>\n      <td>Scarborough</td>\n      <td>Rouge</td>\n    </tr>\n    <tr>\n      <th>13</th>\n      <td>M1B</td>\n      <td>Scarborough</td>\n      <td>Malvern</td>\n    </tr>\n  </tbody>\n</table>\n</div>", 
                        "text/plain": "   Postcode            Borough      Neighbourhood\n3       M3A         North York          Parkwoods\n4       M4A         North York   Victoria Village\n5       M5A   Downtown Toronto       Harbourfront\n6       M5A   Downtown Toronto        Regent Park\n7       M6A         North York   Lawrence Heights\n8       M6A         North York     Lawrence Manor\n9       M7A       Queen's Park       Not assigned\n11      M9A          Etobicoke   Islington Avenue\n12      M1B        Scarborough              Rouge\n13      M1B        Scarborough            Malvern"
                    }, 
                    "output_type": "execute_result"
                }
            ], 
            "source": "Toronto_data=Toronto_data[~Toronto_data['Borough'].isin([\" Not assigned\"])]\nToronto_data.head(10)"
        }, 
        {
            "execution_count": 39, 
            "cell_type": "code", 
            "metadata": {}, 
            "outputs": [
                {
                    "execution_count": 39, 
                    "metadata": {}, 
                    "data": {
                        "text/plain": "(211, 3)"
                    }, 
                    "output_type": "execute_result"
                }
            ], 
            "source": "Toronto_data.shape"
        }, 
        {
            "execution_count": 40, 
            "cell_type": "code", 
            "metadata": {}, 
            "outputs": [
                {
                    "execution_count": 40, 
                    "metadata": {}, 
                    "data": {
                        "text/html": "<div>\n<style scoped>\n    .dataframe tbody tr th:only-of-type {\n        vertical-align: middle;\n    }\n\n    .dataframe tbody tr th {\n        vertical-align: top;\n    }\n\n    .dataframe thead th {\n        text-align: right;\n    }\n</style>\n<table border=\"1\" class=\"dataframe\">\n  <thead>\n    <tr style=\"text-align: right;\">\n      <th></th>\n      <th>Postcode</th>\n      <th>Borough</th>\n      <th>Neighbourhood</th>\n    </tr>\n  </thead>\n  <tbody>\n    <tr>\n      <th>0</th>\n      <td>M3A</td>\n      <td>North York</td>\n      <td>Parkwoods</td>\n    </tr>\n    <tr>\n      <th>1</th>\n      <td>M4A</td>\n      <td>North York</td>\n      <td>Victoria Village</td>\n    </tr>\n    <tr>\n      <th>2</th>\n      <td>M5A</td>\n      <td>Downtown Toronto</td>\n      <td>Harbourfront</td>\n    </tr>\n    <tr>\n      <th>3</th>\n      <td>M5A</td>\n      <td>Downtown Toronto</td>\n      <td>Regent Park</td>\n    </tr>\n    <tr>\n      <th>4</th>\n      <td>M6A</td>\n      <td>North York</td>\n      <td>Lawrence Heights</td>\n    </tr>\n    <tr>\n      <th>5</th>\n      <td>M6A</td>\n      <td>North York</td>\n      <td>Lawrence Manor</td>\n    </tr>\n    <tr>\n      <th>6</th>\n      <td>M7A</td>\n      <td>Queen's Park</td>\n      <td>Not assigned</td>\n    </tr>\n    <tr>\n      <th>7</th>\n      <td>M9A</td>\n      <td>Etobicoke</td>\n      <td>Islington Avenue</td>\n    </tr>\n    <tr>\n      <th>8</th>\n      <td>M1B</td>\n      <td>Scarborough</td>\n      <td>Rouge</td>\n    </tr>\n    <tr>\n      <th>9</th>\n      <td>M1B</td>\n      <td>Scarborough</td>\n      <td>Malvern</td>\n    </tr>\n  </tbody>\n</table>\n</div>", 
                        "text/plain": "  Postcode            Borough      Neighbourhood\n0      M3A         North York          Parkwoods\n1      M4A         North York   Victoria Village\n2      M5A   Downtown Toronto       Harbourfront\n3      M5A   Downtown Toronto        Regent Park\n4      M6A         North York   Lawrence Heights\n5      M6A         North York     Lawrence Manor\n6      M7A       Queen's Park       Not assigned\n7      M9A          Etobicoke   Islington Avenue\n8      M1B        Scarborough              Rouge\n9      M1B        Scarborough            Malvern"
                    }, 
                    "output_type": "execute_result"
                }
            ], 
            "source": "Toronto_data.reset_index(inplace=True, drop=True)\nToronto_data.head(10)"
        }, 
        {
            "execution_count": 41, 
            "cell_type": "code", 
            "metadata": {}, 
            "outputs": [
                {
                    "execution_count": 41, 
                    "metadata": {}, 
                    "data": {
                        "text/html": "<div>\n<style scoped>\n    .dataframe tbody tr th:only-of-type {\n        vertical-align: middle;\n    }\n\n    .dataframe tbody tr th {\n        vertical-align: top;\n    }\n\n    .dataframe thead th {\n        text-align: right;\n    }\n</style>\n<table border=\"1\" class=\"dataframe\">\n  <thead>\n    <tr style=\"text-align: right;\">\n      <th></th>\n      <th>Postcode</th>\n      <th>Borough</th>\n      <th>Neighbourhood</th>\n    </tr>\n  </thead>\n  <tbody>\n    <tr>\n      <th>0</th>\n      <td>M3A</td>\n      <td>North York</td>\n      <td>Parkwoods</td>\n    </tr>\n    <tr>\n      <th>1</th>\n      <td>M4A</td>\n      <td>North York</td>\n      <td>Victoria Village</td>\n    </tr>\n    <tr>\n      <th>2</th>\n      <td>M5A</td>\n      <td>Downtown Toronto</td>\n      <td>Harbourfront</td>\n    </tr>\n    <tr>\n      <th>3</th>\n      <td>M5A</td>\n      <td>Downtown Toronto</td>\n      <td>Regent Park</td>\n    </tr>\n    <tr>\n      <th>4</th>\n      <td>M6A</td>\n      <td>North York</td>\n      <td>Lawrence Heights</td>\n    </tr>\n    <tr>\n      <th>5</th>\n      <td>M6A</td>\n      <td>North York</td>\n      <td>Lawrence Manor</td>\n    </tr>\n    <tr>\n      <th>6</th>\n      <td>M7A</td>\n      <td>Queen's Park</td>\n      <td>Queen's Park</td>\n    </tr>\n    <tr>\n      <th>7</th>\n      <td>M9A</td>\n      <td>Etobicoke</td>\n      <td>Islington Avenue</td>\n    </tr>\n    <tr>\n      <th>8</th>\n      <td>M1B</td>\n      <td>Scarborough</td>\n      <td>Rouge</td>\n    </tr>\n    <tr>\n      <th>9</th>\n      <td>M1B</td>\n      <td>Scarborough</td>\n      <td>Malvern</td>\n    </tr>\n  </tbody>\n</table>\n</div>", 
                        "text/plain": "  Postcode            Borough      Neighbourhood\n0      M3A         North York          Parkwoods\n1      M4A         North York   Victoria Village\n2      M5A   Downtown Toronto       Harbourfront\n3      M5A   Downtown Toronto        Regent Park\n4      M6A         North York   Lawrence Heights\n5      M6A         North York     Lawrence Manor\n6      M7A       Queen's Park       Queen's Park\n7      M9A          Etobicoke   Islington Avenue\n8      M1B        Scarborough              Rouge\n9      M1B        Scarborough            Malvern"
                    }, 
                    "output_type": "execute_result"
                }
            ], 
            "source": "Toronto_data['Neighbourhood'][Toronto_data['Neighbourhood']==' Not assigned'] = Toronto_data['Borough'].values\nToronto_data.head(10)"
        }, 
        {
            "execution_count": 42, 
            "cell_type": "code", 
            "metadata": {}, 
            "outputs": [
                {
                    "execution_count": 42, 
                    "metadata": {}, 
                    "data": {
                        "text/html": "<div>\n<style scoped>\n    .dataframe tbody tr th:only-of-type {\n        vertical-align: middle;\n    }\n\n    .dataframe tbody tr th {\n        vertical-align: top;\n    }\n\n    .dataframe thead th {\n        text-align: right;\n    }\n</style>\n<table border=\"1\" class=\"dataframe\">\n  <thead>\n    <tr style=\"text-align: right;\">\n      <th></th>\n      <th>Postcode</th>\n      <th>Borough</th>\n      <th>Neighbourhood</th>\n    </tr>\n  </thead>\n  <tbody>\n    <tr>\n      <th>0</th>\n      <td>M1B</td>\n      <td>Scarborough</td>\n      <td>Rouge,  Malvern</td>\n    </tr>\n    <tr>\n      <th>1</th>\n      <td>M1C</td>\n      <td>Scarborough</td>\n      <td>Highland Creek,  Rouge Hill,  Port Union</td>\n    </tr>\n    <tr>\n      <th>2</th>\n      <td>M1E</td>\n      <td>Scarborough</td>\n      <td>Guildwood,  Morningside,  West Hill</td>\n    </tr>\n    <tr>\n      <th>3</th>\n      <td>M1G</td>\n      <td>Scarborough</td>\n      <td>Woburn</td>\n    </tr>\n    <tr>\n      <th>4</th>\n      <td>M1H</td>\n      <td>Scarborough</td>\n      <td>Cedarbrae</td>\n    </tr>\n    <tr>\n      <th>5</th>\n      <td>M1J</td>\n      <td>Scarborough</td>\n      <td>Scarborough Village</td>\n    </tr>\n    <tr>\n      <th>6</th>\n      <td>M1K</td>\n      <td>Scarborough</td>\n      <td>East Birchmount Park,  Ionview,  Kennedy Park</td>\n    </tr>\n    <tr>\n      <th>7</th>\n      <td>M1L</td>\n      <td>Scarborough</td>\n      <td>Clairlea,  Golden Mile,  Oakridge</td>\n    </tr>\n    <tr>\n      <th>8</th>\n      <td>M1M</td>\n      <td>Scarborough</td>\n      <td>Cliffcrest,  Cliffside,  Scarborough Village ...</td>\n    </tr>\n    <tr>\n      <th>9</th>\n      <td>M1N</td>\n      <td>Scarborough</td>\n      <td>Birch Cliff,  Cliffside West</td>\n    </tr>\n  </tbody>\n</table>\n</div>", 
                        "text/plain": "  Postcode       Borough                                      Neighbourhood\n0      M1B   Scarborough                                    Rouge,  Malvern\n1      M1C   Scarborough           Highland Creek,  Rouge Hill,  Port Union\n2      M1E   Scarborough                Guildwood,  Morningside,  West Hill\n3      M1G   Scarborough                                             Woburn\n4      M1H   Scarborough                                          Cedarbrae\n5      M1J   Scarborough                                Scarborough Village\n6      M1K   Scarborough      East Birchmount Park,  Ionview,  Kennedy Park\n7      M1L   Scarborough                  Clairlea,  Golden Mile,  Oakridge\n8      M1M   Scarborough   Cliffcrest,  Cliffside,  Scarborough Village ...\n9      M1N   Scarborough                       Birch Cliff,  Cliffside West"
                    }, 
                    "output_type": "execute_result"
                }
            ], 
            "source": "Toronto_data = Toronto_data.groupby('Postcode').agg({'Borough':'first', \n                             'Neighbourhood': ', '.join}).reset_index()\nToronto_data.head(10)"
        }, 
        {
            "execution_count": 43, 
            "cell_type": "code", 
            "metadata": {}, 
            "outputs": [
                {
                    "execution_count": 43, 
                    "metadata": {}, 
                    "data": {
                        "text/plain": "(103, 3)"
                    }, 
                    "output_type": "execute_result"
                }
            ], 
            "source": "Toronto_data.shape"
        }
    ], 
    "metadata": {
        "kernelspec": {
            "display_name": "Python 3.5", 
            "name": "python3", 
            "language": "python"
        }, 
        "language_info": {
            "mimetype": "text/x-python", 
            "nbconvert_exporter": "python", 
            "version": "3.5.5", 
            "name": "python", 
            "file_extension": ".py", 
            "pygments_lexer": "ipython3", 
            "codemirror_mode": {
                "version": 3, 
                "name": "ipython"
            }
        }
    }, 
    "nbformat": 4
}